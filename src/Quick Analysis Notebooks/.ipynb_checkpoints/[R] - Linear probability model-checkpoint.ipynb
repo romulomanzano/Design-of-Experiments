{
 "cells": [
  {
   "cell_type": "code",
   "execution_count": 1,
   "metadata": {},
   "outputs": [
    {
     "name": "stderr",
     "output_type": "stream",
     "text": [
      "\n",
      "Please cite as: \n",
      "\n",
      " Hlavac, Marek (2015). stargazer: Well-Formatted Regression and Summary Statistics Tables.\n",
      " R package version 5.2. http://CRAN.R-project.org/package=stargazer \n",
      "\n"
     ]
    }
   ],
   "source": [
    "library(stargazer)"
   ]
  },
  {
   "cell_type": "code",
   "execution_count": 2,
   "metadata": {
    "collapsed": true
   },
   "outputs": [],
   "source": [
    "df <- read.csv('cleaned_final_data.csv')"
   ]
  },
  {
   "cell_type": "code",
   "execution_count": 3,
   "metadata": {},
   "outputs": [
    {
     "data": {
      "text/html": [
       "<table>\n",
       "<thead><tr><th scope=col>Nonwhite</th><th scope=col>Child</th><th scope=col>Neighborhood</th><th scope=col>Response</th><th scope=col>NumDaysUp</th></tr></thead>\n",
       "<tbody>\n",
       "\t<tr><td>0                </td><td>0                </td><td>FinancialDistrict</td><td>1                </td><td>10               </td></tr>\n",
       "\t<tr><td>1                </td><td>1                </td><td>MidtownEast      </td><td>1                </td><td>27               </td></tr>\n",
       "\t<tr><td>0                </td><td>1                </td><td>FinancialDistrict</td><td>0                </td><td> 3               </td></tr>\n",
       "\t<tr><td>0                </td><td>1                </td><td>SoHo             </td><td>0                </td><td>15               </td></tr>\n",
       "\t<tr><td>0                </td><td>0                </td><td>MidtownEast      </td><td>1                </td><td>17               </td></tr>\n",
       "\t<tr><td>0                </td><td>1                </td><td>UpperWestSide    </td><td>0                </td><td>12               </td></tr>\n",
       "</tbody>\n",
       "</table>\n"
      ],
      "text/latex": [
       "\\begin{tabular}{r|lllll}\n",
       " Nonwhite & Child & Neighborhood & Response & NumDaysUp\\\\\n",
       "\\hline\n",
       "\t 0                 & 0                 & FinancialDistrict & 1                 & 10               \\\\\n",
       "\t 1                 & 1                 & MidtownEast       & 1                 & 27               \\\\\n",
       "\t 0                 & 1                 & FinancialDistrict & 0                 &  3               \\\\\n",
       "\t 0                 & 1                 & SoHo              & 0                 & 15               \\\\\n",
       "\t 0                 & 0                 & MidtownEast       & 1                 & 17               \\\\\n",
       "\t 0                 & 1                 & UpperWestSide     & 0                 & 12               \\\\\n",
       "\\end{tabular}\n"
      ],
      "text/markdown": [
       "\n",
       "Nonwhite | Child | Neighborhood | Response | NumDaysUp | \n",
       "|---|---|---|---|---|---|\n",
       "| 0                 | 0                 | FinancialDistrict | 1                 | 10                | \n",
       "| 1                 | 1                 | MidtownEast       | 1                 | 27                | \n",
       "| 0                 | 1                 | FinancialDistrict | 0                 |  3                | \n",
       "| 0                 | 1                 | SoHo              | 0                 | 15                | \n",
       "| 0                 | 0                 | MidtownEast       | 1                 | 17                | \n",
       "| 0                 | 1                 | UpperWestSide     | 0                 | 12                | \n",
       "\n",
       "\n"
      ],
      "text/plain": [
       "  Nonwhite Child Neighborhood      Response NumDaysUp\n",
       "1 0        0     FinancialDistrict 1        10       \n",
       "2 1        1     MidtownEast       1        27       \n",
       "3 0        1     FinancialDistrict 0         3       \n",
       "4 0        1     SoHo              0        15       \n",
       "5 0        0     MidtownEast       1        17       \n",
       "6 0        1     UpperWestSide     0        12       "
      ]
     },
     "metadata": {},
     "output_type": "display_data"
    }
   ],
   "source": [
    "head(df)"
   ]
  },
  {
   "cell_type": "code",
   "execution_count": 4,
   "metadata": {
    "collapsed": true
   },
   "outputs": [],
   "source": [
    "df$Neighborhood <- as.factor(df$Neighborhood)"
   ]
  },
  {
   "cell_type": "code",
   "execution_count": 5,
   "metadata": {
    "collapsed": true
   },
   "outputs": [],
   "source": [
    "model <- glm(Response ~ Nonwhite + Child + Nonwhite*Child + Neighborhood + NumDaysUp, data = df)"
   ]
  },
  {
   "cell_type": "code",
   "execution_count": 6,
   "metadata": {},
   "outputs": [
    {
     "data": {
      "text/plain": [
       "\n",
       "Call:\n",
       "glm(formula = Response ~ Nonwhite + Child + Nonwhite * Child + \n",
       "    Neighborhood + NumDaysUp, data = df)\n",
       "\n",
       "Deviance Residuals: \n",
       "    Min       1Q   Median       3Q      Max  \n",
       "-0.9449  -0.4918   0.1849   0.3590   0.6632  \n",
       "\n",
       "Coefficients:\n",
       "                                Estimate Std. Error t value Pr(>|t|)   \n",
       "(Intercept)                     1.238575   0.477113   2.596  0.00996 **\n",
       "Nonwhite                       -0.182281   0.080067  -2.277  0.02361 * \n",
       "Child                          -0.208099   0.075987  -2.739  0.00659 **\n",
       "NeighborhoodChelsea            -0.296868   0.496082  -0.598  0.55007   \n",
       "NeighborhoodChinatown/LitItaly -0.955803   0.670414  -1.426  0.15514   \n",
       "NeighborhoodDowntown            0.118237   0.668186   0.177  0.85968   \n",
       "NeighborhoodEastHarlem         -0.268951   0.488626  -0.550  0.58250   \n",
       "NeighborhoodEastVillage        -0.531104   0.483689  -1.098  0.27320   \n",
       "NeighborhoodFinancialDistrict  -0.355591   0.499206  -0.712  0.47690   \n",
       "NeighborhoodGramercy           -0.384442   0.494478  -0.777  0.43758   \n",
       "NeighborhoodGreenwichVillage   -0.198943   0.527282  -0.377  0.70626   \n",
       "NeighborhoodHarlem/Morningside -0.323006   0.486232  -0.664  0.50708   \n",
       "NeighborhoodInwood/WashHts     -0.345152   0.482373  -0.716  0.47492   \n",
       "NeighborhoodLowerEastSide      -0.432437   0.490992  -0.881  0.37926   \n",
       "NeighborhoodMidtown            -0.249332   0.502445  -0.496  0.62014   \n",
       "NeighborhoodMidtownEast        -0.266024   0.481287  -0.553  0.58091   \n",
       "NeighborhoodMidtownWest        -0.161708   0.485527  -0.333  0.73936   \n",
       "NeighborhoodMurrayHill         -0.355916   0.482463  -0.738  0.46135   \n",
       "NeighborhoodNolita/Bowery      -0.019920   0.576703  -0.035  0.97247   \n",
       "NeighborhoodSoHo               -0.546892   0.520111  -1.051  0.29400   \n",
       "NeighborhoodTriBeCa            -0.001579   0.517213  -0.003  0.99757   \n",
       "NeighborhoodUnionSquare        -0.306822   0.544548  -0.563  0.57361   \n",
       "NeighborhoodUpperEastSide      -0.431579   0.479741  -0.900  0.36915   \n",
       "NeighborhoodUpperWestSide      -0.304832   0.482365  -0.632  0.52797   \n",
       "NeighborhoodWestVillage        -0.483906   0.528429  -0.916  0.36064   \n",
       "NumDaysUp                      -0.008227   0.003119  -2.638  0.00884 **\n",
       "Nonwhite:Child                  0.156969   0.113002   1.389  0.16598   \n",
       "---\n",
       "Signif. codes:  0 ‘***’ 0.001 ‘**’ 0.01 ‘*’ 0.05 ‘.’ 0.1 ‘ ’ 1\n",
       "\n",
       "(Dispersion parameter for gaussian family taken to be 0.2194581)\n",
       "\n",
       "    Null deviance: 66.124  on 289  degrees of freedom\n",
       "Residual deviance: 57.717  on 263  degrees of freedom\n",
       "AIC: 410.83\n",
       "\n",
       "Number of Fisher Scoring iterations: 2\n"
      ]
     },
     "metadata": {},
     "output_type": "display_data"
    }
   ],
   "source": [
    "summary(model)"
   ]
  },
  {
   "cell_type": "markdown",
   "metadata": {},
   "source": [
    "1. Introduction - Boris\n",
    "2. Experimental Design - Boris\n",
    "3. Data Generation - Ryan\n",
    "4. Analysis/ Results - Rom\n",
    "5. Conclusion - Everyone"
   ]
  }
 ],
 "metadata": {
  "anaconda-cloud": {},
  "kernelspec": {
   "display_name": "R",
   "language": "R",
   "name": "ir"
  },
  "language_info": {
   "codemirror_mode": "r",
   "file_extension": ".r",
   "mimetype": "text/x-r-source",
   "name": "R",
   "pygments_lexer": "r",
   "version": "3.4.2"
  }
 },
 "nbformat": 4,
 "nbformat_minor": 1
}
