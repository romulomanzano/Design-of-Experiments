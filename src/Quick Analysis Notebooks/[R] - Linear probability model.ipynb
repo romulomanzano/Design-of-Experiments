{
 "cells": [
  {
   "cell_type": "code",
   "execution_count": 1,
   "metadata": {},
   "outputs": [
    {
     "name": "stderr",
     "output_type": "stream",
     "text": [
      "\n",
      "Please cite as: \n",
      "\n",
      " Hlavac, Marek (2015). stargazer: Well-Formatted Regression and Summary Statistics Tables.\n",
      " R package version 5.2. http://CRAN.R-project.org/package=stargazer \n",
      "\n"
     ]
    }
   ],
   "source": [
    "library(stargazer)"
   ]
  },
  {
   "cell_type": "code",
   "execution_count": 2,
   "metadata": {
    "collapsed": true
   },
   "outputs": [],
   "source": [
    "df <- read.csv('cleaned_final_data.csv')"
   ]
  },
  {
   "cell_type": "code",
   "execution_count": 3,
   "metadata": {},
   "outputs": [
    {
     "data": {
      "text/html": [
       "<table>\n",
       "<thead><tr><th scope=col>Nonwhite</th><th scope=col>Child</th><th scope=col>Neighborhood</th><th scope=col>Response</th><th scope=col>NumDaysUp</th><th scope=col>Subject</th></tr></thead>\n",
       "<tbody>\n",
       "\t<tr><td>0                </td><td>0                </td><td>FinancialDistrict</td><td>1                </td><td>10               </td><td>1                </td></tr>\n",
       "\t<tr><td>1                </td><td>1                </td><td>MidtownEast      </td><td>1                </td><td>27               </td><td>1                </td></tr>\n",
       "\t<tr><td>0                </td><td>1                </td><td>FinancialDistrict</td><td>0                </td><td> 3               </td><td>1                </td></tr>\n",
       "\t<tr><td>0                </td><td>1                </td><td>SoHo             </td><td>0                </td><td>15               </td><td>1                </td></tr>\n",
       "\t<tr><td>0                </td><td>0                </td><td>MidtownEast      </td><td>1                </td><td>17               </td><td>1                </td></tr>\n",
       "\t<tr><td>0                </td><td>1                </td><td>UpperWestSide    </td><td>0                </td><td>12               </td><td>1                </td></tr>\n",
       "\t<tr><td>0                </td><td>1                </td><td>UpperEastSide    </td><td>0                </td><td>10               </td><td>1                </td></tr>\n",
       "\t<tr><td>1                </td><td>1                </td><td>UpperEastSide    </td><td>0                </td><td>10               </td><td>1                </td></tr>\n",
       "\t<tr><td>1                </td><td>0                </td><td>Gramercy         </td><td>0                </td><td>10               </td><td>1                </td></tr>\n",
       "\t<tr><td>1                </td><td>0                </td><td>Gramercy         </td><td>0                </td><td> 9               </td><td>1                </td></tr>\n",
       "\t<tr><td>0                </td><td>0                </td><td>FinancialDistrict</td><td>1                </td><td>25               </td><td>1                </td></tr>\n",
       "\t<tr><td>0                </td><td>1                </td><td>UpperWestSide    </td><td>1                </td><td> 3               </td><td>1                </td></tr>\n",
       "\t<tr><td>0                </td><td>0                </td><td>EastHarlem       </td><td>1                </td><td> 3               </td><td>1                </td></tr>\n",
       "\t<tr><td>0                </td><td>0                </td><td>MidtownWest      </td><td>1                </td><td> 7               </td><td>1                </td></tr>\n",
       "\t<tr><td>0                </td><td>0                </td><td>EastVillage      </td><td>1                </td><td> 5               </td><td>1                </td></tr>\n",
       "\t<tr><td>1                </td><td>1                </td><td>Inwood/WashHts   </td><td>1                </td><td> 3               </td><td>1                </td></tr>\n",
       "\t<tr><td>1                </td><td>0                </td><td>Chelsea          </td><td>1                </td><td> 7               </td><td>1                </td></tr>\n",
       "\t<tr><td>0                </td><td>1                </td><td>MurrayHill       </td><td>1                </td><td> 3               </td><td>1                </td></tr>\n",
       "\t<tr><td>0                </td><td>0                </td><td>EastHarlem       </td><td>1                </td><td>20               </td><td>1                </td></tr>\n",
       "\t<tr><td>0                </td><td>0                </td><td>MidtownEast      </td><td>1                </td><td>26               </td><td>1                </td></tr>\n",
       "\t<tr><td>0                </td><td>1                </td><td>UpperEastSide    </td><td>0                </td><td>13               </td><td>1                </td></tr>\n",
       "\t<tr><td>1                </td><td>1                </td><td>MidtownEast      </td><td>1                </td><td>10               </td><td>1                </td></tr>\n",
       "\t<tr><td>1                </td><td>1                </td><td>MurrayHill       </td><td>1                </td><td> 8               </td><td>1                </td></tr>\n",
       "\t<tr><td>0                </td><td>1                </td><td>MidtownEast      </td><td>1                </td><td>12               </td><td>1                </td></tr>\n",
       "\t<tr><td>0                </td><td>1                </td><td>UpperWestSide    </td><td>1                </td><td> 4               </td><td>1                </td></tr>\n",
       "\t<tr><td>1                </td><td>1                </td><td>MidtownEast      </td><td>0                </td><td>33               </td><td>1                </td></tr>\n",
       "\t<tr><td>0                </td><td>1                </td><td>MidtownEast      </td><td>1                </td><td>33               </td><td>1                </td></tr>\n",
       "\t<tr><td>1                </td><td>0                </td><td>EastVillage      </td><td>0                </td><td>19               </td><td>1                </td></tr>\n",
       "\t<tr><td>0                </td><td>1                </td><td>Inwood/WashHts   </td><td>0                </td><td> 7               </td><td>1                </td></tr>\n",
       "\t<tr><td>1                </td><td>1                </td><td>EastHarlem       </td><td>0                </td><td>28               </td><td>1                </td></tr>\n",
       "\t<tr><td>⋮</td><td>⋮</td><td>⋮</td><td>⋮</td><td>⋮</td><td>⋮</td></tr>\n",
       "\t<tr><td>1                 </td><td>0                 </td><td>UpperEastSide     </td><td>0                 </td><td> 6                </td><td>1                 </td></tr>\n",
       "\t<tr><td>1                 </td><td>0                 </td><td>EastVillage       </td><td>1                 </td><td> 8                </td><td>1                 </td></tr>\n",
       "\t<tr><td>0                 </td><td>0                 </td><td>UpperWestSide     </td><td>1                 </td><td> 7                </td><td>1                 </td></tr>\n",
       "\t<tr><td>0                 </td><td>0                 </td><td>UpperEastSide     </td><td>1                 </td><td>11                </td><td>1                 </td></tr>\n",
       "\t<tr><td>0                 </td><td>1                 </td><td>EastVillage       </td><td>1                 </td><td> 9                </td><td>1                 </td></tr>\n",
       "\t<tr><td>1                 </td><td>0                 </td><td>MidtownWest       </td><td>1                 </td><td> 8                </td><td>1                 </td></tr>\n",
       "\t<tr><td>1                 </td><td>1                 </td><td>MurrayHill        </td><td>0                 </td><td> 5                </td><td>1                 </td></tr>\n",
       "\t<tr><td>0                 </td><td>1                 </td><td>Inwood/WashHts    </td><td>0                 </td><td>13                </td><td>1                 </td></tr>\n",
       "\t<tr><td>0                 </td><td>1                 </td><td>Harlem/Morningside</td><td>0                 </td><td>26                </td><td>1                 </td></tr>\n",
       "\t<tr><td>1                 </td><td>1                 </td><td>UpperWestSide     </td><td>0                 </td><td>26                </td><td>1                 </td></tr>\n",
       "\t<tr><td>0                 </td><td>1                 </td><td>UpperEastSide     </td><td>0                 </td><td>34                </td><td>1                 </td></tr>\n",
       "\t<tr><td>1                 </td><td>1                 </td><td>UpperWestSide     </td><td>1                 </td><td> 2                </td><td>1                 </td></tr>\n",
       "\t<tr><td>1                 </td><td>1                 </td><td>LowerEastSide     </td><td>1                 </td><td> 6                </td><td>1                 </td></tr>\n",
       "\t<tr><td>1                 </td><td>0                 </td><td>UpperEastSide     </td><td>1                 </td><td>19                </td><td>1                 </td></tr>\n",
       "\t<tr><td>1                 </td><td>0                 </td><td>UpperWestSide     </td><td>0                 </td><td> 5                </td><td>1                 </td></tr>\n",
       "\t<tr><td>1                 </td><td>1                 </td><td>UpperWestSide     </td><td>1                 </td><td> 5                </td><td>1                 </td></tr>\n",
       "\t<tr><td>1                 </td><td>1                 </td><td>Harlem/Morningside</td><td>1                 </td><td> 6                </td><td>1                 </td></tr>\n",
       "\t<tr><td>1                 </td><td>1                 </td><td>Harlem/Morningside</td><td>1                 </td><td> 7                </td><td>1                 </td></tr>\n",
       "\t<tr><td>0                 </td><td>0                 </td><td>EastVillage       </td><td>1                 </td><td>35                </td><td>1                 </td></tr>\n",
       "\t<tr><td>0                 </td><td>0                 </td><td>UpperWestSide     </td><td>1                 </td><td>12                </td><td>1                 </td></tr>\n",
       "\t<tr><td>1                 </td><td>1                 </td><td>UpperWestSide     </td><td>0                 </td><td>35                </td><td>1                 </td></tr>\n",
       "\t<tr><td>0                 </td><td>0                 </td><td>Chelsea           </td><td>1                 </td><td> 8                </td><td>1                 </td></tr>\n",
       "\t<tr><td>1                 </td><td>0                 </td><td>LowerEastSide     </td><td>0                 </td><td>16                </td><td>1                 </td></tr>\n",
       "\t<tr><td>0                 </td><td>0                 </td><td>MidtownEast       </td><td>0                 </td><td>25                </td><td>1                 </td></tr>\n",
       "\t<tr><td>0                 </td><td>0                 </td><td>BatteryPark       </td><td>1                 </td><td>29                </td><td>1                 </td></tr>\n",
       "\t<tr><td>1                 </td><td>0                 </td><td>UpperEastSide     </td><td>1                 </td><td>26                </td><td>1                 </td></tr>\n",
       "\t<tr><td>0                 </td><td>0                 </td><td>UpperWestSide     </td><td>1                 </td><td> 3                </td><td>1                 </td></tr>\n",
       "\t<tr><td>0                 </td><td>0                 </td><td>MidtownEast       </td><td>1                 </td><td>36                </td><td>1                 </td></tr>\n",
       "\t<tr><td>0                 </td><td>0                 </td><td>MidtownWest       </td><td>1                 </td><td> 5                </td><td>1                 </td></tr>\n",
       "\t<tr><td>0                 </td><td>0                 </td><td>EastVillage       </td><td>1                 </td><td> 8                </td><td>1                 </td></tr>\n",
       "</tbody>\n",
       "</table>\n"
      ],
      "text/latex": [
       "\\begin{tabular}{r|llllll}\n",
       " Nonwhite & Child & Neighborhood & Response & NumDaysUp & Subject\\\\\n",
       "\\hline\n",
       "\t 0                 & 0                 & FinancialDistrict & 1                 & 10                & 1                \\\\\n",
       "\t 1                 & 1                 & MidtownEast       & 1                 & 27                & 1                \\\\\n",
       "\t 0                 & 1                 & FinancialDistrict & 0                 &  3                & 1                \\\\\n",
       "\t 0                 & 1                 & SoHo              & 0                 & 15                & 1                \\\\\n",
       "\t 0                 & 0                 & MidtownEast       & 1                 & 17                & 1                \\\\\n",
       "\t 0                 & 1                 & UpperWestSide     & 0                 & 12                & 1                \\\\\n",
       "\t 0                 & 1                 & UpperEastSide     & 0                 & 10                & 1                \\\\\n",
       "\t 1                 & 1                 & UpperEastSide     & 0                 & 10                & 1                \\\\\n",
       "\t 1                 & 0                 & Gramercy          & 0                 & 10                & 1                \\\\\n",
       "\t 1                 & 0                 & Gramercy          & 0                 &  9                & 1                \\\\\n",
       "\t 0                 & 0                 & FinancialDistrict & 1                 & 25                & 1                \\\\\n",
       "\t 0                 & 1                 & UpperWestSide     & 1                 &  3                & 1                \\\\\n",
       "\t 0                 & 0                 & EastHarlem        & 1                 &  3                & 1                \\\\\n",
       "\t 0                 & 0                 & MidtownWest       & 1                 &  7                & 1                \\\\\n",
       "\t 0                 & 0                 & EastVillage       & 1                 &  5                & 1                \\\\\n",
       "\t 1                 & 1                 & Inwood/WashHts    & 1                 &  3                & 1                \\\\\n",
       "\t 1                 & 0                 & Chelsea           & 1                 &  7                & 1                \\\\\n",
       "\t 0                 & 1                 & MurrayHill        & 1                 &  3                & 1                \\\\\n",
       "\t 0                 & 0                 & EastHarlem        & 1                 & 20                & 1                \\\\\n",
       "\t 0                 & 0                 & MidtownEast       & 1                 & 26                & 1                \\\\\n",
       "\t 0                 & 1                 & UpperEastSide     & 0                 & 13                & 1                \\\\\n",
       "\t 1                 & 1                 & MidtownEast       & 1                 & 10                & 1                \\\\\n",
       "\t 1                 & 1                 & MurrayHill        & 1                 &  8                & 1                \\\\\n",
       "\t 0                 & 1                 & MidtownEast       & 1                 & 12                & 1                \\\\\n",
       "\t 0                 & 1                 & UpperWestSide     & 1                 &  4                & 1                \\\\\n",
       "\t 1                 & 1                 & MidtownEast       & 0                 & 33                & 1                \\\\\n",
       "\t 0                 & 1                 & MidtownEast       & 1                 & 33                & 1                \\\\\n",
       "\t 1                 & 0                 & EastVillage       & 0                 & 19                & 1                \\\\\n",
       "\t 0                 & 1                 & Inwood/WashHts    & 0                 &  7                & 1                \\\\\n",
       "\t 1                 & 1                 & EastHarlem        & 0                 & 28                & 1                \\\\\n",
       "\t ⋮ & ⋮ & ⋮ & ⋮ & ⋮ & ⋮\\\\\n",
       "\t 1                  & 0                  & UpperEastSide      & 0                  &  6                 & 1                 \\\\\n",
       "\t 1                  & 0                  & EastVillage        & 1                  &  8                 & 1                 \\\\\n",
       "\t 0                  & 0                  & UpperWestSide      & 1                  &  7                 & 1                 \\\\\n",
       "\t 0                  & 0                  & UpperEastSide      & 1                  & 11                 & 1                 \\\\\n",
       "\t 0                  & 1                  & EastVillage        & 1                  &  9                 & 1                 \\\\\n",
       "\t 1                  & 0                  & MidtownWest        & 1                  &  8                 & 1                 \\\\\n",
       "\t 1                  & 1                  & MurrayHill         & 0                  &  5                 & 1                 \\\\\n",
       "\t 0                  & 1                  & Inwood/WashHts     & 0                  & 13                 & 1                 \\\\\n",
       "\t 0                  & 1                  & Harlem/Morningside & 0                  & 26                 & 1                 \\\\\n",
       "\t 1                  & 1                  & UpperWestSide      & 0                  & 26                 & 1                 \\\\\n",
       "\t 0                  & 1                  & UpperEastSide      & 0                  & 34                 & 1                 \\\\\n",
       "\t 1                  & 1                  & UpperWestSide      & 1                  &  2                 & 1                 \\\\\n",
       "\t 1                  & 1                  & LowerEastSide      & 1                  &  6                 & 1                 \\\\\n",
       "\t 1                  & 0                  & UpperEastSide      & 1                  & 19                 & 1                 \\\\\n",
       "\t 1                  & 0                  & UpperWestSide      & 0                  &  5                 & 1                 \\\\\n",
       "\t 1                  & 1                  & UpperWestSide      & 1                  &  5                 & 1                 \\\\\n",
       "\t 1                  & 1                  & Harlem/Morningside & 1                  &  6                 & 1                 \\\\\n",
       "\t 1                  & 1                  & Harlem/Morningside & 1                  &  7                 & 1                 \\\\\n",
       "\t 0                  & 0                  & EastVillage        & 1                  & 35                 & 1                 \\\\\n",
       "\t 0                  & 0                  & UpperWestSide      & 1                  & 12                 & 1                 \\\\\n",
       "\t 1                  & 1                  & UpperWestSide      & 0                  & 35                 & 1                 \\\\\n",
       "\t 0                  & 0                  & Chelsea            & 1                  &  8                 & 1                 \\\\\n",
       "\t 1                  & 0                  & LowerEastSide      & 0                  & 16                 & 1                 \\\\\n",
       "\t 0                  & 0                  & MidtownEast        & 0                  & 25                 & 1                 \\\\\n",
       "\t 0                  & 0                  & BatteryPark        & 1                  & 29                 & 1                 \\\\\n",
       "\t 1                  & 0                  & UpperEastSide      & 1                  & 26                 & 1                 \\\\\n",
       "\t 0                  & 0                  & UpperWestSide      & 1                  &  3                 & 1                 \\\\\n",
       "\t 0                  & 0                  & MidtownEast        & 1                  & 36                 & 1                 \\\\\n",
       "\t 0                  & 0                  & MidtownWest        & 1                  &  5                 & 1                 \\\\\n",
       "\t 0                  & 0                  & EastVillage        & 1                  &  8                 & 1                 \\\\\n",
       "\\end{tabular}\n"
      ],
      "text/markdown": [
       "\n",
       "Nonwhite | Child | Neighborhood | Response | NumDaysUp | Subject | \n",
       "|---|---|---|---|---|---|---|---|---|---|---|---|---|---|---|---|---|---|---|---|---|---|---|---|---|---|---|---|---|---|---|---|---|---|---|---|---|---|---|---|---|---|---|---|---|---|---|---|---|---|---|---|---|---|---|---|---|---|---|---|---|\n",
       "| 0                 | 0                 | FinancialDistrict | 1                 | 10                | 1                 | \n",
       "| 1                 | 1                 | MidtownEast       | 1                 | 27                | 1                 | \n",
       "| 0                 | 1                 | FinancialDistrict | 0                 |  3                | 1                 | \n",
       "| 0                 | 1                 | SoHo              | 0                 | 15                | 1                 | \n",
       "| 0                 | 0                 | MidtownEast       | 1                 | 17                | 1                 | \n",
       "| 0                 | 1                 | UpperWestSide     | 0                 | 12                | 1                 | \n",
       "| 0                 | 1                 | UpperEastSide     | 0                 | 10                | 1                 | \n",
       "| 1                 | 1                 | UpperEastSide     | 0                 | 10                | 1                 | \n",
       "| 1                 | 0                 | Gramercy          | 0                 | 10                | 1                 | \n",
       "| 1                 | 0                 | Gramercy          | 0                 |  9                | 1                 | \n",
       "| 0                 | 0                 | FinancialDistrict | 1                 | 25                | 1                 | \n",
       "| 0                 | 1                 | UpperWestSide     | 1                 |  3                | 1                 | \n",
       "| 0                 | 0                 | EastHarlem        | 1                 |  3                | 1                 | \n",
       "| 0                 | 0                 | MidtownWest       | 1                 |  7                | 1                 | \n",
       "| 0                 | 0                 | EastVillage       | 1                 |  5                | 1                 | \n",
       "| 1                 | 1                 | Inwood/WashHts    | 1                 |  3                | 1                 | \n",
       "| 1                 | 0                 | Chelsea           | 1                 |  7                | 1                 | \n",
       "| 0                 | 1                 | MurrayHill        | 1                 |  3                | 1                 | \n",
       "| 0                 | 0                 | EastHarlem        | 1                 | 20                | 1                 | \n",
       "| 0                 | 0                 | MidtownEast       | 1                 | 26                | 1                 | \n",
       "| 0                 | 1                 | UpperEastSide     | 0                 | 13                | 1                 | \n",
       "| 1                 | 1                 | MidtownEast       | 1                 | 10                | 1                 | \n",
       "| 1                 | 1                 | MurrayHill        | 1                 |  8                | 1                 | \n",
       "| 0                 | 1                 | MidtownEast       | 1                 | 12                | 1                 | \n",
       "| 0                 | 1                 | UpperWestSide     | 1                 |  4                | 1                 | \n",
       "| 1                 | 1                 | MidtownEast       | 0                 | 33                | 1                 | \n",
       "| 0                 | 1                 | MidtownEast       | 1                 | 33                | 1                 | \n",
       "| 1                 | 0                 | EastVillage       | 0                 | 19                | 1                 | \n",
       "| 0                 | 1                 | Inwood/WashHts    | 0                 |  7                | 1                 | \n",
       "| 1                 | 1                 | EastHarlem        | 0                 | 28                | 1                 | \n",
       "| ⋮ | ⋮ | ⋮ | ⋮ | ⋮ | ⋮ | \n",
       "| 1                  | 0                  | UpperEastSide      | 0                  |  6                 | 1                  | \n",
       "| 1                  | 0                  | EastVillage        | 1                  |  8                 | 1                  | \n",
       "| 0                  | 0                  | UpperWestSide      | 1                  |  7                 | 1                  | \n",
       "| 0                  | 0                  | UpperEastSide      | 1                  | 11                 | 1                  | \n",
       "| 0                  | 1                  | EastVillage        | 1                  |  9                 | 1                  | \n",
       "| 1                  | 0                  | MidtownWest        | 1                  |  8                 | 1                  | \n",
       "| 1                  | 1                  | MurrayHill         | 0                  |  5                 | 1                  | \n",
       "| 0                  | 1                  | Inwood/WashHts     | 0                  | 13                 | 1                  | \n",
       "| 0                  | 1                  | Harlem/Morningside | 0                  | 26                 | 1                  | \n",
       "| 1                  | 1                  | UpperWestSide      | 0                  | 26                 | 1                  | \n",
       "| 0                  | 1                  | UpperEastSide      | 0                  | 34                 | 1                  | \n",
       "| 1                  | 1                  | UpperWestSide      | 1                  |  2                 | 1                  | \n",
       "| 1                  | 1                  | LowerEastSide      | 1                  |  6                 | 1                  | \n",
       "| 1                  | 0                  | UpperEastSide      | 1                  | 19                 | 1                  | \n",
       "| 1                  | 0                  | UpperWestSide      | 0                  |  5                 | 1                  | \n",
       "| 1                  | 1                  | UpperWestSide      | 1                  |  5                 | 1                  | \n",
       "| 1                  | 1                  | Harlem/Morningside | 1                  |  6                 | 1                  | \n",
       "| 1                  | 1                  | Harlem/Morningside | 1                  |  7                 | 1                  | \n",
       "| 0                  | 0                  | EastVillage        | 1                  | 35                 | 1                  | \n",
       "| 0                  | 0                  | UpperWestSide      | 1                  | 12                 | 1                  | \n",
       "| 1                  | 1                  | UpperWestSide      | 0                  | 35                 | 1                  | \n",
       "| 0                  | 0                  | Chelsea            | 1                  |  8                 | 1                  | \n",
       "| 1                  | 0                  | LowerEastSide      | 0                  | 16                 | 1                  | \n",
       "| 0                  | 0                  | MidtownEast        | 0                  | 25                 | 1                  | \n",
       "| 0                  | 0                  | BatteryPark        | 1                  | 29                 | 1                  | \n",
       "| 1                  | 0                  | UpperEastSide      | 1                  | 26                 | 1                  | \n",
       "| 0                  | 0                  | UpperWestSide      | 1                  |  3                 | 1                  | \n",
       "| 0                  | 0                  | MidtownEast        | 1                  | 36                 | 1                  | \n",
       "| 0                  | 0                  | MidtownWest        | 1                  |  5                 | 1                  | \n",
       "| 0                  | 0                  | EastVillage        | 1                  |  8                 | 1                  | \n",
       "\n",
       "\n"
      ],
      "text/plain": [
       "    Nonwhite Child Neighborhood       Response NumDaysUp Subject\n",
       "1   0        0     FinancialDistrict  1        10        1      \n",
       "2   1        1     MidtownEast        1        27        1      \n",
       "3   0        1     FinancialDistrict  0         3        1      \n",
       "4   0        1     SoHo               0        15        1      \n",
       "5   0        0     MidtownEast        1        17        1      \n",
       "6   0        1     UpperWestSide      0        12        1      \n",
       "7   0        1     UpperEastSide      0        10        1      \n",
       "8   1        1     UpperEastSide      0        10        1      \n",
       "9   1        0     Gramercy           0        10        1      \n",
       "10  1        0     Gramercy           0         9        1      \n",
       "11  0        0     FinancialDistrict  1        25        1      \n",
       "12  0        1     UpperWestSide      1         3        1      \n",
       "13  0        0     EastHarlem         1         3        1      \n",
       "14  0        0     MidtownWest        1         7        1      \n",
       "15  0        0     EastVillage        1         5        1      \n",
       "16  1        1     Inwood/WashHts     1         3        1      \n",
       "17  1        0     Chelsea            1         7        1      \n",
       "18  0        1     MurrayHill         1         3        1      \n",
       "19  0        0     EastHarlem         1        20        1      \n",
       "20  0        0     MidtownEast        1        26        1      \n",
       "21  0        1     UpperEastSide      0        13        1      \n",
       "22  1        1     MidtownEast        1        10        1      \n",
       "23  1        1     MurrayHill         1         8        1      \n",
       "24  0        1     MidtownEast        1        12        1      \n",
       "25  0        1     UpperWestSide      1         4        1      \n",
       "26  1        1     MidtownEast        0        33        1      \n",
       "27  0        1     MidtownEast        1        33        1      \n",
       "28  1        0     EastVillage        0        19        1      \n",
       "29  0        1     Inwood/WashHts     0         7        1      \n",
       "30  1        1     EastHarlem         0        28        1      \n",
       "⋮   ⋮        ⋮     ⋮                  ⋮        ⋮         ⋮      \n",
       "261 1        0     UpperEastSide      0         6        1      \n",
       "262 1        0     EastVillage        1         8        1      \n",
       "263 0        0     UpperWestSide      1         7        1      \n",
       "264 0        0     UpperEastSide      1        11        1      \n",
       "265 0        1     EastVillage        1         9        1      \n",
       "266 1        0     MidtownWest        1         8        1      \n",
       "267 1        1     MurrayHill         0         5        1      \n",
       "268 0        1     Inwood/WashHts     0        13        1      \n",
       "269 0        1     Harlem/Morningside 0        26        1      \n",
       "270 1        1     UpperWestSide      0        26        1      \n",
       "271 0        1     UpperEastSide      0        34        1      \n",
       "272 1        1     UpperWestSide      1         2        1      \n",
       "273 1        1     LowerEastSide      1         6        1      \n",
       "274 1        0     UpperEastSide      1        19        1      \n",
       "275 1        0     UpperWestSide      0         5        1      \n",
       "276 1        1     UpperWestSide      1         5        1      \n",
       "277 1        1     Harlem/Morningside 1         6        1      \n",
       "278 1        1     Harlem/Morningside 1         7        1      \n",
       "279 0        0     EastVillage        1        35        1      \n",
       "280 0        0     UpperWestSide      1        12        1      \n",
       "281 1        1     UpperWestSide      0        35        1      \n",
       "282 0        0     Chelsea            1         8        1      \n",
       "283 1        0     LowerEastSide      0        16        1      \n",
       "284 0        0     MidtownEast        0        25        1      \n",
       "285 0        0     BatteryPark        1        29        1      \n",
       "286 1        0     UpperEastSide      1        26        1      \n",
       "287 0        0     UpperWestSide      1         3        1      \n",
       "288 0        0     MidtownEast        1        36        1      \n",
       "289 0        0     MidtownWest        1         5        1      \n",
       "290 0        0     EastVillage        1         8        1      "
      ]
     },
     "metadata": {},
     "output_type": "display_data"
    }
   ],
   "source": [
    "df"
   ]
  },
  {
   "cell_type": "code",
   "execution_count": 4,
   "metadata": {
    "collapsed": true
   },
   "outputs": [],
   "source": [
    "df$Neighborhood <- as.factor(df$Neighborhood)"
   ]
  },
  {
   "cell_type": "code",
   "execution_count": 11,
   "metadata": {
    "collapsed": true
   },
   "outputs": [],
   "source": [
    "model <- glm(Response ~ Nonwhite + Child + Nonwhite*Child + Neighborhood + NumDaysUp,family = binomial(link = \"probit\"),data = df)\n",
    "\n",
    "model2 <- glm(Response ~ Nonwhite + Child + Nonwhite*Child + NumDaysUp,family = binomial(link = \"probit\"),data = df)\n",
    "\n",
    "model3 <- glm(Response ~ Nonwhite + Child + Nonwhite*Child + NumDaysUp,data = df)"
   ]
  },
  {
   "cell_type": "code",
   "execution_count": 16,
   "metadata": {
    "scrolled": false
   },
   "outputs": [
    {
     "data": {
      "text/plain": [
       "\n",
       "z test of coefficients:\n",
       "\n",
       "                 Estimate Std. Error z value  Pr(>|z|)    \n",
       "(Intercept)     0.9074756  0.0639174 14.1976 < 2.2e-16 ***\n",
       "Nonwhite       -0.2055595  0.0779757 -2.6362  0.008384 ** \n",
       "Child          -0.2228657  0.0746146 -2.9869  0.002818 ** \n",
       "NumDaysUp      -0.0079144  0.0029319 -2.6994  0.006946 ** \n",
       "Nonwhite:Child  0.1893742  0.1098406  1.7241  0.084693 .  \n",
       "---\n",
       "Signif. codes:  0 ‘***’ 0.001 ‘**’ 0.01 ‘*’ 0.05 ‘.’ 0.1 ‘ ’ 1\n"
      ]
     },
     "metadata": {},
     "output_type": "display_data"
    }
   ],
   "source": [
    "library(\"lmtest\")\n",
    "coeftest(model3,level = 0.95)"
   ]
  },
  {
   "cell_type": "code",
   "execution_count": 18,
   "metadata": {
    "scrolled": true
   },
   "outputs": [
    {
     "name": "stderr",
     "output_type": "stream",
     "text": [
      "Waiting for profiling to be done...\n"
     ]
    },
    {
     "data": {
      "text/html": [
       "<table>\n",
       "<thead><tr><th></th><th scope=col>2.5 %</th><th scope=col>97.5 %</th></tr></thead>\n",
       "<tbody>\n",
       "\t<tr><th scope=row>(Intercept)</th><td> 0.78219992 </td><td> 1.032751339</td></tr>\n",
       "\t<tr><th scope=row>Nonwhite</th><td>-0.35838912 </td><td>-0.052729941</td></tr>\n",
       "\t<tr><th scope=row>Child</th><td>-0.36910764 </td><td>-0.076623779</td></tr>\n",
       "\t<tr><th scope=row>NumDaysUp</th><td>-0.01366082 </td><td>-0.002167972</td></tr>\n",
       "\t<tr><th scope=row>Nonwhite:Child</th><td>-0.02590941 </td><td> 0.404657814</td></tr>\n",
       "</tbody>\n",
       "</table>\n"
      ],
      "text/latex": [
       "\\begin{tabular}{r|ll}\n",
       "  & 2.5 \\% & 97.5 \\%\\\\\n",
       "\\hline\n",
       "\t(Intercept) &  0.78219992  &  1.032751339\\\\\n",
       "\tNonwhite & -0.35838912  & -0.052729941\\\\\n",
       "\tChild & -0.36910764  & -0.076623779\\\\\n",
       "\tNumDaysUp & -0.01366082  & -0.002167972\\\\\n",
       "\tNonwhite:Child & -0.02590941  &  0.404657814\\\\\n",
       "\\end{tabular}\n"
      ],
      "text/markdown": [
       "\n",
       "| <!--/--> | 2.5 % | 97.5 % | \n",
       "|---|---|---|---|---|\n",
       "| (Intercept) |  0.78219992  |  1.032751339 | \n",
       "| Nonwhite | -0.35838912  | -0.052729941 | \n",
       "| Child | -0.36910764  | -0.076623779 | \n",
       "| NumDaysUp | -0.01366082  | -0.002167972 | \n",
       "| Nonwhite:Child | -0.02590941  |  0.404657814 | \n",
       "\n",
       "\n"
      ],
      "text/plain": [
       "               2.5 %       97.5 %      \n",
       "(Intercept)     0.78219992  1.032751339\n",
       "Nonwhite       -0.35838912 -0.052729941\n",
       "Child          -0.36910764 -0.076623779\n",
       "NumDaysUp      -0.01366082 -0.002167972\n",
       "Nonwhite:Child -0.02590941  0.404657814"
      ]
     },
     "metadata": {},
     "output_type": "display_data"
    }
   ],
   "source": [
    "confint(model3,  level = 0.95)"
   ]
  },
  {
   "cell_type": "code",
   "execution_count": 25,
   "metadata": {
    "scrolled": true
   },
   "outputs": [
    {
     "data": {
      "text/html": [
       "-0.22"
      ],
      "text/latex": [
       "-0.22"
      ],
      "text/markdown": [
       "-0.22"
      ],
      "text/plain": [
       "[1] -0.22"
      ]
     },
     "metadata": {},
     "output_type": "display_data"
    }
   ],
   "source": [
    "- 0.22*1 -0.21*0 + 0.19*0*1"
   ]
  },
  {
   "cell_type": "code",
   "execution_count": 17,
   "metadata": {},
   "outputs": [
    {
     "name": "stderr",
     "output_type": "stream",
     "text": [
      "Warning message in if (class(input_list[[1]]) == \"list\") input_list <- lapply(input_list[[1]], :\n",
      "“the condition has length > 1 and only the first element will be used”"
     ]
    },
    {
     "data": {},
     "metadata": {},
     "output_type": "display_data"
    }
   ],
   "source": [
    "library(\"sjPlot\")\n",
    "sjt.lm(model3)"
   ]
  },
  {
   "cell_type": "markdown",
   "metadata": {},
   "source": [
    "1. Introduction - Boris\n",
    "2. Experimental Design - Boris\n",
    "3. Data Generation - Ryan\n",
    "4. Analysis/ Results - Rom\n",
    "5. Conclusion - Everyone"
   ]
  }
 ],
 "metadata": {
  "anaconda-cloud": {},
  "kernelspec": {
   "display_name": "R",
   "language": "R",
   "name": "ir"
  },
  "language_info": {
   "codemirror_mode": "r",
   "file_extension": ".r",
   "mimetype": "text/x-r-source",
   "name": "R",
   "pygments_lexer": "r",
   "version": "3.4.2"
  }
 },
 "nbformat": 4,
 "nbformat_minor": 1
}
