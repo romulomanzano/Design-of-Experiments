{
 "cells": [
  {
   "cell_type": "markdown",
   "metadata": {},
   "source": [
    "## Problem Set #4"
   ]
  },
  {
   "cell_type": "markdown",
   "metadata": {},
   "source": [
    "## Experiments and Causality"
   ]
  },
  {
   "cell_type": "markdown",
   "metadata": {},
   "source": [
    "Romulo Manzano (12Nov2017)"
   ]
  },
  {
   "cell_type": "code",
   "execution_count": 1,
   "metadata": {},
   "outputs": [
    {
     "name": "stderr",
     "output_type": "stream",
     "text": [
      "Loading required package: zoo\n",
      "\n",
      "Attaching package: ‘zoo’\n",
      "\n",
      "The following objects are masked from ‘package:base’:\n",
      "\n",
      "    as.Date, as.Date.numeric\n",
      "\n",
      "Loading required package: car\n",
      "Loading required package: survival\n"
     ]
    }
   ],
   "source": [
    "library(\"foreign\")\n",
    "#loadpackages\n",
    "library(\"data.table\")\n",
    "library(\"foreign\")\n",
    "library(\"lmtest\")\n",
    "library(\"sandwich\")\n",
    "library(\"multiwayvcov\")\n",
    "library(\"AER\")"
   ]
  },
  {
   "cell_type": "markdown",
   "metadata": {},
   "source": [
    "# FE exercise 5.2\n",
    "a. Make up a hypothetical schedule of potential outcomes for three Compliers and three Never-Takers where the ATE is positive but the CACE is negative. "
   ]
  },
  {
   "cell_type": "markdown",
   "metadata": {},
   "source": [
    "**Answer**"
   ]
  },
  {
   "cell_type": "markdown",
   "metadata": {},
   "source": [
    "Below table consistst of three compliers and three never-takers"
   ]
  },
  {
   "cell_type": "code",
   "execution_count": 2,
   "metadata": {},
   "outputs": [
    {
     "data": {
      "text/html": [
       "<table>\n",
       "<thead><tr><th scope=col>Observation</th><th scope=col>y_d_0</th><th scope=col>y_d_1</th><th scope=col>d_z_0</th><th scope=col>d_z_1</th><th scope=col>Complier</th></tr></thead>\n",
       "<tbody>\n",
       "\t<tr><td>1</td><td>4</td><td>9</td><td>0</td><td>0</td><td>0</td></tr>\n",
       "\t<tr><td>2</td><td>6</td><td>2</td><td>0</td><td>1</td><td>1</td></tr>\n",
       "\t<tr><td>3</td><td>1</td><td>6</td><td>0</td><td>0</td><td>0</td></tr>\n",
       "\t<tr><td>4</td><td>5</td><td>4</td><td>0</td><td>1</td><td>1</td></tr>\n",
       "\t<tr><td>5</td><td>6</td><td>7</td><td>0</td><td>0</td><td>0</td></tr>\n",
       "\t<tr><td>6</td><td>5</td><td>1</td><td>0</td><td>1</td><td>1</td></tr>\n",
       "</tbody>\n",
       "</table>\n"
      ],
      "text/latex": [
       "\\begin{tabular}{r|llllll}\n",
       " Observation & y\\_d\\_0 & y\\_d\\_1 & d\\_z\\_0 & d\\_z\\_1 & Complier\\\\\n",
       "\\hline\n",
       "\t 1 & 4 & 9 & 0 & 0 & 0\\\\\n",
       "\t 2 & 6 & 2 & 0 & 1 & 1\\\\\n",
       "\t 3 & 1 & 6 & 0 & 0 & 0\\\\\n",
       "\t 4 & 5 & 4 & 0 & 1 & 1\\\\\n",
       "\t 5 & 6 & 7 & 0 & 0 & 0\\\\\n",
       "\t 6 & 5 & 1 & 0 & 1 & 1\\\\\n",
       "\\end{tabular}\n"
      ],
      "text/markdown": [
       "\n",
       "Observation | y_d_0 | y_d_1 | d_z_0 | d_z_1 | Complier | \n",
       "|---|---|---|---|---|---|\n",
       "| 1 | 4 | 9 | 0 | 0 | 0 | \n",
       "| 2 | 6 | 2 | 0 | 1 | 1 | \n",
       "| 3 | 1 | 6 | 0 | 0 | 0 | \n",
       "| 4 | 5 | 4 | 0 | 1 | 1 | \n",
       "| 5 | 6 | 7 | 0 | 0 | 0 | \n",
       "| 6 | 5 | 1 | 0 | 1 | 1 | \n",
       "\n",
       "\n"
      ],
      "text/plain": [
       "  Observation y_d_0 y_d_1 d_z_0 d_z_1 Complier\n",
       "1 1           4     9     0     0     0       \n",
       "2 2           6     2     0     1     1       \n",
       "3 3           1     6     0     0     0       \n",
       "4 4           5     4     0     1     1       \n",
       "5 5           6     7     0     0     0       \n",
       "6 6           5     1     0     1     1       "
      ]
     },
     "metadata": {},
     "output_type": "display_data"
    }
   ],
   "source": [
    "table1 <- data.frame(Observation = 1:6, \n",
    "                y_d_0 = c(4,6,1,5,6,5), \n",
    "                y_d_1 = c(9,2,6,4,7,1),\n",
    "                d_z_0 = c(0, 0,0,0,0,0), \n",
    "                d_z_1 = c(0,1,0,1,0,1) )\n",
    "table1$Complier <- table1$d_z_1\n",
    "table1"
   ]
  },
  {
   "cell_type": "markdown",
   "metadata": {},
   "source": [
    "**ATE**"
   ]
  },
  {
   "cell_type": "code",
   "execution_count": 3,
   "metadata": {},
   "outputs": [
    {
     "data": {
      "text/html": [
       "0.333333333333333"
      ],
      "text/latex": [
       "0.333333333333333"
      ],
      "text/markdown": [
       "0.333333333333333"
      ],
      "text/plain": [
       "[1] 0.3333333"
      ]
     },
     "metadata": {},
     "output_type": "display_data"
    }
   ],
   "source": [
    "mean(table1$y_d_1 - table1$y_d_0)"
   ]
  },
  {
   "cell_type": "markdown",
   "metadata": {},
   "source": [
    "**CACE**"
   ]
  },
  {
   "cell_type": "code",
   "execution_count": 4,
   "metadata": {},
   "outputs": [
    {
     "data": {
      "text/html": [
       "-3"
      ],
      "text/latex": [
       "-3"
      ],
      "text/markdown": [
       "-3"
      ],
      "text/plain": [
       "[1] -3"
      ]
     },
     "metadata": {},
     "output_type": "display_data"
    }
   ],
   "source": [
    "mean(table1[table1$d_z_1 == 1,]$y_d_1 - table1[table1$d_z_1 == 1,]$y_d_0)"
   ]
  },
  {
   "cell_type": "markdown",
   "metadata": {},
   "source": [
    "b. Suppose that an experiment were conducted on your pool of subjects. In what ways would the estimated CACE be informative or misleading? "
   ]
  },
  {
   "cell_type": "markdown",
   "metadata": {},
   "source": [
    "**Answer** CACE will be informative if the researcher is trying to understand the average treatment effect for the population on which the treatment was prescribed and actually administered (assume one-sided non compliance). For example this can be very useful when assessing the effect of a new drug/medicine on individuals. \n",
    "\n",
    "At the same time, CACE can also be misleading as the estimation cannot be extrapolated into the effect of the treatment assignment overall. For example, if the researcher's goal is to measure the effect of running a new program where the population may or may not comply, CACE will not be the appropriate measure."
   ]
  },
  {
   "cell_type": "markdown",
   "metadata": {},
   "source": [
    "c. **In addition, please also answer this question**: Which population is more relevant to study for future decision making: the set of Compliers, or the set of Compliers plus Never-Takers? Why?"
   ]
  },
  {
   "cell_type": "markdown",
   "metadata": {},
   "source": [
    "**Answer** Arguably both, as explained on the prior question, both assessing the effect of the treatment actually being administered and the effect of treatment assignment can be relevant for future decision making (if the results are interpreted correctly). More specifically, a government conducting an experiment to study the effect of a new policy may see value in assessing the overall effect of treatment assignment (compliers plus never-takers) despite knowing some subjects might not comply."
   ]
  },
  {
   "cell_type": "markdown",
   "metadata": {},
   "source": [
    "# FE exercise 5.6\n",
    "Suppose that a researcher hires a group of canvassers to contact a set of 1,000 voters randomly assigned to a treatment group. When the canvassing effort concludes, the canvassers report that they successfully contacted 500 voters in the treatment group, but the truth is that they only contacted 250. When voter turnout rates are tabulated for the treatment and control groups, it turns out that 400 of the 1,000 subjects in the treatment group voted, as compared to 700 of the 2,000 subjects in the control group (none of whom were contacted). \n",
    "\n",
    "a. If you believed that 500 subjects were actually contacted, what would your estimate of the CACE be? "
   ]
  },
  {
   "cell_type": "markdown",
   "metadata": {},
   "source": [
    "**Answer**"
   ]
  },
  {
   "cell_type": "markdown",
   "metadata": {},
   "source": [
    "**Intent to Treat**"
   ]
  },
  {
   "cell_type": "code",
   "execution_count": 5,
   "metadata": {},
   "outputs": [
    {
     "data": {
      "text/html": [
       "0.05"
      ],
      "text/latex": [
       "0.05"
      ],
      "text/markdown": [
       "0.05"
      ],
      "text/plain": [
       "[1] 0.05"
      ]
     },
     "metadata": {},
     "output_type": "display_data"
    }
   ],
   "source": [
    "ITT = (400/1000) - (700/2000)\n",
    "ITT"
   ]
  },
  {
   "cell_type": "markdown",
   "metadata": {},
   "source": [
    "**$ITT_D$**"
   ]
  },
  {
   "cell_type": "markdown",
   "metadata": {},
   "source": [
    "Proportion of subjects treated in the event that they were asssigned to treatment (we assume one side non compliance so we don't need to worry about substracting the proportion who would have been treated if in control group). This quantity is given in the question, which is 0.5 (500 out of 1000)"
   ]
  },
  {
   "cell_type": "markdown",
   "metadata": {},
   "source": [
    "**CACE**"
   ]
  },
  {
   "cell_type": "code",
   "execution_count": 6,
   "metadata": {},
   "outputs": [
    {
     "data": {
      "text/html": [
       "0.1"
      ],
      "text/latex": [
       "0.1"
      ],
      "text/markdown": [
       "0.1"
      ],
      "text/plain": [
       "[1] 0.1"
      ]
     },
     "metadata": {},
     "output_type": "display_data"
    }
   ],
   "source": [
    "ITT/0.5"
   ]
  },
  {
   "cell_type": "markdown",
   "metadata": {},
   "source": [
    "CACE would be 10% if we believed 500 subjects were actually contacted"
   ]
  },
  {
   "cell_type": "markdown",
   "metadata": {},
   "source": [
    "b. Suppose you learned that only 250 subjects were actually treated. What would your estimate of the CACE be? "
   ]
  },
  {
   "cell_type": "markdown",
   "metadata": {},
   "source": [
    "**CACE**"
   ]
  },
  {
   "cell_type": "code",
   "execution_count": 7,
   "metadata": {},
   "outputs": [
    {
     "data": {
      "text/html": [
       "0.2"
      ],
      "text/latex": [
       "0.2"
      ],
      "text/markdown": [
       "0.2"
      ],
      "text/plain": [
       "[1] 0.2"
      ]
     },
     "metadata": {},
     "output_type": "display_data"
    }
   ],
   "source": [
    "ITT/0.25"
   ]
  },
  {
   "cell_type": "markdown",
   "metadata": {},
   "source": [
    "CACE would be 20% under this new proportion"
   ]
  },
  {
   "cell_type": "markdown",
   "metadata": {},
   "source": [
    "c. Do the canvassers' exaggerated reports make their efforts seem more or less effective? Define effectiveness either in terms of the ITT or CACE. Why does the definition matter? "
   ]
  },
  {
   "cell_type": "markdown",
   "metadata": {},
   "source": [
    "**Answer**"
   ]
  },
  {
   "cell_type": "markdown",
   "metadata": {},
   "source": [
    "The exaggerated canvassers' efforts seem **less** effective from a CACE perspective, but **more** effective under the ITT.\n",
    "\n",
    "From a CACE perspective, the exaggerated report suggests that the effect of actually contacting the subjects was only 10% (as opposed to 20%) suggesting that the effort to persuade voters once engaged were not as material as they actually were.\n",
    "\n",
    "From an ITT perspective, exaggerated reports cause the efforts seem more effective than they actually were, as only a small proportion (25%) of the treatment group was actually actively encouraged to vote."
   ]
  },
  {
   "cell_type": "markdown",
   "metadata": {},
   "source": [
    "# FE exercise 5.10\n",
    "Guan and Green report the results of a canvassing experiment conduced in Beijing on the eve of a local election. Students on the campus of Peking University were randomly assigned to treatment or control groups. Canvassers attempted to contact students in their dorm rooms and encourage them to vote. No contact with the control group was attempted. Of the 2,688 students assigned to the treatment group, 2,380 were contacted. A total of 2,152 students in the treatment group voted; of the 1,334 students assigned to the control group, 892 voted. One aspect of this experiment threatens to violate the exclusion restriction. At every dorm room they visited, even those where no one answered, canvassers left a leaflet encouraging students to vote. "
   ]
  },
  {
   "cell_type": "code",
   "execution_count": 8,
   "metadata": {},
   "outputs": [
    {
     "data": {
      "text/html": [
       "<table>\n",
       "<thead><tr><th scope=col>turnout</th><th scope=col>contact</th><th scope=col>dormid</th><th scope=col>treat2</th></tr></thead>\n",
       "<tbody>\n",
       "\t<tr><td>0      </td><td>0      </td><td>1010101</td><td>0      </td></tr>\n",
       "\t<tr><td>0      </td><td>0      </td><td>1010101</td><td>0      </td></tr>\n",
       "\t<tr><td>0      </td><td>0      </td><td>1010101</td><td>0      </td></tr>\n",
       "\t<tr><td>0      </td><td>0      </td><td>1010102</td><td>0      </td></tr>\n",
       "\t<tr><td>0      </td><td>0      </td><td>1010102</td><td>0      </td></tr>\n",
       "\t<tr><td>0      </td><td>1      </td><td>1010103</td><td>1      </td></tr>\n",
       "</tbody>\n",
       "</table>\n"
      ],
      "text/latex": [
       "\\begin{tabular}{r|llll}\n",
       " turnout & contact & dormid & treat2\\\\\n",
       "\\hline\n",
       "\t 0       & 0       & 1010101 & 0      \\\\\n",
       "\t 0       & 0       & 1010101 & 0      \\\\\n",
       "\t 0       & 0       & 1010101 & 0      \\\\\n",
       "\t 0       & 0       & 1010102 & 0      \\\\\n",
       "\t 0       & 0       & 1010102 & 0      \\\\\n",
       "\t 0       & 1       & 1010103 & 1      \\\\\n",
       "\\end{tabular}\n"
      ],
      "text/markdown": [
       "\n",
       "turnout | contact | dormid | treat2 | \n",
       "|---|---|---|---|---|---|\n",
       "| 0       | 0       | 1010101 | 0       | \n",
       "| 0       | 0       | 1010101 | 0       | \n",
       "| 0       | 0       | 1010101 | 0       | \n",
       "| 0       | 0       | 1010102 | 0       | \n",
       "| 0       | 0       | 1010102 | 0       | \n",
       "| 0       | 1       | 1010103 | 1       | \n",
       "\n",
       "\n"
      ],
      "text/plain": [
       "  turnout contact dormid  treat2\n",
       "1 0       0       1010101 0     \n",
       "2 0       0       1010101 0     \n",
       "3 0       0       1010101 0     \n",
       "4 0       0       1010102 0     \n",
       "5 0       0       1010102 0     \n",
       "6 0       1       1010103 1     "
      ]
     },
     "metadata": {},
     "output_type": "display_data"
    }
   ],
   "source": [
    "d3 <- read.dta(\"./data/Guan_Green_CPS_2006.dta\")\n",
    "head(d3)"
   ]
  },
  {
   "cell_type": "markdown",
   "metadata": {},
   "source": [
    "a. Using the data set from the book's website, estimate the ITT. First, estimate the ITT using the difference in two-group means. Then, estimate the ITT using a linear regression on the appropriate subset of data. *Heads up: There are two NAs in the data frame. Just na.omit to remove these rows.*"
   ]
  },
  {
   "cell_type": "markdown",
   "metadata": {},
   "source": [
    "**Answer**"
   ]
  },
  {
   "cell_type": "markdown",
   "metadata": {},
   "source": [
    "**ITT** using two group means"
   ]
  },
  {
   "cell_type": "code",
   "execution_count": 9,
   "metadata": {},
   "outputs": [
    {
     "data": {
      "text/html": [
       "0.131929570928821"
      ],
      "text/latex": [
       "0.131929570928821"
      ],
      "text/markdown": [
       "0.131929570928821"
      ],
      "text/plain": [
       "[1] 0.1319296"
      ]
     },
     "metadata": {},
     "output_type": "display_data"
    }
   ],
   "source": [
    "mean(na.omit(d3[d3$treat2==1,]$turnout))-mean(na.omit(d3[d3$treat2==0,]$turnout))"
   ]
  },
  {
   "cell_type": "markdown",
   "metadata": {},
   "source": [
    "**ITT** using linear regression"
   ]
  },
  {
   "cell_type": "code",
   "execution_count": 10,
   "metadata": {},
   "outputs": [
    {
     "data": {
      "text/plain": [
       "\n",
       "Call:\n",
       "lm(formula = turnout ~ treat2, data = na.omit(d3))\n",
       "\n",
       "Residuals:\n",
       "    Min      1Q  Median      3Q     Max \n",
       "-0.8006  0.1994  0.1994  0.1994  0.3313 \n",
       "\n",
       "Coefficients:\n",
       "            Estimate Std. Error t value Pr(>|t|)    \n",
       "(Intercept)  0.66867    0.01162  57.521   <2e-16 ***\n",
       "treat2       0.13193    0.01422   9.278   <2e-16 ***\n",
       "---\n",
       "Signif. codes:  0 ‘***’ 0.001 ‘**’ 0.01 ‘*’ 0.05 ‘.’ 0.1 ‘ ’ 1\n",
       "\n",
       "Residual standard error: 0.4246 on 4020 degrees of freedom\n",
       "Multiple R-squared:  0.02096,\tAdjusted R-squared:  0.02072 \n",
       "F-statistic: 86.08 on 1 and 4020 DF,  p-value: < 2.2e-16\n"
      ]
     },
     "metadata": {},
     "output_type": "display_data"
    }
   ],
   "source": [
    "result <- lm(turnout ~ treat2, data =  na.omit(d3))\n",
    "summary(result)"
   ]
  },
  {
   "cell_type": "markdown",
   "metadata": {},
   "source": [
    "b. Use randomization inference to test the sharp null hypothesis that the ITT is zero for all observations, taking into account the fact that random assignment was clustered by dorm room. Interpret your results. "
   ]
  },
  {
   "cell_type": "markdown",
   "metadata": {},
   "source": [
    "**Answer**\n",
    "\n",
    "First we define a couple of functions to do randomized inference"
   ]
  },
  {
   "cell_type": "code",
   "execution_count": 11,
   "metadata": {
    "collapsed": true
   },
   "outputs": [],
   "source": [
    "atePs4 <- function(dataset)\n",
    "    { return (mean(dataset[dataset$treat2==1,]$turnout) \n",
    "              - mean(dataset[dataset$treat2==0,]$turnout))\n",
    "     }"
   ]
  },
  {
   "cell_type": "code",
   "execution_count": 12,
   "metadata": {
    "collapsed": true
   },
   "outputs": [],
   "source": [
    "randomizePs4 <- function(size) sample(c(0,1), size, replace = TRUE)"
   ]
  },
  {
   "cell_type": "code",
   "execution_count": 13,
   "metadata": {
    "collapsed": true
   },
   "outputs": [],
   "source": [
    "randomSimulationATEPS4 = function(dataset) {\n",
    "    trialX <- cbind(dataset)\n",
    "    #randomizing for a given room\n",
    "    dorms <- cbind(data.frame(dormid = (unique((trialX$dormid)))))\n",
    "    dorms$treat2 <- randomizePs4(nrow(dorms))\n",
    "    trialX <- trialX[ , !(names(trialX) %in% c(\"treat2\"))]\n",
    "    trialX <- merge(x = trialX, y = dorms, by = \"dormid\", all = TRUE)\n",
    "    effect <- atePs4(trialX)\n",
    "  return(effect)\n",
    "}"
   ]
  },
  {
   "cell_type": "markdown",
   "metadata": {},
   "source": [
    "**Running 10k simulations**"
   ]
  },
  {
   "cell_type": "code",
   "execution_count": 14,
   "metadata": {
    "collapsed": true
   },
   "outputs": [],
   "source": [
    "simulationsITT <- c()\n",
    "for (i in seq(1,10000))\n",
    "    {\n",
    "    simulationsITT[i] <- randomSimulationATEPS4(na.omit(d3))\n",
    "    }"
   ]
  },
  {
   "cell_type": "markdown",
   "metadata": {},
   "source": [
    "**One tailed p-value**"
   ]
  },
  {
   "cell_type": "code",
   "execution_count": 15,
   "metadata": {
    "scrolled": true
   },
   "outputs": [
    {
     "data": {
      "text/html": [
       "0"
      ],
      "text/latex": [
       "0"
      ],
      "text/markdown": [
       "0"
      ],
      "text/plain": [
       "[1] 0"
      ]
     },
     "metadata": {},
     "output_type": "display_data"
    }
   ],
   "source": [
    "mean(simulationsITT > 0.131929570928821)"
   ]
  },
  {
   "cell_type": "markdown",
   "metadata": {},
   "source": [
    "This means that we can succesfully reject the null hypothesis at a 95% confidence level. In other words, the observed average effect for the realized randomization is well beyond two standard deviations of the distribution generated via randomized inference, and it is highly unlikely the observed effect is the result of chance."
   ]
  },
  {
   "cell_type": "markdown",
   "metadata": {},
   "source": [
    "c. Assume that the leaflet had no effect on turnout. Estimate the CACE. Do this in two ways: First, estimate the CACE using means. Second, use some form of linear model to estiamte this as well. If you use a 2SLS, then report the standard errors and draw interence about whether the leaflet had any causal effect among compliers. "
   ]
  },
  {
   "cell_type": "markdown",
   "metadata": {},
   "source": [
    "**Answer**"
   ]
  },
  {
   "cell_type": "markdown",
   "metadata": {},
   "source": [
    "**Means method**"
   ]
  },
  {
   "cell_type": "markdown",
   "metadata": {},
   "source": [
    "Next, we determine the proportion of the treatment group that was actually contacted"
   ]
  },
  {
   "cell_type": "code",
   "execution_count": 16,
   "metadata": {},
   "outputs": [
    {
     "data": {
      "text/html": [
       "0.885873605947955"
      ],
      "text/latex": [
       "0.885873605947955"
      ],
      "text/markdown": [
       "0.885873605947955"
      ],
      "text/plain": [
       "[1] 0.8858736"
      ]
     },
     "metadata": {},
     "output_type": "display_data"
    }
   ],
   "source": [
    "d3Treated <- cbind(d3[d3$treat2==1,])\n",
    "mean(na.omit(d3Treated$contact))"
   ]
  },
  {
   "cell_type": "markdown",
   "metadata": {},
   "source": [
    "**CACE**"
   ]
  },
  {
   "cell_type": "code",
   "execution_count": 17,
   "metadata": {},
   "outputs": [
    {
     "data": {
      "text/html": [
       "0.148925952915874"
      ],
      "text/latex": [
       "0.148925952915874"
      ],
      "text/markdown": [
       "0.148925952915874"
      ],
      "text/plain": [
       "[1] 0.148926"
      ]
     },
     "metadata": {},
     "output_type": "display_data"
    }
   ],
   "source": [
    "0.131929570928821/0.885873605947955"
   ]
  },
  {
   "cell_type": "markdown",
   "metadata": {},
   "source": [
    "**Linear regression approach**"
   ]
  },
  {
   "cell_type": "code",
   "execution_count": 18,
   "metadata": {
    "collapsed": true
   },
   "outputs": [],
   "source": [
    "d3Leaflet <- cbind(d3)\n",
    "#d3Leaflet$leaflet <- (!d3Leaflet$contact & d3Leaflet$treat2)"
   ]
  },
  {
   "cell_type": "code",
   "execution_count": 19,
   "metadata": {
    "scrolled": false
   },
   "outputs": [
    {
     "data": {
      "text/plain": [
       "\n",
       "t test of coefficients:\n",
       "\n",
       "            Estimate Std. Error t value  Pr(>|t|)    \n",
       "(Intercept) 0.668666   0.011652 57.3864 < 2.2e-16 ***\n",
       "contact     0.148940   0.016091  9.2563 < 2.2e-16 ***\n",
       "---\n",
       "Signif. codes:  0 ‘***’ 0.001 ‘**’ 0.01 ‘*’ 0.05 ‘.’ 0.1 ‘ ’ 1\n"
      ]
     },
     "metadata": {},
     "output_type": "display_data"
    }
   ],
   "source": [
    "result2 <- ivreg(turnout ~ contact | treat2, data =  na.omit(d3Leaflet))\n",
    "coeftest(result2)"
   ]
  },
  {
   "cell_type": "markdown",
   "metadata": {},
   "source": [
    "The coefficient associated with 'contact' confirms the effects calculated by hand in he earlier part of this question. The CACE is a 14.89% increase in turnout rate"
   ]
  },
  {
   "cell_type": "markdown",
   "metadata": {},
   "source": [
    "In order to confirm the treatment effect on the leaflets only, we could run a simple regression on the treatment assignment and contact "
   ]
  },
  {
   "cell_type": "code",
   "execution_count": 20,
   "metadata": {},
   "outputs": [
    {
     "data": {
      "text/plain": [
       "\n",
       "t test of coefficients:\n",
       "\n",
       "            Estimate Std. Error t value  Pr(>|t|)    \n",
       "(Intercept) 0.668666   0.011624 57.5256 < 2.2e-16 ***\n",
       "treat2      0.103321   0.026874  3.8446 0.0001226 ***\n",
       "contact     0.032297   0.025745  1.2545 0.2097342    \n",
       "---\n",
       "Signif. codes:  0 ‘***’ 0.001 ‘**’ 0.01 ‘*’ 0.05 ‘.’ 0.1 ‘ ’ 1\n"
      ]
     },
     "metadata": {},
     "output_type": "display_data"
    }
   ],
   "source": [
    "#result3 <- lm(turnout ~ treat2, data =  na.omit(d3Leaflet[d3Leaflet$contact==0,]))\n",
    "result3 <- lm(turnout ~ treat2 + contact, data =  na.omit(d3Leaflet))\n",
    "coeftest(result3)"
   ]
  },
  {
   "cell_type": "markdown",
   "metadata": {},
   "source": [
    "From this we can infer that the treatment effect (turnout rate increase) associated with the leaflets was ~10%"
   ]
  },
  {
   "cell_type": "markdown",
   "metadata": {},
   "source": [
    "# FE exercise 5.11\n",
    "Nickerson describes a voter mobilization experiment in which subjects were randomly assigned to one of three conditions: a baseline group (no contact was attempted); a treatment group (canvassers attempted to deliver an encouragement to vote); and a placebo group (canvassers attempted to deliver an encouragement to recycle). Based on the results in the table below answer the following questions \n",
    "\n",
    "| Treatment Assignment | Treated ? | N    | Turnout |\n",
    "|----------------------|-----------|------|---------|\n",
    "| Baseline              | No       | 2572 | 31.22%  |\n",
    "| Treatment            | Yes       | 486  | 39.09%  |\n",
    "| Treatment            | No        | 2086 | 32.74%  |\n",
    "| Placebo              | Yes       | 470  | 29.79%  |\n",
    "| Placebo              | No        | 2109 | 32.15%  |"
   ]
  },
  {
   "cell_type": "markdown",
   "metadata": {},
   "source": [
    "**First** Use the information to make a table that has a full recovery of this data. That is, make a `data.frame` or a `data.table` that will have as many rows a there are observations in this data, and that would fully reproduce the table above. (*Yes, this might seem a little trivial, but this is the sort of \"data thinking\" that we think is important.*)"
   ]
  },
  {
   "cell_type": "code",
   "execution_count": 21,
   "metadata": {
    "collapsed": true
   },
   "outputs": [],
   "source": [
    "createRandomData <- function(treat,nrecords,treated,turnoutrate)\n",
    "    {\n",
    "    x <- as.integer(nrecords*turnoutrate)\n",
    "    t <- c(rep(1,x),rep(0,as.integer(nrecords-x)))\n",
    "    return (data.frame(treatment = rep(treat,nrecords),\n",
    "              treated = rep(treated,nrecords ),\n",
    "               #turnout = rbinom(nrecords, 1, turnoutrate))\n",
    "              turnout = t\n",
    "             ))  \n",
    "    }"
   ]
  },
  {
   "cell_type": "code",
   "execution_count": 22,
   "metadata": {},
   "outputs": [],
   "source": [
    "library('data.table')\n",
    "dataTest <- list(createRandomData('Baseline',2572,'N',0.3122),\n",
    "              createRandomData('Treatment',486,'Y',0.3909),\n",
    "              createRandomData('Treatment',2086,'N',0.3274),\n",
    "              createRandomData('Placebo',470,'Y',0.2979),\n",
    "              createRandomData('Placebo',2109,'N',0.3215))\n",
    "testDataFrame <- rbindlist(dataTest)\n",
    "#mean(dataTest$turnout)"
   ]
  },
  {
   "cell_type": "markdown",
   "metadata": {},
   "source": [
    "\n",
    "a. We are rewriting part (a) as follows: \"Estimate the proportion of Compliers by using the data on the Treatment group.  Then compute a second estimate of the proportion of Compliers by using the data on the Placebo group.  Are these sample proportions statistically significantly different from each other?  Explain why you would not expect them to be different, given the experimental design.\" (Hint: ITT_D means \"the average effect of the treatment on the dosage of the treatment.\" I.E., it’s the contact rate $\\alpha$ in the async)."
   ]
  },
  {
   "cell_type": "markdown",
   "metadata": {},
   "source": [
    "**Answer**"
   ]
  },
  {
   "cell_type": "markdown",
   "metadata": {},
   "source": [
    "**Compliers on the tratment group**"
   ]
  },
  {
   "cell_type": "code",
   "execution_count": 23,
   "metadata": {},
   "outputs": [
    {
     "data": {
      "text/html": [
       "2086"
      ],
      "text/latex": [
       "2086"
      ],
      "text/markdown": [
       "2086"
      ],
      "text/plain": [
       "[1] 2086"
      ]
     },
     "metadata": {},
     "output_type": "display_data"
    }
   ],
   "source": [
    "nrow(testDataFrame[testDataFrame$treatment == \"Treatment\" & testDataFrame$treated== \"N\", ])"
   ]
  },
  {
   "cell_type": "markdown",
   "metadata": {},
   "source": [
    "b. Do the data suggest that Never Takers in the treatment and placebo groups have the same rate of turnout? Is this comparison informative? "
   ]
  },
  {
   "cell_type": "markdown",
   "metadata": {},
   "source": [
    "**Answer**"
   ]
  },
  {
   "cell_type": "markdown",
   "metadata": {},
   "source": [
    "Data do suggest Never Takers in the treatment and placebo groups have the same turnout rate. The comparison is not informative though as we can infer that the treatment an placebo groups exhibit similar behavior when untreated, suggesting the groups are not inherintly different"
   ]
  },
  {
   "cell_type": "markdown",
   "metadata": {},
   "source": [
    "c. Estimate the CACE of receiving the placebo. Is this estimate consistent with the substantive assumption that the placebo has no effect on turnout? "
   ]
  },
  {
   "cell_type": "markdown",
   "metadata": {},
   "source": [
    "**Answer**"
   ]
  },
  {
   "cell_type": "code",
   "execution_count": 24,
   "metadata": {},
   "outputs": [
    {
     "data": {
      "text/html": [
       "0.00535760481988451"
      ],
      "text/latex": [
       "0.00535760481988451"
      ],
      "text/markdown": [
       "0.00535760481988451"
      ],
      "text/plain": [
       "[1] 0.005357605"
      ]
     },
     "metadata": {},
     "output_type": "display_data"
    }
   ],
   "source": [
    "ITTPlacebo = mean(testDataFrame[testDataFrame$treatment == \"Placebo\",]$turnout) - mean(testDataFrame[testDataFrame$treatment == \"Baseline\",]$turnout)\n",
    "ITTPlacebo"
   ]
  },
  {
   "cell_type": "code",
   "execution_count": 25,
   "metadata": {},
   "outputs": [
    {
     "data": {
      "text/html": [
       "0.182241178751454"
      ],
      "text/latex": [
       "0.182241178751454"
      ],
      "text/markdown": [
       "0.182241178751454"
      ],
      "text/plain": [
       "[1] 0.1822412"
      ]
     },
     "metadata": {},
     "output_type": "display_data"
    }
   ],
   "source": [
    "ITTdPlacebo = (nrow(testDataFrame[testDataFrame$treatment == \"Placebo\" & testDataFrame$treated== \"Y\",])\n",
    "               /nrow(testDataFrame[testDataFrame$treatment == \"Placebo\",]))\n",
    "ITTdPlacebo"
   ]
  },
  {
   "cell_type": "code",
   "execution_count": 26,
   "metadata": {},
   "outputs": [
    {
     "data": {
      "text/html": [
       "0.0293984315542173"
      ],
      "text/latex": [
       "0.0293984315542173"
      ],
      "text/markdown": [
       "0.0293984315542173"
      ],
      "text/plain": [
       "[1] 0.02939843"
      ]
     },
     "metadata": {},
     "output_type": "display_data"
    }
   ],
   "source": [
    "CACEPlacebo = ITTPlacebo/ITTdPlacebo\n",
    "CACEPlacebo"
   ]
  },
  {
   "cell_type": "markdown",
   "metadata": {},
   "source": [
    "The data suggest that placebo does have a small effect in turnout."
   ]
  },
  {
   "cell_type": "markdown",
   "metadata": {},
   "source": [
    "d. Estimate the CACE of receiving the treatment using two different methods. First, use the conventional method of dividing the ITT by the ITT_{D}. "
   ]
  },
  {
   "cell_type": "markdown",
   "metadata": {},
   "source": [
    "**Answer**"
   ]
  },
  {
   "cell_type": "markdown",
   "metadata": {},
   "source": [
    "**Conventional method**"
   ]
  },
  {
   "cell_type": "code",
   "execution_count": 27,
   "metadata": {},
   "outputs": [
    {
     "data": {
      "text/html": [
       "0.0268273716951788"
      ],
      "text/latex": [
       "0.0268273716951788"
      ],
      "text/markdown": [
       "0.0268273716951788"
      ],
      "text/plain": [
       "[1] 0.02682737"
      ]
     },
     "metadata": {},
     "output_type": "display_data"
    }
   ],
   "source": [
    "ITTTreat = mean(testDataFrame[testDataFrame$treatment == \"Treatment\",]$turnout) - mean(testDataFrame[testDataFrame$treatment == \"Baseline\",]$turnout)\n",
    "ITTTreat"
   ]
  },
  {
   "cell_type": "code",
   "execution_count": 28,
   "metadata": {},
   "outputs": [
    {
     "data": {
      "text/html": [
       "0.18895800933126"
      ],
      "text/latex": [
       "0.18895800933126"
      ],
      "text/markdown": [
       "0.18895800933126"
      ],
      "text/plain": [
       "[1] 0.188958"
      ]
     },
     "metadata": {},
     "output_type": "display_data"
    }
   ],
   "source": [
    "ITTdTreat = (nrow(testDataFrame[testDataFrame$treatment == \"Treatment\" & testDataFrame$treated== \"Y\",])/nrow(testDataFrame[testDataFrame$treatment == \"Treatment\",]))\n",
    "ITTdTreat"
   ]
  },
  {
   "cell_type": "code",
   "execution_count": 29,
   "metadata": {},
   "outputs": [
    {
     "data": {
      "text/html": [
       "0.141975308641975"
      ],
      "text/latex": [
       "0.141975308641975"
      ],
      "text/markdown": [
       "0.141975308641975"
      ],
      "text/plain": [
       "[1] 0.1419753"
      ]
     },
     "metadata": {},
     "output_type": "display_data"
    }
   ],
   "source": [
    "CACETreat = ITTTreat/ITTdTreat\n",
    "CACETreat"
   ]
  },
  {
   "cell_type": "markdown",
   "metadata": {},
   "source": [
    "**Two-stage linear regression**"
   ]
  },
  {
   "cell_type": "code",
   "execution_count": 30,
   "metadata": {},
   "outputs": [],
   "source": [
    "testDataFrame$isTreated = testDataFrame$treated == \"Y\"\n",
    "testDataFrame$isTreatment = testDataFrame$treatment == \"Treatment\""
   ]
  },
  {
   "cell_type": "code",
   "execution_count": 31,
   "metadata": {
    "scrolled": true
   },
   "outputs": [
    {
     "data": {
      "text/plain": [
       "\n",
       "t test of coefficients:\n",
       "\n",
       "               Estimate Std. Error t value Pr(>|t|)    \n",
       "(Intercept)   0.3118196  0.0092393 33.7492  < 2e-16 ***\n",
       "isTreatedTRUE 0.1419753  0.0691496  2.0532  0.04011 *  \n",
       "---\n",
       "Signif. codes:  0 ‘***’ 0.001 ‘**’ 0.01 ‘*’ 0.05 ‘.’ 0.1 ‘ ’ 1\n"
      ]
     },
     "metadata": {},
     "output_type": "display_data"
    }
   ],
   "source": [
    "resultTreat <- ivreg(turnout ~  isTreated | isTreatment , data =  testDataFrame[testDataFrame$treatment!= 'Placebo'])\n",
    "coeftest(resultTreat)"
   ]
  },
  {
   "cell_type": "markdown",
   "metadata": {},
   "source": [
    "Both the conventional method and the 2SLR concur on a CACE of 14.19% increase in turnout"
   ]
  },
  {
   "cell_type": "markdown",
   "metadata": {},
   "source": [
    "e. Then, second, compare the turnout rates among the Compliers in both the treatment and placebo groups. Interpret the results. "
   ]
  },
  {
   "cell_type": "markdown",
   "metadata": {},
   "source": [
    "**Answer**"
   ]
  },
  {
   "cell_type": "markdown",
   "metadata": {},
   "source": [
    "When doing a naive ATE on placebo vs. treatment we can observe a treatment effect of just ~2% on turnout rate."
   ]
  },
  {
   "cell_type": "code",
   "execution_count": 32,
   "metadata": {},
   "outputs": [
    {
     "data": {
      "text/plain": [
       "\n",
       "t test of coefficients:\n",
       "\n",
       "                 Estimate Std. Error t value Pr(>|t|)    \n",
       "(Intercept)     0.3171772  0.0092434 34.3139   <2e-16 ***\n",
       "isTreatmentTRUE 0.0214698  0.0130810  1.6413   0.1008    \n",
       "---\n",
       "Signif. codes:  0 ‘***’ 0.001 ‘**’ 0.01 ‘*’ 0.05 ‘.’ 0.1 ‘ ’ 1\n"
      ]
     },
     "metadata": {},
     "output_type": "display_data"
    }
   ],
   "source": [
    "resultTreatoverPlacebo <- ivreg(turnout ~ isTreatment , data =  testDataFrame[testDataFrame$treatment!= 'Baseline'])\n",
    "coeftest(resultTreatoverPlacebo)"
   ]
  },
  {
   "cell_type": "code",
   "execution_count": 33,
   "metadata": {},
   "outputs": [
    {
     "data": {
      "text/html": [
       "0.0214697668752943"
      ],
      "text/latex": [
       "0.0214697668752943"
      ],
      "text/markdown": [
       "0.0214697668752943"
      ],
      "text/plain": [
       "[1] 0.02146977"
      ]
     },
     "metadata": {},
     "output_type": "display_data"
    }
   ],
   "source": [
    "TreatOverPlacebo = mean(testDataFrame[testDataFrame$treatment == \"Treatment\",]$turnout) - mean(testDataFrame[testDataFrame$treatment == \"Placebo\",]$turnout)\n",
    "TreatOverPlacebo"
   ]
  },
  {
   "cell_type": "markdown",
   "metadata": {},
   "source": [
    "# More Practice \n",
    "Determine the direction of bias in estimating the ATE for each of the following situations when we randomize at the individual level.  Do we over-estimate, or underestimate? Briefly but clearly explain your reasoning."
   ]
  },
  {
   "cell_type": "markdown",
   "metadata": {},
   "source": [
    "a. In the advertising example of Lewis and Reiley (2014), assume some treatment-group members are friends with control-group members."
   ]
  },
  {
   "cell_type": "markdown",
   "metadata": {},
   "source": [
    "**Answer**"
   ]
  },
  {
   "cell_type": "markdown",
   "metadata": {},
   "source": [
    "The ATE would potentially be underestimated because members of the control group could effectively be indirectly be influenced by the treatment, that is, members of the control group would have learned about the advertisements their friends were exposed too which could have increased their likelihood to make a purchase. \n",
    "\n",
    "That would have translated into higher expenditure measures for the control group, closing the gap between treatment and control."
   ]
  },
  {
   "cell_type": "markdown",
   "metadata": {},
   "source": [
    "b. Consider the police displacement example from the bulleted list in the introduction to FE 8, where we are estimating the effects of enforcement on crime."
   ]
  },
  {
   "cell_type": "markdown",
   "metadata": {},
   "source": [
    "**Answer**"
   ]
  },
  {
   "cell_type": "markdown",
   "metadata": {},
   "source": [
    "We would overestimate ATE becase of crime being displaced from treated locations to adjacent areas. A byproduct of that displacement is the crime rates going down in the treatment areas while the opposit (crime rates increase) happens on adjacent untreated areas. For example, if the crime rate in both the treated and control areas BEFORE the experiment were 500 crimes per 100,000 general population each, and AFTER the treatment the rates turn out to be 350 per 100,000 (treated) and 650 per 100,000 (control) respectively, we could incorrectly conclude that the policing has a positive effect even though the generalized crime rate (treatment+control) remained unchanged."
   ]
  },
  {
   "cell_type": "markdown",
   "metadata": {},
   "source": [
    "c. Suppose employees work harder when you experimentally give them compensation that is more generous than they expected, that people feel resentful (and therefore work less hard) when they learn that their compensation is less than others, and that some treatment-group members talk to control group members."
   ]
  },
  {
   "cell_type": "markdown",
   "metadata": {},
   "source": [
    "**Answer**"
   ]
  },
  {
   "cell_type": "markdown",
   "metadata": {},
   "source": [
    "Given that some treatment group members talk to control group members, there is clear interference effects in the control group, that is, control group may learn that their compensation is less than others (members in the treatment group) and therefore work less hard. Hence, the treatment effect has a direct positive impact in the productivity of the treatment group and a negative one in that of the control group. As a result the ATE will be overstated as the gap it measures accounts for more than just the increase in productivity of the treatment group members."
   ]
  },
  {
   "cell_type": "markdown",
   "metadata": {},
   "source": [
    "d. When Olken (2007) randomly audits local Indonesian governments for evidence of corruption, suppose control-group governments learn that treatment-group governments are being randomly audited and assume they are likely to get audited too."
   ]
  },
  {
   "cell_type": "markdown",
   "metadata": {},
   "source": [
    "**Answer**"
   ]
  },
  {
   "cell_type": "markdown",
   "metadata": {},
   "source": [
    "Under this case, the ATE would also overestimate the true effect of the audits. Essentially there is interference with the control group as they would actively take steps towards hiding evidence that otherwise would have been caught and then appear to be less corrupt as a whole. This in essence has a direct impact in the level corruption assessed for the control groups."
   ]
  },
  {
   "cell_type": "markdown",
   "metadata": {},
   "source": [
    "# FE exercise 8.2\n",
    "National surveys indicate that college roommates tend to have correlated weight. The more one roommate weights at the end of the freshman year, the more the other freshman roommate weights. On the other hand, researchers studying housing arrangements in which roommates are randomly paired together find no correlation between two roommates' weights at the end of their freshman year. *Explain how these two facts can be reconciled.*"
   ]
  },
  {
   "cell_type": "markdown",
   "metadata": {},
   "source": [
    "**Answer**"
   ]
  },
  {
   "cell_type": "markdown",
   "metadata": {},
   "source": [
    "The fact that the national survey data captures a correlation between two roommates weights doesn't shed any light into the underlying details on housing arrangements. If roomates have total freedom to choose who they live with at the beginning of the year, they might find themselves choosing people with similar lifestyles, similar backgrounds or even choose to live with existing acquaintances, which could very well have similar eating habits, and be more likely to develop a social lifes within the same circles.\n",
    "\n",
    "Conversely, as part of the randomized experiment, housing arrangements are made without regard to any pre-existing criteria. As a result, the chances of two roomates having similar eating habits at the begining of the experiment are totally random (hence less likely). Furthermore, such random assignment would also lead for roommates to have just as different cultural backgrounds and interests and could result in a situation where each roommate develops his/her own social life totally independently and hence have less influence over each others actions (including eating habits!).     "
   ]
  },
  {
   "cell_type": "markdown",
   "metadata": {},
   "source": [
    "# FE exercise 8.10\n",
    "A doctoral student conducted an experiment in which she randomly varied whether she ran or walked 40 minutes each morning. In the middle of the afternoon over a period of 26 days she measured the following outcome variables: (1) her weight; (2) her score in Tetris; (3) her mood on a 0-5 scale; (4) her energy; and (5) whether she got a question right on the math GRE. "
   ]
  },
  {
   "cell_type": "code",
   "execution_count": 34,
   "metadata": {},
   "outputs": [
    {
     "data": {
      "text/html": [
       "<table>\n",
       "<thead><tr><th scope=col>day</th><th scope=col>run</th><th scope=col>weight</th><th scope=col>tetris</th><th scope=col>mood</th><th scope=col>energy</th><th scope=col>appetite</th><th scope=col>gre</th></tr></thead>\n",
       "<tbody>\n",
       "\t<tr><td>1    </td><td>1    </td><td>21   </td><td>11092</td><td>3    </td><td>3    </td><td>0    </td><td>1    </td></tr>\n",
       "\t<tr><td>2    </td><td>1    </td><td>21   </td><td>14745</td><td>3    </td><td>1    </td><td>2    </td><td>0    </td></tr>\n",
       "\t<tr><td>3    </td><td>0    </td><td>20   </td><td>11558</td><td>3    </td><td>3    </td><td>0    </td><td>1    </td></tr>\n",
       "\t<tr><td>4    </td><td>0    </td><td>21   </td><td>11747</td><td>3    </td><td>1    </td><td>1    </td><td>1    </td></tr>\n",
       "\t<tr><td>5    </td><td>0    </td><td>21   </td><td>14319</td><td>2    </td><td>3    </td><td>3    </td><td>1    </td></tr>\n",
       "\t<tr><td>6    </td><td>1    </td><td>19   </td><td> 7126</td><td>3    </td><td>2    </td><td>0    </td><td>1    </td></tr>\n",
       "</tbody>\n",
       "</table>\n"
      ],
      "text/latex": [
       "\\begin{tabular}{r|llllllll}\n",
       " day & run & weight & tetris & mood & energy & appetite & gre\\\\\n",
       "\\hline\n",
       "\t 1     & 1     & 21    & 11092 & 3     & 3     & 0     & 1    \\\\\n",
       "\t 2     & 1     & 21    & 14745 & 3     & 1     & 2     & 0    \\\\\n",
       "\t 3     & 0     & 20    & 11558 & 3     & 3     & 0     & 1    \\\\\n",
       "\t 4     & 0     & 21    & 11747 & 3     & 1     & 1     & 1    \\\\\n",
       "\t 5     & 0     & 21    & 14319 & 2     & 3     & 3     & 1    \\\\\n",
       "\t 6     & 1     & 19    &  7126 & 3     & 2     & 0     & 1    \\\\\n",
       "\\end{tabular}\n"
      ],
      "text/markdown": [
       "\n",
       "day | run | weight | tetris | mood | energy | appetite | gre | \n",
       "|---|---|---|---|---|---|\n",
       "| 1     | 1     | 21    | 11092 | 3     | 3     | 0     | 1     | \n",
       "| 2     | 1     | 21    | 14745 | 3     | 1     | 2     | 0     | \n",
       "| 3     | 0     | 20    | 11558 | 3     | 3     | 0     | 1     | \n",
       "| 4     | 0     | 21    | 11747 | 3     | 1     | 1     | 1     | \n",
       "| 5     | 0     | 21    | 14319 | 2     | 3     | 3     | 1     | \n",
       "| 6     | 1     | 19    |  7126 | 3     | 2     | 0     | 1     | \n",
       "\n",
       "\n"
      ],
      "text/plain": [
       "  day run weight tetris mood energy appetite gre\n",
       "1 1   1   21     11092  3    3      0        1  \n",
       "2 2   1   21     14745  3    1      2        0  \n",
       "3 3   0   20     11558  3    3      0        1  \n",
       "4 4   0   21     11747  3    1      1        1  \n",
       "5 5   0   21     14319  2    3      3        1  \n",
       "6 6   1   19      7126  3    2      0        1  "
      ]
     },
     "metadata": {},
     "output_type": "display_data"
    }
   ],
   "source": [
    "d2 <- read.dta(\"./data/Hough_WorkingPaper_2010.dta\")\n",
    "head(d2)"
   ]
  },
  {
   "cell_type": "markdown",
   "metadata": {},
   "source": [
    "a. Suppose you were seeking to estimate the average effect of running on her Tetris score. Explain the assumptions needed to identify this causal effect based on this within-subjects design. Are these assumptions plausible in this case? What special concerns arise due to the fact that the subject was conducting the study, undergoing the treatments, and measuring her own outcomes? "
   ]
  },
  {
   "cell_type": "markdown",
   "metadata": {},
   "source": [
    "**Answer**"
   ]
  },
  {
   "cell_type": "markdown",
   "metadata": {},
   "source": [
    "In order to conduct a within subject experiment and identify causal effects we'd need to take into account the following two assumptions:\n",
    "- **Non anticipation**: potential outcomes are unaffected by treatments that are administered in the future. \n",
    "- **Non persistence**: potential outcomes are unaffected by prior interventions.\n",
    "\n",
    "While the nonanticioation assumption is indeed plausible, the non persistence is clearly not as her Tetris score certainly affected by past interventions.\n",
    "\n",
    "Additional concenrs arise from the fact the subject was conducting her own outcomes. All sorts of biases could have influenced the measurement of the data points across the board"
   ]
  },
  {
   "cell_type": "markdown",
   "metadata": {},
   "source": [
    "b. Estimate the effect of running on Tetris score. Use regression to test the sharp null hypothesis that running has no immediate or lagged effect on Tetris scores. (**Note** the book calls for randomization inference, but this is a bit of a tough coding problem. **HINT**: For the second part of part (b), run one regression of today’s score on both today’s treatment assignment and yesterday’s treatment assignment. Then, calculate the p-value that both effects are zero.)"
   ]
  },
  {
   "cell_type": "markdown",
   "metadata": {},
   "source": [
    "**Answer**"
   ]
  },
  {
   "cell_type": "markdown",
   "metadata": {},
   "source": [
    "**Measuring ATE using a simple (average) approach**"
   ]
  },
  {
   "cell_type": "code",
   "execution_count": 35,
   "metadata": {
    "scrolled": true
   },
   "outputs": [
    {
     "data": {
      "text/html": [
       "13613.1"
      ],
      "text/latex": [
       "13613.1"
      ],
      "text/markdown": [
       "13613.1"
      ],
      "text/plain": [
       "[1] 13613.1"
      ]
     },
     "metadata": {},
     "output_type": "display_data"
    }
   ],
   "source": [
    "mean(na.omit(d2[d2$run == 1,]$tetris)) - mean(na.omit(d2[d2$run == 0,]$tetris)) "
   ]
  },
  {
   "cell_type": "markdown",
   "metadata": {},
   "source": [
    "**Regressing on treatment assignment**"
   ]
  },
  {
   "cell_type": "code",
   "execution_count": 36,
   "metadata": {},
   "outputs": [
    {
     "data": {
      "text/html": [
       "<table>\n",
       "<thead><tr><th scope=col>day</th><th scope=col>run</th><th scope=col>weight</th><th scope=col>tetris</th><th scope=col>mood</th><th scope=col>energy</th><th scope=col>appetite</th><th scope=col>gre</th><th scope=col>priorTreatment</th></tr></thead>\n",
       "<tbody>\n",
       "\t<tr><td> 1   </td><td>1    </td><td>21   </td><td>11092</td><td> 3   </td><td> 3   </td><td> 0   </td><td> 1   </td><td>NaN  </td></tr>\n",
       "\t<tr><td> 2   </td><td>1    </td><td>21   </td><td>14745</td><td> 3   </td><td> 1   </td><td> 2   </td><td> 0   </td><td>  1  </td></tr>\n",
       "\t<tr><td> 3   </td><td>0    </td><td>20   </td><td>11558</td><td> 3   </td><td> 3   </td><td> 0   </td><td> 1   </td><td>  1  </td></tr>\n",
       "\t<tr><td> 4   </td><td>0    </td><td>21   </td><td>11747</td><td> 3   </td><td> 1   </td><td> 1   </td><td> 1   </td><td>  0  </td></tr>\n",
       "\t<tr><td> 5   </td><td>0    </td><td>21   </td><td>14319</td><td> 2   </td><td> 3   </td><td> 3   </td><td> 1   </td><td>  0  </td></tr>\n",
       "\t<tr><td> 6   </td><td>1    </td><td>19   </td><td> 7126</td><td> 3   </td><td> 2   </td><td> 0   </td><td> 1   </td><td>  0  </td></tr>\n",
       "\t<tr><td> 7   </td><td>0    </td><td>20   </td><td>16067</td><td> 3   </td><td> 4   </td><td> 0   </td><td> 0   </td><td>  1  </td></tr>\n",
       "\t<tr><td> 8   </td><td>0    </td><td>20   </td><td> 3939</td><td> 3   </td><td> 2   </td><td> 0   </td><td> 1   </td><td>  0  </td></tr>\n",
       "\t<tr><td> 9   </td><td>1    </td><td>21   </td><td>28230</td><td> 4   </td><td> 2   </td><td> 0   </td><td> 0   </td><td>  0  </td></tr>\n",
       "\t<tr><td>10   </td><td>0    </td><td>21   </td><td>17396</td><td> 4   </td><td> 4   </td><td> 1   </td><td> 1   </td><td>  1  </td></tr>\n",
       "\t<tr><td>11   </td><td>1    </td><td>20   </td><td>36152</td><td> 1   </td><td> 4   </td><td> 0   </td><td> 0   </td><td>  0  </td></tr>\n",
       "\t<tr><td>12   </td><td>0    </td><td>20   </td><td>16567</td><td> 4   </td><td> 4   </td><td> 1   </td><td> 1   </td><td>  1  </td></tr>\n",
       "\t<tr><td>13   </td><td>0    </td><td>20   </td><td>   NA</td><td>NA   </td><td>NA   </td><td>NA   </td><td>NA   </td><td>  0  </td></tr>\n",
       "\t<tr><td>14   </td><td>1    </td><td>18   </td><td>11853</td><td> 4   </td><td> 2   </td><td> 0   </td><td> 1   </td><td>  0  </td></tr>\n",
       "\t<tr><td>15   </td><td>1    </td><td>18   </td><td>20433</td><td> 4   </td><td> 2   </td><td> 2   </td><td> 1   </td><td>  1  </td></tr>\n",
       "\t<tr><td>16   </td><td>1    </td><td>18   </td><td>20701</td><td> 3   </td><td> 4   </td><td> 0   </td><td> 0   </td><td>  1  </td></tr>\n",
       "\t<tr><td>17   </td><td>0    </td><td>20   </td><td>   NA</td><td>NA   </td><td>NA   </td><td>NA   </td><td> 1   </td><td>  1  </td></tr>\n",
       "\t<tr><td>18   </td><td>1    </td><td>19   </td><td>17509</td><td> 3   </td><td> 3   </td><td> 1   </td><td> 1   </td><td>  0  </td></tr>\n",
       "\t<tr><td>19   </td><td>0    </td><td>21   </td><td> 9779</td><td> 3   </td><td> 3   </td><td> 1   </td><td> 0   </td><td>  1  </td></tr>\n",
       "\t<tr><td>20   </td><td>0    </td><td>22   </td><td>18598</td><td> 3   </td><td> 3   </td><td> 1   </td><td> 1   </td><td>  0  </td></tr>\n",
       "\t<tr><td>21   </td><td>1    </td><td>20   </td><td>36665</td><td> 2   </td><td> 3   </td><td> 0   </td><td> 1   </td><td>  0  </td></tr>\n",
       "\t<tr><td>22   </td><td>0    </td><td>21   </td><td> 8094</td><td> 4   </td><td> 3   </td><td> 1   </td><td> 1   </td><td>  1  </td></tr>\n",
       "\t<tr><td>23   </td><td>1    </td><td>19   </td><td>48769</td><td> 2   </td><td> 5   </td><td> 0   </td><td> 0   </td><td>  0  </td></tr>\n",
       "\t<tr><td>24   </td><td>1    </td><td>20   </td><td>22601</td><td> 4   </td><td> 4   </td><td> 1   </td><td> 1   </td><td>  1  </td></tr>\n",
       "\t<tr><td>25   </td><td>1    </td><td>19   </td><td>37950</td><td> 4   </td><td> 4   </td><td> 0   </td><td> 1   </td><td>  1  </td></tr>\n",
       "\t<tr><td>26   </td><td>1    </td><td>20   </td><td>56047</td><td> 4   </td><td> 4   </td><td> 0   </td><td> 1   </td><td>  1  </td></tr>\n",
       "</tbody>\n",
       "</table>\n"
      ],
      "text/latex": [
       "\\begin{tabular}{r|lllllllll}\n",
       " day & run & weight & tetris & mood & energy & appetite & gre & priorTreatment\\\\\n",
       "\\hline\n",
       "\t  1    & 1     & 21    & 11092 &  3    &  3    &  0    &  1    & NaN  \\\\\n",
       "\t  2    & 1     & 21    & 14745 &  3    &  1    &  2    &  0    &   1  \\\\\n",
       "\t  3    & 0     & 20    & 11558 &  3    &  3    &  0    &  1    &   1  \\\\\n",
       "\t  4    & 0     & 21    & 11747 &  3    &  1    &  1    &  1    &   0  \\\\\n",
       "\t  5    & 0     & 21    & 14319 &  2    &  3    &  3    &  1    &   0  \\\\\n",
       "\t  6    & 1     & 19    &  7126 &  3    &  2    &  0    &  1    &   0  \\\\\n",
       "\t  7    & 0     & 20    & 16067 &  3    &  4    &  0    &  0    &   1  \\\\\n",
       "\t  8    & 0     & 20    &  3939 &  3    &  2    &  0    &  1    &   0  \\\\\n",
       "\t  9    & 1     & 21    & 28230 &  4    &  2    &  0    &  0    &   0  \\\\\n",
       "\t 10    & 0     & 21    & 17396 &  4    &  4    &  1    &  1    &   1  \\\\\n",
       "\t 11    & 1     & 20    & 36152 &  1    &  4    &  0    &  0    &   0  \\\\\n",
       "\t 12    & 0     & 20    & 16567 &  4    &  4    &  1    &  1    &   1  \\\\\n",
       "\t 13    & 0     & 20    &    NA & NA    & NA    & NA    & NA    &   0  \\\\\n",
       "\t 14    & 1     & 18    & 11853 &  4    &  2    &  0    &  1    &   0  \\\\\n",
       "\t 15    & 1     & 18    & 20433 &  4    &  2    &  2    &  1    &   1  \\\\\n",
       "\t 16    & 1     & 18    & 20701 &  3    &  4    &  0    &  0    &   1  \\\\\n",
       "\t 17    & 0     & 20    &    NA & NA    & NA    & NA    &  1    &   1  \\\\\n",
       "\t 18    & 1     & 19    & 17509 &  3    &  3    &  1    &  1    &   0  \\\\\n",
       "\t 19    & 0     & 21    &  9779 &  3    &  3    &  1    &  0    &   1  \\\\\n",
       "\t 20    & 0     & 22    & 18598 &  3    &  3    &  1    &  1    &   0  \\\\\n",
       "\t 21    & 1     & 20    & 36665 &  2    &  3    &  0    &  1    &   0  \\\\\n",
       "\t 22    & 0     & 21    &  8094 &  4    &  3    &  1    &  1    &   1  \\\\\n",
       "\t 23    & 1     & 19    & 48769 &  2    &  5    &  0    &  0    &   0  \\\\\n",
       "\t 24    & 1     & 20    & 22601 &  4    &  4    &  1    &  1    &   1  \\\\\n",
       "\t 25    & 1     & 19    & 37950 &  4    &  4    &  0    &  1    &   1  \\\\\n",
       "\t 26    & 1     & 20    & 56047 &  4    &  4    &  0    &  1    &   1  \\\\\n",
       "\\end{tabular}\n"
      ],
      "text/markdown": [
       "\n",
       "day | run | weight | tetris | mood | energy | appetite | gre | priorTreatment | \n",
       "|---|---|---|---|---|---|---|---|---|---|---|---|---|---|---|---|---|---|---|---|---|---|---|---|---|---|\n",
       "|  1    | 1     | 21    | 11092 |  3    |  3    |  0    |  1    | NaN   | \n",
       "|  2    | 1     | 21    | 14745 |  3    |  1    |  2    |  0    |   1   | \n",
       "|  3    | 0     | 20    | 11558 |  3    |  3    |  0    |  1    |   1   | \n",
       "|  4    | 0     | 21    | 11747 |  3    |  1    |  1    |  1    |   0   | \n",
       "|  5    | 0     | 21    | 14319 |  2    |  3    |  3    |  1    |   0   | \n",
       "|  6    | 1     | 19    |  7126 |  3    |  2    |  0    |  1    |   0   | \n",
       "|  7    | 0     | 20    | 16067 |  3    |  4    |  0    |  0    |   1   | \n",
       "|  8    | 0     | 20    |  3939 |  3    |  2    |  0    |  1    |   0   | \n",
       "|  9    | 1     | 21    | 28230 |  4    |  2    |  0    |  0    |   0   | \n",
       "| 10    | 0     | 21    | 17396 |  4    |  4    |  1    |  1    |   1   | \n",
       "| 11    | 1     | 20    | 36152 |  1    |  4    |  0    |  0    |   0   | \n",
       "| 12    | 0     | 20    | 16567 |  4    |  4    |  1    |  1    |   1   | \n",
       "| 13    | 0     | 20    |    NA | NA    | NA    | NA    | NA    |   0   | \n",
       "| 14    | 1     | 18    | 11853 |  4    |  2    |  0    |  1    |   0   | \n",
       "| 15    | 1     | 18    | 20433 |  4    |  2    |  2    |  1    |   1   | \n",
       "| 16    | 1     | 18    | 20701 |  3    |  4    |  0    |  0    |   1   | \n",
       "| 17    | 0     | 20    |    NA | NA    | NA    | NA    |  1    |   1   | \n",
       "| 18    | 1     | 19    | 17509 |  3    |  3    |  1    |  1    |   0   | \n",
       "| 19    | 0     | 21    |  9779 |  3    |  3    |  1    |  0    |   1   | \n",
       "| 20    | 0     | 22    | 18598 |  3    |  3    |  1    |  1    |   0   | \n",
       "| 21    | 1     | 20    | 36665 |  2    |  3    |  0    |  1    |   0   | \n",
       "| 22    | 0     | 21    |  8094 |  4    |  3    |  1    |  1    |   1   | \n",
       "| 23    | 1     | 19    | 48769 |  2    |  5    |  0    |  0    |   0   | \n",
       "| 24    | 1     | 20    | 22601 |  4    |  4    |  1    |  1    |   1   | \n",
       "| 25    | 1     | 19    | 37950 |  4    |  4    |  0    |  1    |   1   | \n",
       "| 26    | 1     | 20    | 56047 |  4    |  4    |  0    |  1    |   1   | \n",
       "\n",
       "\n"
      ],
      "text/plain": [
       "   day run weight tetris mood energy appetite gre priorTreatment\n",
       "1   1  1   21     11092   3    3      0        1  NaN           \n",
       "2   2  1   21     14745   3    1      2        0    1           \n",
       "3   3  0   20     11558   3    3      0        1    1           \n",
       "4   4  0   21     11747   3    1      1        1    0           \n",
       "5   5  0   21     14319   2    3      3        1    0           \n",
       "6   6  1   19      7126   3    2      0        1    0           \n",
       "7   7  0   20     16067   3    4      0        0    1           \n",
       "8   8  0   20      3939   3    2      0        1    0           \n",
       "9   9  1   21     28230   4    2      0        0    0           \n",
       "10 10  0   21     17396   4    4      1        1    1           \n",
       "11 11  1   20     36152   1    4      0        0    0           \n",
       "12 12  0   20     16567   4    4      1        1    1           \n",
       "13 13  0   20        NA  NA   NA     NA       NA    0           \n",
       "14 14  1   18     11853   4    2      0        1    0           \n",
       "15 15  1   18     20433   4    2      2        1    1           \n",
       "16 16  1   18     20701   3    4      0        0    1           \n",
       "17 17  0   20        NA  NA   NA     NA        1    1           \n",
       "18 18  1   19     17509   3    3      1        1    0           \n",
       "19 19  0   21      9779   3    3      1        0    1           \n",
       "20 20  0   22     18598   3    3      1        1    0           \n",
       "21 21  1   20     36665   2    3      0        1    0           \n",
       "22 22  0   21      8094   4    3      1        1    1           \n",
       "23 23  1   19     48769   2    5      0        0    0           \n",
       "24 24  1   20     22601   4    4      1        1    1           \n",
       "25 25  1   19     37950   4    4      0        1    1           \n",
       "26 26  1   20     56047   4    4      0        1    1           "
      ]
     },
     "metadata": {},
     "output_type": "display_data"
    }
   ],
   "source": [
    "#adding prior day run\n",
    "assignment = cbind(d2$run)\n",
    "#increasing it by one\n",
    "assignment <- append(assignment, NaN, after = 0)\n",
    "d2$priorTreatment <- assignment[1:length(assignment)-1]\n",
    "d2"
   ]
  },
  {
   "cell_type": "markdown",
   "metadata": {},
   "source": [
    "On treatment assignment:"
   ]
  },
  {
   "cell_type": "code",
   "execution_count": 37,
   "metadata": {
    "scrolled": true
   },
   "outputs": [
    {
     "data": {
      "text/plain": [
       "\n",
       "t test of coefficients:\n",
       "\n",
       "            Estimate Std. Error t value Pr(>|t|)   \n",
       "(Intercept)  12806.4     3708.5  3.4532 0.002264 **\n",
       "run          13613.1     4855.6  2.8036 0.010351 * \n",
       "---\n",
       "Signif. codes:  0 ‘***’ 0.001 ‘**’ 0.01 ‘*’ 0.05 ‘.’ 0.1 ‘ ’ 1\n"
      ]
     },
     "metadata": {},
     "output_type": "display_data"
    }
   ],
   "source": [
    "treatRegression <- lm(tetris ~ run, data = d2)\n",
    "coeftest(treatRegression)"
   ]
  },
  {
   "cell_type": "markdown",
   "metadata": {},
   "source": [
    "P-value suggests that the sharp null hypothesis of no immetiate treatment effect can be rejected at a 99% confidence level."
   ]
  },
  {
   "cell_type": "code",
   "execution_count": 38,
   "metadata": {},
   "outputs": [
    {
     "data": {
      "text/plain": [
       "\n",
       "t test of coefficients:\n",
       "\n",
       "            Estimate Std. Error t value  Pr(>|t|)    \n",
       "(Intercept)  0.58333    0.14924  3.9086 0.0007057 ***\n",
       "run         -0.12179    0.20696 -0.5885 0.5619394    \n",
       "---\n",
       "Signif. codes:  0 ‘***’ 0.001 ‘**’ 0.01 ‘*’ 0.05 ‘.’ 0.1 ‘ ’ 1\n"
      ]
     },
     "metadata": {},
     "output_type": "display_data"
    }
   ],
   "source": [
    "priorTreatRegression <- lm(priorTreatment ~ run, data = d2)\n",
    "coeftest(priorTreatRegression)"
   ]
  },
  {
   "cell_type": "markdown",
   "metadata": {},
   "source": [
    "P-value suggests that the sharp null hypothesis of no effect of prior treatment (lagged effect) can not be rejected at a relevant statistical significance level. This seems to support the argument that the non persistance assumption holds."
   ]
  },
  {
   "cell_type": "markdown",
   "metadata": {},
   "source": [
    "c. One way to lend credibility to with-subjects results is to verify the no-anticipation assumption. Use the variable `run` to predict the `tetris` score *on the preeceding day*. Presume that the randomization is fixed. Why is this a test of the no-anticipation assumption? Does a test for no-anticipation confirm this assumption? "
   ]
  },
  {
   "cell_type": "markdown",
   "metadata": {},
   "source": [
    "**Answer**"
   ]
  },
  {
   "cell_type": "code",
   "execution_count": 39,
   "metadata": {},
   "outputs": [
    {
     "data": {
      "text/html": [
       "<table>\n",
       "<thead><tr><th scope=col>day</th><th scope=col>run</th><th scope=col>weight</th><th scope=col>tetris</th><th scope=col>mood</th><th scope=col>energy</th><th scope=col>appetite</th><th scope=col>gre</th><th scope=col>priorTreatment</th><th scope=col>priorDayTetrisScore</th></tr></thead>\n",
       "<tbody>\n",
       "\t<tr><td> 1   </td><td>1    </td><td>21   </td><td>11092</td><td> 3   </td><td> 3   </td><td> 0   </td><td> 1   </td><td>NaN  </td><td>  NaN</td></tr>\n",
       "\t<tr><td> 2   </td><td>1    </td><td>21   </td><td>14745</td><td> 3   </td><td> 1   </td><td> 2   </td><td> 0   </td><td>  1  </td><td>11092</td></tr>\n",
       "\t<tr><td> 3   </td><td>0    </td><td>20   </td><td>11558</td><td> 3   </td><td> 3   </td><td> 0   </td><td> 1   </td><td>  1  </td><td>14745</td></tr>\n",
       "\t<tr><td> 4   </td><td>0    </td><td>21   </td><td>11747</td><td> 3   </td><td> 1   </td><td> 1   </td><td> 1   </td><td>  0  </td><td>11558</td></tr>\n",
       "\t<tr><td> 5   </td><td>0    </td><td>21   </td><td>14319</td><td> 2   </td><td> 3   </td><td> 3   </td><td> 1   </td><td>  0  </td><td>11747</td></tr>\n",
       "\t<tr><td> 6   </td><td>1    </td><td>19   </td><td> 7126</td><td> 3   </td><td> 2   </td><td> 0   </td><td> 1   </td><td>  0  </td><td>14319</td></tr>\n",
       "\t<tr><td> 7   </td><td>0    </td><td>20   </td><td>16067</td><td> 3   </td><td> 4   </td><td> 0   </td><td> 0   </td><td>  1  </td><td> 7126</td></tr>\n",
       "\t<tr><td> 8   </td><td>0    </td><td>20   </td><td> 3939</td><td> 3   </td><td> 2   </td><td> 0   </td><td> 1   </td><td>  0  </td><td>16067</td></tr>\n",
       "\t<tr><td> 9   </td><td>1    </td><td>21   </td><td>28230</td><td> 4   </td><td> 2   </td><td> 0   </td><td> 0   </td><td>  0  </td><td> 3939</td></tr>\n",
       "\t<tr><td>10   </td><td>0    </td><td>21   </td><td>17396</td><td> 4   </td><td> 4   </td><td> 1   </td><td> 1   </td><td>  1  </td><td>28230</td></tr>\n",
       "\t<tr><td>11   </td><td>1    </td><td>20   </td><td>36152</td><td> 1   </td><td> 4   </td><td> 0   </td><td> 0   </td><td>  0  </td><td>17396</td></tr>\n",
       "\t<tr><td>12   </td><td>0    </td><td>20   </td><td>16567</td><td> 4   </td><td> 4   </td><td> 1   </td><td> 1   </td><td>  1  </td><td>36152</td></tr>\n",
       "\t<tr><td>13   </td><td>0    </td><td>20   </td><td>   NA</td><td>NA   </td><td>NA   </td><td>NA   </td><td>NA   </td><td>  0  </td><td>16567</td></tr>\n",
       "\t<tr><td>14   </td><td>1    </td><td>18   </td><td>11853</td><td> 4   </td><td> 2   </td><td> 0   </td><td> 1   </td><td>  0  </td><td>   NA</td></tr>\n",
       "\t<tr><td>15   </td><td>1    </td><td>18   </td><td>20433</td><td> 4   </td><td> 2   </td><td> 2   </td><td> 1   </td><td>  1  </td><td>11853</td></tr>\n",
       "\t<tr><td>16   </td><td>1    </td><td>18   </td><td>20701</td><td> 3   </td><td> 4   </td><td> 0   </td><td> 0   </td><td>  1  </td><td>20433</td></tr>\n",
       "\t<tr><td>17   </td><td>0    </td><td>20   </td><td>   NA</td><td>NA   </td><td>NA   </td><td>NA   </td><td> 1   </td><td>  1  </td><td>20701</td></tr>\n",
       "\t<tr><td>18   </td><td>1    </td><td>19   </td><td>17509</td><td> 3   </td><td> 3   </td><td> 1   </td><td> 1   </td><td>  0  </td><td>   NA</td></tr>\n",
       "\t<tr><td>19   </td><td>0    </td><td>21   </td><td> 9779</td><td> 3   </td><td> 3   </td><td> 1   </td><td> 0   </td><td>  1  </td><td>17509</td></tr>\n",
       "\t<tr><td>20   </td><td>0    </td><td>22   </td><td>18598</td><td> 3   </td><td> 3   </td><td> 1   </td><td> 1   </td><td>  0  </td><td> 9779</td></tr>\n",
       "\t<tr><td>21   </td><td>1    </td><td>20   </td><td>36665</td><td> 2   </td><td> 3   </td><td> 0   </td><td> 1   </td><td>  0  </td><td>18598</td></tr>\n",
       "\t<tr><td>22   </td><td>0    </td><td>21   </td><td> 8094</td><td> 4   </td><td> 3   </td><td> 1   </td><td> 1   </td><td>  1  </td><td>36665</td></tr>\n",
       "\t<tr><td>23   </td><td>1    </td><td>19   </td><td>48769</td><td> 2   </td><td> 5   </td><td> 0   </td><td> 0   </td><td>  0  </td><td> 8094</td></tr>\n",
       "\t<tr><td>24   </td><td>1    </td><td>20   </td><td>22601</td><td> 4   </td><td> 4   </td><td> 1   </td><td> 1   </td><td>  1  </td><td>48769</td></tr>\n",
       "\t<tr><td>25   </td><td>1    </td><td>19   </td><td>37950</td><td> 4   </td><td> 4   </td><td> 0   </td><td> 1   </td><td>  1  </td><td>22601</td></tr>\n",
       "\t<tr><td>26   </td><td>1    </td><td>20   </td><td>56047</td><td> 4   </td><td> 4   </td><td> 0   </td><td> 1   </td><td>  1  </td><td>37950</td></tr>\n",
       "</tbody>\n",
       "</table>\n"
      ],
      "text/latex": [
       "\\begin{tabular}{r|llllllllll}\n",
       " day & run & weight & tetris & mood & energy & appetite & gre & priorTreatment & priorDayTetrisScore\\\\\n",
       "\\hline\n",
       "\t  1    & 1     & 21    & 11092 &  3    &  3    &  0    &  1    & NaN   &   NaN\\\\\n",
       "\t  2    & 1     & 21    & 14745 &  3    &  1    &  2    &  0    &   1   & 11092\\\\\n",
       "\t  3    & 0     & 20    & 11558 &  3    &  3    &  0    &  1    &   1   & 14745\\\\\n",
       "\t  4    & 0     & 21    & 11747 &  3    &  1    &  1    &  1    &   0   & 11558\\\\\n",
       "\t  5    & 0     & 21    & 14319 &  2    &  3    &  3    &  1    &   0   & 11747\\\\\n",
       "\t  6    & 1     & 19    &  7126 &  3    &  2    &  0    &  1    &   0   & 14319\\\\\n",
       "\t  7    & 0     & 20    & 16067 &  3    &  4    &  0    &  0    &   1   &  7126\\\\\n",
       "\t  8    & 0     & 20    &  3939 &  3    &  2    &  0    &  1    &   0   & 16067\\\\\n",
       "\t  9    & 1     & 21    & 28230 &  4    &  2    &  0    &  0    &   0   &  3939\\\\\n",
       "\t 10    & 0     & 21    & 17396 &  4    &  4    &  1    &  1    &   1   & 28230\\\\\n",
       "\t 11    & 1     & 20    & 36152 &  1    &  4    &  0    &  0    &   0   & 17396\\\\\n",
       "\t 12    & 0     & 20    & 16567 &  4    &  4    &  1    &  1    &   1   & 36152\\\\\n",
       "\t 13    & 0     & 20    &    NA & NA    & NA    & NA    & NA    &   0   & 16567\\\\\n",
       "\t 14    & 1     & 18    & 11853 &  4    &  2    &  0    &  1    &   0   &    NA\\\\\n",
       "\t 15    & 1     & 18    & 20433 &  4    &  2    &  2    &  1    &   1   & 11853\\\\\n",
       "\t 16    & 1     & 18    & 20701 &  3    &  4    &  0    &  0    &   1   & 20433\\\\\n",
       "\t 17    & 0     & 20    &    NA & NA    & NA    & NA    &  1    &   1   & 20701\\\\\n",
       "\t 18    & 1     & 19    & 17509 &  3    &  3    &  1    &  1    &   0   &    NA\\\\\n",
       "\t 19    & 0     & 21    &  9779 &  3    &  3    &  1    &  0    &   1   & 17509\\\\\n",
       "\t 20    & 0     & 22    & 18598 &  3    &  3    &  1    &  1    &   0   &  9779\\\\\n",
       "\t 21    & 1     & 20    & 36665 &  2    &  3    &  0    &  1    &   0   & 18598\\\\\n",
       "\t 22    & 0     & 21    &  8094 &  4    &  3    &  1    &  1    &   1   & 36665\\\\\n",
       "\t 23    & 1     & 19    & 48769 &  2    &  5    &  0    &  0    &   0   &  8094\\\\\n",
       "\t 24    & 1     & 20    & 22601 &  4    &  4    &  1    &  1    &   1   & 48769\\\\\n",
       "\t 25    & 1     & 19    & 37950 &  4    &  4    &  0    &  1    &   1   & 22601\\\\\n",
       "\t 26    & 1     & 20    & 56047 &  4    &  4    &  0    &  1    &   1   & 37950\\\\\n",
       "\\end{tabular}\n"
      ],
      "text/markdown": [
       "\n",
       "day | run | weight | tetris | mood | energy | appetite | gre | priorTreatment | priorDayTetrisScore | \n",
       "|---|---|---|---|---|---|---|---|---|---|---|---|---|---|---|---|---|---|---|---|---|---|---|---|---|---|\n",
       "|  1    | 1     | 21    | 11092 |  3    |  3    |  0    |  1    | NaN   |   NaN | \n",
       "|  2    | 1     | 21    | 14745 |  3    |  1    |  2    |  0    |   1   | 11092 | \n",
       "|  3    | 0     | 20    | 11558 |  3    |  3    |  0    |  1    |   1   | 14745 | \n",
       "|  4    | 0     | 21    | 11747 |  3    |  1    |  1    |  1    |   0   | 11558 | \n",
       "|  5    | 0     | 21    | 14319 |  2    |  3    |  3    |  1    |   0   | 11747 | \n",
       "|  6    | 1     | 19    |  7126 |  3    |  2    |  0    |  1    |   0   | 14319 | \n",
       "|  7    | 0     | 20    | 16067 |  3    |  4    |  0    |  0    |   1   |  7126 | \n",
       "|  8    | 0     | 20    |  3939 |  3    |  2    |  0    |  1    |   0   | 16067 | \n",
       "|  9    | 1     | 21    | 28230 |  4    |  2    |  0    |  0    |   0   |  3939 | \n",
       "| 10    | 0     | 21    | 17396 |  4    |  4    |  1    |  1    |   1   | 28230 | \n",
       "| 11    | 1     | 20    | 36152 |  1    |  4    |  0    |  0    |   0   | 17396 | \n",
       "| 12    | 0     | 20    | 16567 |  4    |  4    |  1    |  1    |   1   | 36152 | \n",
       "| 13    | 0     | 20    |    NA | NA    | NA    | NA    | NA    |   0   | 16567 | \n",
       "| 14    | 1     | 18    | 11853 |  4    |  2    |  0    |  1    |   0   |    NA | \n",
       "| 15    | 1     | 18    | 20433 |  4    |  2    |  2    |  1    |   1   | 11853 | \n",
       "| 16    | 1     | 18    | 20701 |  3    |  4    |  0    |  0    |   1   | 20433 | \n",
       "| 17    | 0     | 20    |    NA | NA    | NA    | NA    |  1    |   1   | 20701 | \n",
       "| 18    | 1     | 19    | 17509 |  3    |  3    |  1    |  1    |   0   |    NA | \n",
       "| 19    | 0     | 21    |  9779 |  3    |  3    |  1    |  0    |   1   | 17509 | \n",
       "| 20    | 0     | 22    | 18598 |  3    |  3    |  1    |  1    |   0   |  9779 | \n",
       "| 21    | 1     | 20    | 36665 |  2    |  3    |  0    |  1    |   0   | 18598 | \n",
       "| 22    | 0     | 21    |  8094 |  4    |  3    |  1    |  1    |   1   | 36665 | \n",
       "| 23    | 1     | 19    | 48769 |  2    |  5    |  0    |  0    |   0   |  8094 | \n",
       "| 24    | 1     | 20    | 22601 |  4    |  4    |  1    |  1    |   1   | 48769 | \n",
       "| 25    | 1     | 19    | 37950 |  4    |  4    |  0    |  1    |   1   | 22601 | \n",
       "| 26    | 1     | 20    | 56047 |  4    |  4    |  0    |  1    |   1   | 37950 | \n",
       "\n",
       "\n"
      ],
      "text/plain": [
       "   day run weight tetris mood energy appetite gre priorTreatment\n",
       "1   1  1   21     11092   3    3      0        1  NaN           \n",
       "2   2  1   21     14745   3    1      2        0    1           \n",
       "3   3  0   20     11558   3    3      0        1    1           \n",
       "4   4  0   21     11747   3    1      1        1    0           \n",
       "5   5  0   21     14319   2    3      3        1    0           \n",
       "6   6  1   19      7126   3    2      0        1    0           \n",
       "7   7  0   20     16067   3    4      0        0    1           \n",
       "8   8  0   20      3939   3    2      0        1    0           \n",
       "9   9  1   21     28230   4    2      0        0    0           \n",
       "10 10  0   21     17396   4    4      1        1    1           \n",
       "11 11  1   20     36152   1    4      0        0    0           \n",
       "12 12  0   20     16567   4    4      1        1    1           \n",
       "13 13  0   20        NA  NA   NA     NA       NA    0           \n",
       "14 14  1   18     11853   4    2      0        1    0           \n",
       "15 15  1   18     20433   4    2      2        1    1           \n",
       "16 16  1   18     20701   3    4      0        0    1           \n",
       "17 17  0   20        NA  NA   NA     NA        1    1           \n",
       "18 18  1   19     17509   3    3      1        1    0           \n",
       "19 19  0   21      9779   3    3      1        0    1           \n",
       "20 20  0   22     18598   3    3      1        1    0           \n",
       "21 21  1   20     36665   2    3      0        1    0           \n",
       "22 22  0   21      8094   4    3      1        1    1           \n",
       "23 23  1   19     48769   2    5      0        0    0           \n",
       "24 24  1   20     22601   4    4      1        1    1           \n",
       "25 25  1   19     37950   4    4      0        1    1           \n",
       "26 26  1   20     56047   4    4      0        1    1           \n",
       "   priorDayTetrisScore\n",
       "1    NaN              \n",
       "2  11092              \n",
       "3  14745              \n",
       "4  11558              \n",
       "5  11747              \n",
       "6  14319              \n",
       "7   7126              \n",
       "8  16067              \n",
       "9   3939              \n",
       "10 28230              \n",
       "11 17396              \n",
       "12 36152              \n",
       "13 16567              \n",
       "14    NA              \n",
       "15 11853              \n",
       "16 20433              \n",
       "17 20701              \n",
       "18    NA              \n",
       "19 17509              \n",
       "20  9779              \n",
       "21 18598              \n",
       "22 36665              \n",
       "23  8094              \n",
       "24 48769              \n",
       "25 22601              \n",
       "26 37950              "
      ]
     },
     "metadata": {},
     "output_type": "display_data"
    }
   ],
   "source": [
    "#adding prior day run\n",
    "tetrisMeasuresSchedule = cbind(d2$tetris)\n",
    "#increasing it by one\n",
    "tetrisMeasuresSchedule <- append(tetrisMeasuresSchedule, NaN, after = 0)\n",
    "d2$priorDayTetrisScore <- tetrisMeasuresSchedule[1:length(tetrisMeasuresSchedule)-1]\n",
    "d2"
   ]
  },
  {
   "cell_type": "code",
   "execution_count": 40,
   "metadata": {
    "scrolled": true
   },
   "outputs": [
    {
     "data": {
      "text/plain": [
       "\n",
       "Call:\n",
       "lm(formula = priorDayTetrisScore ~ run, data = d2)\n",
       "\n",
       "Residuals:\n",
       "   Min     1Q Median     3Q    Max \n",
       "-15610  -7521  -2337   2424  29220 \n",
       "\n",
       "Coefficients:\n",
       "            Estimate Std. Error t value Pr(>|t|)    \n",
       "(Intercept)  18903.8     3335.8   5.667 1.26e-05 ***\n",
       "run            645.6     4823.5   0.134    0.895    \n",
       "---\n",
       "Signif. codes:  0 ‘***’ 0.001 ‘**’ 0.01 ‘*’ 0.05 ‘.’ 0.1 ‘ ’ 1\n",
       "\n",
       "Residual standard error: 11560 on 21 degrees of freedom\n",
       "  (3 observations deleted due to missingness)\n",
       "Multiple R-squared:  0.0008524,\tAdjusted R-squared:  -0.04673 \n",
       "F-statistic: 0.01792 on 1 and 21 DF,  p-value: 0.8948\n"
      ]
     },
     "metadata": {},
     "output_type": "display_data"
    }
   ],
   "source": [
    "runRegression <- lm(priorDayTetrisScore ~ run, data = d2)\n",
    "summary(runRegression)"
   ]
  },
  {
   "cell_type": "markdown",
   "metadata": {},
   "source": [
    "This is a reasonable approach to test the non anticipation assumption. Both the coefficient (negligible) and it's p-value (not significant) suggest there is no correlation whatsoever between the future treatment and the observed effect.\n",
    "\n",
    "However this test does not necessarily confirm the assumption, as we're only regressing on the immidiately preceeding score, rather than trying out shifting the treatment applied in subsequent times (higher lag) in the future."
   ]
  },
  {
   "cell_type": "markdown",
   "metadata": {},
   "source": [
    "d. If Tetris responds to exercise, one might suppose that energy levels and GRE scores would as well. Are these hypotheses borne out by the data? "
   ]
  },
  {
   "cell_type": "markdown",
   "metadata": {},
   "source": [
    "**Answer**"
   ]
  },
  {
   "cell_type": "markdown",
   "metadata": {},
   "source": [
    "**Energy**"
   ]
  },
  {
   "cell_type": "code",
   "execution_count": 41,
   "metadata": {
    "scrolled": true
   },
   "outputs": [
    {
     "data": {
      "text/plain": [
       "\n",
       "Call:\n",
       "lm(formula = energy ~ run, data = d2)\n",
       "\n",
       "Residuals:\n",
       "    Min      1Q  Median      3Q     Max \n",
       "-2.0714 -1.0179  0.0000  0.9286  1.9286 \n",
       "\n",
       "Coefficients:\n",
       "            Estimate Std. Error t value Pr(>|t|)    \n",
       "(Intercept)  3.00000    0.33662   8.912  9.4e-09 ***\n",
       "run          0.07143    0.44074   0.162    0.873    \n",
       "---\n",
       "Signif. codes:  0 ‘***’ 0.001 ‘**’ 0.01 ‘*’ 0.05 ‘.’ 0.1 ‘ ’ 1\n",
       "\n",
       "Residual standard error: 1.064 on 22 degrees of freedom\n",
       "  (2 observations deleted due to missingness)\n",
       "Multiple R-squared:  0.001192,\tAdjusted R-squared:  -0.04421 \n",
       "F-statistic: 0.02627 on 1 and 22 DF,  p-value: 0.8727\n"
      ]
     },
     "metadata": {},
     "output_type": "display_data"
    }
   ],
   "source": [
    "energyRegression <- lm(energy ~ run, data = d2)\n",
    "summary(energyRegression)"
   ]
  },
  {
   "cell_type": "markdown",
   "metadata": {},
   "source": [
    "The hypothesis that energy levels respond to exercise is not supported by the data. The non persistence assumption might play a bigger role here. One can argue that prior sessions of running/walking have an persistent effect on the energy levels of the subject, that is, the longer she's greater she has been subject to exersice in the past, the more conditioned her body becomes resulsting in long lasting effects on energy levels. This will produce biased estimates of the effect as there is not enough time for the effects of the prior treatments to 'wash out'"
   ]
  },
  {
   "cell_type": "markdown",
   "metadata": {},
   "source": [
    "**GRE**"
   ]
  },
  {
   "cell_type": "code",
   "execution_count": 42,
   "metadata": {},
   "outputs": [
    {
     "data": {
      "text/plain": [
       "\n",
       "Call:\n",
       "lm(formula = gre ~ run, data = d2)\n",
       "\n",
       "Residuals:\n",
       "    Min      1Q  Median      3Q     Max \n",
       "-0.8182 -0.6429  0.1818  0.3571  0.3571 \n",
       "\n",
       "Coefficients:\n",
       "            Estimate Std. Error t value Pr(>|t|)    \n",
       "(Intercept)   0.8182     0.1385   5.909 5.05e-06 ***\n",
       "run          -0.1753     0.1850  -0.948    0.353    \n",
       "---\n",
       "Signif. codes:  0 ‘***’ 0.001 ‘**’ 0.01 ‘*’ 0.05 ‘.’ 0.1 ‘ ’ 1\n",
       "\n",
       "Residual standard error: 0.4592 on 23 degrees of freedom\n",
       "  (1 observation deleted due to missingness)\n",
       "Multiple R-squared:  0.03757,\tAdjusted R-squared:  -0.004275 \n",
       "F-statistic: 0.8978 on 1 and 23 DF,  p-value: 0.3532\n"
      ]
     },
     "metadata": {},
     "output_type": "display_data"
    }
   ],
   "source": [
    "greRegression <- lm(gre ~ run, data = d2)\n",
    "summary(greRegression)"
   ]
  },
  {
   "cell_type": "markdown",
   "metadata": {},
   "source": [
    "The hypothesis that GRE responds to exercise is not supported by the data at a statistically significant level. Once again, the non persistence assumption may play a big role here. As time goes by the subjects ability to correcty answer a math question on the GRE could have improved (simply by getting better with practice!) without regards to treatment assignment."
   ]
  },
  {
   "cell_type": "markdown",
   "metadata": {},
   "source": [
    "e. **Additional Mandatory Question**: Note that the observations in this regression are not necessarily all independent of each other. In particular, think about what happens when we lag a variable. Given this non-independence, would you expect randomization inference to give you a better answer than the regression answer you just obtained in (b)? Why? Which number(s) do you expect to be different in regression than in randomization inference?  What is the direction of the bias?  (This is a conceptual question, so you do not need to conduct the randomization inference to answer it. However, you are certainly welcome to try that exercise if you are curious.)"
   ]
  },
  {
   "cell_type": "markdown",
   "metadata": {},
   "source": [
    "**Answer**"
   ]
  },
  {
   "cell_type": "markdown",
   "metadata": {},
   "source": [
    "The linear regression approach is overstating the treatment effect in tetris scores for multiple reasons. First tetris score can be though of as both the post-treatment variable but also a pre-treatment variable. That is, the prior tetris score of the subject is instrumental to understand the effect of exercising in the post-treatment score. \n",
    "\n",
    "Also, as we are dealing with a within-subject experiment, a simple regression fails to account for two problems: (1) the fact that the tetris score improves overtime - hence the difference in score should be measured, and (2) that the distribution of the treatment is skewed overtime, that is in the first couple of weeks, where tetris scores were lower, the subject exercised ~42% of the time, whereas on the last two weeks (when scores were higher) the subject exercised ~70% of the time. By virtue of that instatiation of the assignment the linear regression might attribute the effects of playing tetris over time to the treatment attribute.\n",
    "\n",
    "\n",
    "Under a randomization inference approach, we would expect the p-value to be higher under a randomization inference approach as it take into account all potential realizations where the treatment assignment is as unbalanced as the one observed in the experiment."
   ]
  }
 ],
 "metadata": {
  "kernelspec": {
   "display_name": "R",
   "language": "R",
   "name": "ir"
  },
  "language_info": {
   "codemirror_mode": "r",
   "file_extension": ".r",
   "mimetype": "text/x-r-source",
   "name": "R",
   "pygments_lexer": "r",
   "version": "3.4.2"
  }
 },
 "nbformat": 4,
 "nbformat_minor": 2
}
