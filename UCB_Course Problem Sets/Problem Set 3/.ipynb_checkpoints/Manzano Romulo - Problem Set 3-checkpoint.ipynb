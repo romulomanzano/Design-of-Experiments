{
 "cells": [
  {
   "cell_type": "markdown",
   "metadata": {},
   "source": [
    "# Problem Set #1"
   ]
  },
  {
   "cell_type": "markdown",
   "metadata": {},
   "source": [
    "## Experiments and Causality"
   ]
  },
  {
   "cell_type": "markdown",
   "metadata": {},
   "source": [
    "Romulo Manzano (15Oct2017)"
   ]
  },
  {
   "cell_type": "code",
   "execution_count": 1,
   "metadata": {},
   "outputs": [
    {
     "name": "stderr",
     "output_type": "stream",
     "text": [
      "Warning message:\n",
      ": package 'lmtest' was built under R version 3.3.2Loading required package: zoo\n",
      "\n",
      "Attaching package: 'zoo'\n",
      "\n",
      "The following objects are masked from 'package:base':\n",
      "\n",
      "    as.Date, as.Date.numeric\n",
      "\n",
      "Warning message:\n",
      ": package 'sandwich' was built under R version 3.3.2Warning message:\n",
      ": package 'multiwayvcov' was built under R version 3.3.3Warning message:\n",
      ": package 'stargazer' was built under R version 3.3.2\n",
      "Please cite as: \n",
      "\n",
      " Hlavac, Marek (2015). stargazer: Well-Formatted Regression and Summary Statistics Tables.\n",
      " R package version 5.2. http://CRAN.R-project.org/package=stargazer \n",
      "\n"
     ]
    }
   ],
   "source": [
    "# load packages \n",
    "library(data.table)\n",
    "library(foreign)\n",
    "library(lmtest)\n",
    "library(sandwich)\n",
    "library(multiwayvcov)\n",
    "library(data.table)\n",
    "library(stargazer)"
   ]
  },
  {
   "cell_type": "markdown",
   "metadata": {},
   "source": [
    "# 1 Replicate Results \n",
    "\n",
    "Skim [Broockman and Green's](http://link.springer.com/article/10.1007/s11109-013-9239-z) paper on the effects of Facebook ads and download an anonymized version of the data for Facebook users only.\n"
   ]
  },
  {
   "cell_type": "code",
   "execution_count": 2,
   "metadata": {},
   "outputs": [
    {
     "data": {
      "text/html": [
       "<table>\n",
       "<thead><tr><th scope=col>studyno</th><th scope=col>treat_ad</th><th scope=col>cluster</th><th scope=col>name_recall</th><th scope=col>positive_impression</th></tr></thead>\n",
       "<tbody>\n",
       "\t<tr><td>2                        </td><td>0                        </td><td>Study 2, Cluster Number 1</td><td>0                        </td><td>0                        </td></tr>\n",
       "\t<tr><td>2                        </td><td>0                        </td><td>Study 2, Cluster Number 2</td><td>1                        </td><td>0                        </td></tr>\n",
       "\t<tr><td>2                        </td><td>0                        </td><td>Study 2, Cluster Number 3</td><td>0                        </td><td>0                        </td></tr>\n",
       "\t<tr><td>2                        </td><td>0                        </td><td>Study 2, Cluster Number 4</td><td>1                        </td><td>0                        </td></tr>\n",
       "\t<tr><td>2                        </td><td>1                        </td><td>Study 2, Cluster Number 7</td><td>1                        </td><td>1                        </td></tr>\n",
       "\t<tr><td>2                        </td><td>1                        </td><td>Study 2, Cluster Number 7</td><td>0                        </td><td>0                        </td></tr>\n",
       "</tbody>\n",
       "</table>\n"
      ],
      "text/latex": [
       "\\begin{tabular}{r|lllll}\n",
       " studyno & treat\\_ad & cluster & name\\_recall & positive\\_impression\\\\\n",
       "\\hline\n",
       "\t 2                         & 0                         & Study 2, Cluster Number 1 & 0                         & 0                        \\\\\n",
       "\t 2                         & 0                         & Study 2, Cluster Number 2 & 1                         & 0                        \\\\\n",
       "\t 2                         & 0                         & Study 2, Cluster Number 3 & 0                         & 0                        \\\\\n",
       "\t 2                         & 0                         & Study 2, Cluster Number 4 & 1                         & 0                        \\\\\n",
       "\t 2                         & 1                         & Study 2, Cluster Number 7 & 1                         & 1                        \\\\\n",
       "\t 2                         & 1                         & Study 2, Cluster Number 7 & 0                         & 0                        \\\\\n",
       "\\end{tabular}\n"
      ],
      "text/markdown": [
       "\n",
       "studyno | treat_ad | cluster | name_recall | positive_impression | \n",
       "|---|---|---|---|---|---|\n",
       "| 2                         | 0                         | Study 2, Cluster Number 1 | 0                         | 0                         | \n",
       "| 2                         | 0                         | Study 2, Cluster Number 2 | 1                         | 0                         | \n",
       "| 2                         | 0                         | Study 2, Cluster Number 3 | 0                         | 0                         | \n",
       "| 2                         | 0                         | Study 2, Cluster Number 4 | 1                         | 0                         | \n",
       "| 2                         | 1                         | Study 2, Cluster Number 7 | 1                         | 1                         | \n",
       "| 2                         | 1                         | Study 2, Cluster Number 7 | 0                         | 0                         | \n",
       "\n",
       "\n"
      ],
      "text/plain": [
       "  studyno treat_ad cluster                   name_recall positive_impression\n",
       "1 2       0        Study 2, Cluster Number 1 0           0                  \n",
       "2 2       0        Study 2, Cluster Number 2 1           0                  \n",
       "3 2       0        Study 2, Cluster Number 3 0           0                  \n",
       "4 2       0        Study 2, Cluster Number 4 1           0                  \n",
       "5 2       1        Study 2, Cluster Number 7 1           1                  \n",
       "6 2       1        Study 2, Cluster Number 7 0           0                  "
      ]
     },
     "metadata": {},
     "output_type": "display_data"
    }
   ],
   "source": [
    "d <- read.csv(\"./data/broockman_green_anon_pooled_fb_users_only.csv\")\n",
    "head(d)"
   ]
  },
  {
   "cell_type": "code",
   "execution_count": 3,
   "metadata": {},
   "outputs": [
    {
     "data": {
      "text/html": [
       "2706"
      ],
      "text/latex": [
       "2706"
      ],
      "text/markdown": [
       "2706"
      ],
      "text/plain": [
       "[1] 2706"
      ]
     },
     "metadata": {},
     "output_type": "display_data"
    }
   ],
   "source": [
    "nrow(d)"
   ]
  },
  {
   "cell_type": "markdown",
   "metadata": {},
   "source": [
    "a. Using regression without clustered standard errors (that is, ignoring the clustered assignment), compute a confidence interval for the effect of the ad on candidate name recognition in Study 1 only (the dependent variable is \"name_recall\"). \n",
    "+ **Note**: Ignore the blocking the article mentions throughout this problem.\n",
    "+ **Note**: You will estimate something different than is reported in the study. "
   ]
  },
  {
   "cell_type": "code",
   "execution_count": 4,
   "metadata": {},
   "outputs": [
    {
     "data": {
      "text/html": [
       "<table>\n",
       "<thead><tr><th></th><th scope=col>studyno</th><th scope=col>treat_ad</th><th scope=col>cluster</th><th scope=col>name_recall</th><th scope=col>positive_impression</th></tr></thead>\n",
       "<tbody>\n",
       "\t<tr><th scope=row>1343</th><td>1                        </td><td>1                        </td><td>Study 1, Cluster Number 1</td><td>0                        </td><td>0                        </td></tr>\n",
       "\t<tr><th scope=row>1344</th><td>1                        </td><td>1                        </td><td>Study 1, Cluster Number 1</td><td>0                        </td><td>0                        </td></tr>\n",
       "\t<tr><th scope=row>1345</th><td>1                        </td><td>1                        </td><td>Study 1, Cluster Number 3</td><td>0                        </td><td>0                        </td></tr>\n",
       "\t<tr><th scope=row>1346</th><td>1                        </td><td>1                        </td><td>Study 1, Cluster Number 4</td><td>0                        </td><td>0                        </td></tr>\n",
       "\t<tr><th scope=row>1347</th><td>1                        </td><td>1                        </td><td>Study 1, Cluster Number 5</td><td>0                        </td><td>0                        </td></tr>\n",
       "\t<tr><th scope=row>1348</th><td>1                        </td><td>1                        </td><td>Study 1, Cluster Number 9</td><td>0                        </td><td>0                        </td></tr>\n",
       "</tbody>\n",
       "</table>\n"
      ],
      "text/latex": [
       "\\begin{tabular}{r|lllll}\n",
       "  & studyno & treat\\_ad & cluster & name\\_recall & positive\\_impression\\\\\n",
       "\\hline\n",
       "\t1343 & 1                         & 1                         & Study 1, Cluster Number 1 & 0                         & 0                        \\\\\n",
       "\t1344 & 1                         & 1                         & Study 1, Cluster Number 1 & 0                         & 0                        \\\\\n",
       "\t1345 & 1                         & 1                         & Study 1, Cluster Number 3 & 0                         & 0                        \\\\\n",
       "\t1346 & 1                         & 1                         & Study 1, Cluster Number 4 & 0                         & 0                        \\\\\n",
       "\t1347 & 1                         & 1                         & Study 1, Cluster Number 5 & 0                         & 0                        \\\\\n",
       "\t1348 & 1                         & 1                         & Study 1, Cluster Number 9 & 0                         & 0                        \\\\\n",
       "\\end{tabular}\n"
      ],
      "text/markdown": [
       "\n",
       "| <!--/--> | studyno | treat_ad | cluster | name_recall | positive_impression | \n",
       "|---|---|---|---|---|---|\n",
       "| 1343 | 1                         | 1                         | Study 1, Cluster Number 1 | 0                         | 0                         | \n",
       "| 1344 | 1                         | 1                         | Study 1, Cluster Number 1 | 0                         | 0                         | \n",
       "| 1345 | 1                         | 1                         | Study 1, Cluster Number 3 | 0                         | 0                         | \n",
       "| 1346 | 1                         | 1                         | Study 1, Cluster Number 4 | 0                         | 0                         | \n",
       "| 1347 | 1                         | 1                         | Study 1, Cluster Number 5 | 0                         | 0                         | \n",
       "| 1348 | 1                         | 1                         | Study 1, Cluster Number 9 | 0                         | 0                         | \n",
       "\n",
       "\n"
      ],
      "text/plain": [
       "     studyno treat_ad cluster                   name_recall positive_impression\n",
       "1343 1       1        Study 1, Cluster Number 1 0           0                  \n",
       "1344 1       1        Study 1, Cluster Number 1 0           0                  \n",
       "1345 1       1        Study 1, Cluster Number 3 0           0                  \n",
       "1346 1       1        Study 1, Cluster Number 4 0           0                  \n",
       "1347 1       1        Study 1, Cluster Number 5 0           0                  \n",
       "1348 1       1        Study 1, Cluster Number 9 0           0                  "
      ]
     },
     "metadata": {},
     "output_type": "display_data"
    }
   ],
   "source": [
    "study.1 <- d[d$studyno ==1,]\n",
    "study.2 <- d[d$studyno ==2,]\n",
    "\n",
    "head(study.1)"
   ]
  },
  {
   "cell_type": "code",
   "execution_count": 5,
   "metadata": {},
   "outputs": [
    {
     "data": {
      "text/plain": [
       "\n",
       "t test of coefficients:\n",
       "\n",
       "              Estimate Std. Error t value Pr(>|t|)    \n",
       "(Intercept)  0.1824687  0.0161422 11.3038   <2e-16 ***\n",
       "treat_ad    -0.0097979  0.0210122 -0.4663   0.6411    \n",
       "---\n",
       "Signif. codes:  0 '***' 0.001 '**' 0.01 '*' 0.05 '.' 0.1 ' ' 1\n"
      ]
     },
     "metadata": {},
     "output_type": "display_data"
    }
   ],
   "source": [
    "m1 <- lm( name_recall ~ treat_ad , data = study.1)\n",
    "coeftest(m1)"
   ]
  },
  {
   "cell_type": "markdown",
   "metadata": {},
   "source": [
    "Calculating confidence intervals"
   ]
  },
  {
   "cell_type": "code",
   "execution_count": 6,
   "metadata": {},
   "outputs": [
    {
     "data": {
      "text/html": [
       "<table>\n",
       "<thead><tr><th></th><th scope=col>2.5 %</th><th scope=col>97.5 %</th></tr></thead>\n",
       "<tbody>\n",
       "\t<tr><th scope=row>treat_ad</th><td>-0.05101765</td><td>0.03142188 </td></tr>\n",
       "</tbody>\n",
       "</table>\n"
      ],
      "text/latex": [
       "\\begin{tabular}{r|ll}\n",
       "  & 2.5 \\% & 97.5 \\%\\\\\n",
       "\\hline\n",
       "\ttreat\\_ad & -0.05101765 & 0.03142188 \\\\\n",
       "\\end{tabular}\n"
      ],
      "text/markdown": [
       "\n",
       "| <!--/--> | 2.5 % | 97.5 % | \n",
       "|---|\n",
       "| treat_ad | -0.05101765 | 0.03142188  | \n",
       "\n",
       "\n"
      ],
      "text/plain": [
       "         2.5 %       97.5 %    \n",
       "treat_ad -0.05101765 0.03142188"
      ]
     },
     "metadata": {},
     "output_type": "display_data"
    }
   ],
   "source": [
    "confint(m1,'treat_ad')"
   ]
  },
  {
   "cell_type": "markdown",
   "metadata": {},
   "source": [
    "b. What are the clusters in Broockman and Green's study? Why might taking clustering into account increase the standard errors?"
   ]
  },
  {
   "cell_type": "markdown",
   "metadata": {},
   "source": [
    "In the study, clusters are defined based on age, town and gender. Clustering allows for correation between observations, that is it accounts for phenomena that affect groups of observations unifornmly (within cluster) but differently across clusters (variance isn't constant cross section). Robust standard errors correct for this issue"
   ]
  },
  {
   "cell_type": "markdown",
   "metadata": {},
   "source": [
    "c. Now repeat part (a), but taking clustering into account. That is, compute a confidence interval for the effect of the ad on candidate name recognition in Study 1, but now correctly accounting for the clustered nature of the treatment assignment. If you're not familiar with how to calculate these clustered and robust estimates, there is a demo worksheet that is available in our course repository: `./code/week5clusterAndRobust.Rmd`.\n"
   ]
  },
  {
   "cell_type": "code",
   "execution_count": 7,
   "metadata": {},
   "outputs": [
    {
     "data": {
      "text/plain": [
       "\n",
       "t test of coefficients:\n",
       "\n",
       "              Estimate Std. Error t value Pr(>|t|)    \n",
       "(Intercept)  0.1824687  0.0184915  9.8677   <2e-16 ***\n",
       "treat_ad    -0.0097979  0.0237536 -0.4125   0.6801    \n",
       "---\n",
       "Signif. codes:  0 '***' 0.001 '**' 0.01 '*' 0.05 '.' 0.1 ' ' 1\n"
      ]
     },
     "metadata": {},
     "output_type": "display_data"
    }
   ],
   "source": [
    "coeftest(m1,cluster.vcov(m1,~ cluster))"
   ]
  },
  {
   "cell_type": "markdown",
   "metadata": {},
   "source": [
    "We can derive the confidence intervals from the cluster robust standard errors. For a 95% confidence interval we use the product of 1.96 and the cluster-robust std. error."
   ]
  },
  {
   "cell_type": "code",
   "execution_count": 8,
   "metadata": {},
   "outputs": [
    {
     "data": {
      "text/html": [
       "0.036759156"
      ],
      "text/latex": [
       "0.036759156"
      ],
      "text/markdown": [
       "0.036759156"
      ],
      "text/plain": [
       "[1] 0.03675916"
      ]
     },
     "metadata": {},
     "output_type": "display_data"
    }
   ],
   "source": [
    "-0.0097979 + (1.96 * 0.0237536)"
   ]
  },
  {
   "cell_type": "code",
   "execution_count": 9,
   "metadata": {},
   "outputs": [
    {
     "data": {
      "text/html": [
       "-0.056354956"
      ],
      "text/latex": [
       "-0.056354956"
      ],
      "text/markdown": [
       "-0.056354956"
      ],
      "text/plain": [
       "[1] -0.05635496"
      ]
     },
     "metadata": {},
     "output_type": "display_data"
    }
   ],
   "source": [
    "-0.0097979 - (1.96 * 0.0237536)"
   ]
  },
  {
   "cell_type": "markdown",
   "metadata": {},
   "source": [
    "Cluster-robust 95% confidence interval is (-0.056354956,0.036759156)"
   ]
  },
  {
   "cell_type": "markdown",
   "metadata": {},
   "source": [
    "d. Repeat part (c), but now for Study 2 only."
   ]
  },
  {
   "cell_type": "code",
   "execution_count": 10,
   "metadata": {},
   "outputs": [
    {
     "data": {
      "text/plain": [
       "\n",
       "t test of coefficients:\n",
       "\n",
       "              Estimate Std. Error t value Pr(>|t|)    \n",
       "(Intercept)  0.6057884  0.0154543 39.1987   <2e-16 ***\n",
       "treat_ad    -0.0028033  0.0308740 -0.0908   0.9277    \n",
       "---\n",
       "Signif. codes:  0 '***' 0.001 '**' 0.01 '*' 0.05 '.' 0.1 ' ' 1\n"
      ]
     },
     "metadata": {},
     "output_type": "display_data"
    }
   ],
   "source": [
    "m2 <- lm( name_recall ~ treat_ad , data = study.2)\n",
    "coeftest(m2)"
   ]
  },
  {
   "cell_type": "code",
   "execution_count": 11,
   "metadata": {},
   "outputs": [
    {
     "data": {
      "text/plain": [
       "\n",
       "t test of coefficients:\n",
       "\n",
       "              Estimate Std. Error t value Pr(>|t|)    \n",
       "(Intercept)  0.6057884  0.0181889  33.305   <2e-16 ***\n",
       "treat_ad    -0.0028033  0.0355033  -0.079   0.9371    \n",
       "---\n",
       "Signif. codes:  0 '***' 0.001 '**' 0.01 '*' 0.05 '.' 0.1 ' ' 1\n"
      ]
     },
     "metadata": {},
     "output_type": "display_data"
    }
   ],
   "source": [
    "coeftest(m2,cluster.vcov(m2,~ cluster))"
   ]
  },
  {
   "cell_type": "markdown",
   "metadata": {},
   "source": [
    "We can derive the confidence intervals from the cluster robust standard errors. For a 95% confidence interval we use the product of 1.96 and the cluster-robust std. error."
   ]
  },
  {
   "cell_type": "code",
   "execution_count": 12,
   "metadata": {},
   "outputs": [
    {
     "data": {
      "text/html": [
       "-0.072389768"
      ],
      "text/latex": [
       "-0.072389768"
      ],
      "text/markdown": [
       "-0.072389768"
      ],
      "text/plain": [
       "[1] -0.07238977"
      ]
     },
     "metadata": {},
     "output_type": "display_data"
    }
   ],
   "source": [
    "-0.0028033-(1.96*0.0355033)"
   ]
  },
  {
   "cell_type": "code",
   "execution_count": 13,
   "metadata": {
    "scrolled": true
   },
   "outputs": [
    {
     "data": {
      "text/html": [
       "0.066783168"
      ],
      "text/latex": [
       "0.066783168"
      ],
      "text/markdown": [
       "0.066783168"
      ],
      "text/plain": [
       "[1] 0.06678317"
      ]
     },
     "metadata": {},
     "output_type": "display_data"
    }
   ],
   "source": [
    "-0.0028033+(1.96*0.0355033)"
   ]
  },
  {
   "cell_type": "markdown",
   "metadata": {},
   "source": [
    "Cluster-robust 95% confidence interval is (-0.072389768,0.066783168)"
   ]
  },
  {
   "cell_type": "markdown",
   "metadata": {},
   "source": [
    "e. Repeat part (c), but using the entire sample from both studies. Do not take into account which study the data is from (more on this in a moment), but just pool the data and run one omnibus regression. What is the treatment effect estimate and associated p-value?"
   ]
  },
  {
   "cell_type": "code",
   "execution_count": 14,
   "metadata": {},
   "outputs": [
    {
     "data": {
      "text/plain": [
       "\n",
       "t test of coefficients:\n",
       "\n",
       "             Estimate Std. Error t value  Pr(>|t|)    \n",
       "(Intercept)  0.454196   0.012189 37.2622 < 2.2e-16 ***\n",
       "treat_ad    -0.155073   0.018762 -8.2652 < 2.2e-16 ***\n",
       "---\n",
       "Signif. codes:  0 '***' 0.001 '**' 0.01 '*' 0.05 '.' 0.1 ' ' 1\n"
      ]
     },
     "metadata": {},
     "output_type": "display_data"
    }
   ],
   "source": [
    "m3 <- lm( name_recall ~ treat_ad , data = d)\n",
    "coeftest(m3)"
   ]
  },
  {
   "cell_type": "markdown",
   "metadata": {},
   "source": [
    "Treatment effect is estimated to be -0.155 and seems to be very significant p-value (2.2e-16)"
   ]
  },
  {
   "cell_type": "markdown",
   "metadata": {},
   "source": [
    "f. Now, repeat part (e) but include a dummy variable (a 0/1 binary variable) for whether the data are from Study 1 or Study 2. What is the treatment effect estimate and associated p-value?"
   ]
  },
  {
   "cell_type": "code",
   "execution_count": 15,
   "metadata": {
    "scrolled": true
   },
   "outputs": [
    {
     "data": {
      "text/html": [
       "<table>\n",
       "<thead><tr><th scope=col>studyno</th><th scope=col>treat_ad</th><th scope=col>cluster</th><th scope=col>name_recall</th><th scope=col>positive_impression</th><th scope=col>dummy.study</th></tr></thead>\n",
       "<tbody>\n",
       "\t<tr><td>2                        </td><td>0                        </td><td>Study 2, Cluster Number 1</td><td>0                        </td><td>0                        </td><td>1                        </td></tr>\n",
       "\t<tr><td>2                        </td><td>0                        </td><td>Study 2, Cluster Number 2</td><td>1                        </td><td>0                        </td><td>1                        </td></tr>\n",
       "\t<tr><td>2                        </td><td>0                        </td><td>Study 2, Cluster Number 3</td><td>0                        </td><td>0                        </td><td>1                        </td></tr>\n",
       "\t<tr><td>2                        </td><td>0                        </td><td>Study 2, Cluster Number 4</td><td>1                        </td><td>0                        </td><td>1                        </td></tr>\n",
       "\t<tr><td>2                        </td><td>1                        </td><td>Study 2, Cluster Number 7</td><td>1                        </td><td>1                        </td><td>1                        </td></tr>\n",
       "\t<tr><td>2                        </td><td>1                        </td><td>Study 2, Cluster Number 7</td><td>0                        </td><td>0                        </td><td>1                        </td></tr>\n",
       "</tbody>\n",
       "</table>\n"
      ],
      "text/latex": [
       "\\begin{tabular}{r|llllll}\n",
       " studyno & treat\\_ad & cluster & name\\_recall & positive\\_impression & dummy.study\\\\\n",
       "\\hline\n",
       "\t 2                         & 0                         & Study 2, Cluster Number 1 & 0                         & 0                         & 1                        \\\\\n",
       "\t 2                         & 0                         & Study 2, Cluster Number 2 & 1                         & 0                         & 1                        \\\\\n",
       "\t 2                         & 0                         & Study 2, Cluster Number 3 & 0                         & 0                         & 1                        \\\\\n",
       "\t 2                         & 0                         & Study 2, Cluster Number 4 & 1                         & 0                         & 1                        \\\\\n",
       "\t 2                         & 1                         & Study 2, Cluster Number 7 & 1                         & 1                         & 1                        \\\\\n",
       "\t 2                         & 1                         & Study 2, Cluster Number 7 & 0                         & 0                         & 1                        \\\\\n",
       "\\end{tabular}\n"
      ],
      "text/markdown": [
       "\n",
       "studyno | treat_ad | cluster | name_recall | positive_impression | dummy.study | \n",
       "|---|---|---|---|---|---|\n",
       "| 2                         | 0                         | Study 2, Cluster Number 1 | 0                         | 0                         | 1                         | \n",
       "| 2                         | 0                         | Study 2, Cluster Number 2 | 1                         | 0                         | 1                         | \n",
       "| 2                         | 0                         | Study 2, Cluster Number 3 | 0                         | 0                         | 1                         | \n",
       "| 2                         | 0                         | Study 2, Cluster Number 4 | 1                         | 0                         | 1                         | \n",
       "| 2                         | 1                         | Study 2, Cluster Number 7 | 1                         | 1                         | 1                         | \n",
       "| 2                         | 1                         | Study 2, Cluster Number 7 | 0                         | 0                         | 1                         | \n",
       "\n",
       "\n"
      ],
      "text/plain": [
       "  studyno treat_ad cluster                   name_recall positive_impression\n",
       "1 2       0        Study 2, Cluster Number 1 0           0                  \n",
       "2 2       0        Study 2, Cluster Number 2 1           0                  \n",
       "3 2       0        Study 2, Cluster Number 3 0           0                  \n",
       "4 2       0        Study 2, Cluster Number 4 1           0                  \n",
       "5 2       1        Study 2, Cluster Number 7 1           1                  \n",
       "6 2       1        Study 2, Cluster Number 7 0           0                  \n",
       "  dummy.study\n",
       "1 1          \n",
       "2 1          \n",
       "3 1          \n",
       "4 1          \n",
       "5 1          \n",
       "6 1          "
      ]
     },
     "metadata": {},
     "output_type": "display_data"
    }
   ],
   "source": [
    "d.1f <- cbind(d)\n",
    "d.1f$dummy.study <- (d.1f$study-1)\n",
    "head(d.1f)"
   ]
  },
  {
   "cell_type": "code",
   "execution_count": 16,
   "metadata": {},
   "outputs": [
    {
     "data": {
      "text/plain": [
       "\n",
       "t test of coefficients:\n",
       "\n",
       "              Estimate Std. Error t value Pr(>|t|)    \n",
       "(Intercept)  0.1806848  0.0159938 11.2971   <2e-16 ***\n",
       "treat_ad    -0.0067752  0.0181767 -0.3727   0.7094    \n",
       "dummy.study  0.4260988  0.0179555 23.7309   <2e-16 ***\n",
       "---\n",
       "Signif. codes:  0 '***' 0.001 '**' 0.01 '*' 0.05 '.' 0.1 ' ' 1\n"
      ]
     },
     "metadata": {},
     "output_type": "display_data"
    }
   ],
   "source": [
    "m4 <- lm( name_recall ~ treat_ad + dummy.study, data = d.1f)\n",
    "coeftest(m4)"
   ]
  },
  {
   "cell_type": "markdown",
   "metadata": {},
   "source": [
    "g. Why did the results from parts (e) and (f) differ? Which result is biased, and why? (Hint: see pages 75-76 of Gerber and Green, with more detailed discussion optionally available on pages 116-121.)"
   ]
  },
  {
   "cell_type": "markdown",
   "metadata": {},
   "source": [
    "If we think about the dummy variable as being a 'block' indicator, we can observe that the probability of being assigned to a treatment group is much higher in study 1 (dummy variable = 0). This means that if blocks happen to have different potential outcomes on average (even of the absense of a true treatment effect) regressing across blocks might signal an average treatment effect (effectely the difference across blocks is being captured by the treatment variable on such a simple model).\n",
    "\n",
    "As a result, the first regression (pooling the data across studies) is biased."
   ]
  },
  {
   "cell_type": "markdown",
   "metadata": {},
   "source": [
    "h. Skim this [Facebook case study](https://www.facebook.com/notes/us-politics-on-facebook/case-study-reaching-voters-with-facebook-ads-vote-no-on-8/10150257619200882) and consider two claims they make reprinted below. Why might their results differ from Broockman and Green's? Please be specific and provide examples."
   ]
  },
  {
   "cell_type": "markdown",
   "metadata": {},
   "source": [
    "+ \"There was a 19 percent difference in the way people voted in areas where Facebook Ads ran versus areas where the ads did not run.\""
   ]
  },
  {
   "cell_type": "markdown",
   "metadata": {},
   "source": [
    "**Answer**\n",
    "\n",
    "Effectively, there was no randomization across what Brookckman and Greens would have defined as clusters (counties). This study instead chose to assign treatments only to residents of the two most populous counties. This claim on 19% vote difference fails to take into consideration inherent differences across counties in Florida to begin with. Perhaps less densely populated counties had a tendency to vote in favor (on average) of the proposition. That would attribute the findings to simply biased estimates due to covariates not controlled for due to the lack of proper randomization."
   ]
  },
  {
   "cell_type": "markdown",
   "metadata": {},
   "source": [
    "+ \"In the areas where the ads ran, people with the most online ad exposure were 17 percent more likely to vote against the proposition than those with the least.\""
   ]
  },
  {
   "cell_type": "markdown",
   "metadata": {},
   "source": [
    "**Answer**\n",
    "\n",
    "This claim is tied to a post-treatment covariate (relative exposure to ad) which could be in turn correlated to inherit differences between the treated populations. For example, they explain that the different treatments (ads) *\"targeted people who listed terms like “teacher,” “pta” “math teacher” to reach educators. Because both the polling and Facebook research indicated that the issue carries special resonance with parents of school children, it even included interests like “I love my son” and “I love my daughter” (and layered them with demographic targeting.)\"*\n",
    "\n",
    "This is problematic as perhaps the different demographics could have influenced both the success on target campaings reaching them (inherit differences in using facebook for example) as well as their potential outcomes despite any treatment. These two examples would render the article's claim biased."
   ]
  },
  {
   "cell_type": "markdown",
   "metadata": {},
   "source": [
    "# 2 Peruvian Recycling \n",
    "\n",
    "Look at [this article](https://drive.google.com/file/d/0BxwM1dZBYvxBVzQtQW9nbmd2NGM/view?usp=sharing) about encouraging recycling in Peru.  The paper contains two experiments, a \"participation study\" and a \"participation intensity study.\"  In this problem, we will focus on the latter study, whose results are contained in Table 4 in this problem.  You will need to read the relevant section of the paper (starting on page 20 of the manuscript) in order to understand the experimental design and variables.  (*Note that \"indicator variable\" is a synonym for \"dummy variable,\" in case you haven't seen this language before.*)"
   ]
  },
  {
   "cell_type": "markdown",
   "metadata": {},
   "source": [
    "a. In Column 3 of Table 4A, what is the estimated ATE of providing a recycling bin on the average weight of recyclables turned in per household per week, during the six-week treatment period?  Provide a 95% confidence interval."
   ]
  },
  {
   "cell_type": "code",
   "execution_count": 17,
   "metadata": {},
   "outputs": [
    {
     "data": {
      "text/html": [
       "-0.05244"
      ],
      "text/latex": [
       "-0.05244"
      ],
      "text/markdown": [
       "-0.05244"
      ],
      "text/plain": [
       "[1] -0.05244"
      ]
     },
     "metadata": {},
     "output_type": "display_data"
    }
   ],
   "source": [
    "0.024-1.96*0.039"
   ]
  },
  {
   "cell_type": "markdown",
   "metadata": {},
   "source": [
    "ATE is 0.187 Kg, with (0.12428,0.24972) being the confidence interval at 95%"
   ]
  },
  {
   "cell_type": "markdown",
   "metadata": {},
   "source": [
    "b. In Column 3 of Table 4A, what is the estimated ATE of sending a text message reminder on the average weight of recyclables turned in per household per week?  Provide a 95% confidence interval."
   ]
  },
  {
   "cell_type": "markdown",
   "metadata": {},
   "source": [
    "-0.024 kg, with (-0.05244,0.10044) confidence interval at 95%"
   ]
  },
  {
   "cell_type": "markdown",
   "metadata": {},
   "source": [
    "c. Which outcome measures in Table 4A show statistically significant effects (at the 5% level) of providing a recycling bin?"
   ]
  },
  {
   "cell_type": "markdown",
   "metadata": {},
   "source": [
    "- Percentage of visits turned in a bag\n",
    "- Avg. no. of bins turned in per week\n",
    "- Avg. weight (kg) of recyclables turned in per week\n",
    "- Avg. market value of recyclables given per week"
   ]
  },
  {
   "cell_type": "markdown",
   "metadata": {},
   "source": [
    "d. Which outcome measures in Table 4A show statistically significant effects (at the 5% level) of sending text messages?"
   ]
  },
  {
   "cell_type": "markdown",
   "metadata": {},
   "source": [
    "No outcome measure show statistically significant effects of sending text messages."
   ]
  },
  {
   "cell_type": "markdown",
   "metadata": {},
   "source": [
    "e. Suppose that, during the two weeks before treatment, household A turns in 2kg per week more recyclables than household B does, and suppose that both households are otherwise identical (including being in the same treatment group).  From the model, how much more recycling do we predict household A to have than household B, per week, during the six weeks of treatment?   Provide only a point estimate, as the confidence interval would be a bit complicated.  This question is designed to test your understanding of slope coefficients in regression."
   ]
  },
  {
   "cell_type": "markdown",
   "metadata": {},
   "source": [
    "We predict household A to turn in 2.562kg more recyclables than houshold B. (Coefficient on baseline wgt. is 0.281)."
   ]
  },
  {
   "cell_type": "markdown",
   "metadata": {},
   "source": [
    "f. Suppose that the variable \"percentage of visits turned in bag, baseline\" had been left out of the regression reported in Column 1.  What would you expect to happen to the results on providing a recycling bin?  Would you expect an increase or decrease in the estimated ATE?  Would you expect an increase or decrease in the standard error?  Explain your reasoning."
   ]
  },
  {
   "cell_type": "markdown",
   "metadata": {},
   "source": [
    "We would expect an increase in the treatment effect as variation that would be otherwise explained by the baseline variable would transfer into the error term. Similarly, we would expect the ATE to also increase as more pronounced effects will be observed in the treatment groups without being absorved by the baseline covariate."
   ]
  },
  {
   "cell_type": "markdown",
   "metadata": {},
   "source": [
    "g. In column 1 of Table 4A, would you say the variable \"has cell phone\" is a bad control?  Explain your reasoning."
   ]
  },
  {
   "cell_type": "markdown",
   "metadata": {},
   "source": [
    "I would say it is not a bad covariate. There is of course correlation between the eligibility for SMS treatment and ownership of a cell phone but the only wait to properly measure the effects of SMS treatment is by controling for 'Has a cell phone' == 1. That's not to say that the design around the SMS experiment is flawless, however given the treatment design, the covariate proves useful."
   ]
  },
  {
   "cell_type": "markdown",
   "metadata": {},
   "source": [
    "h. If we were to remove the \"has cell phone\" variable from the regression, what would you expect to happen to the coefficient on \"Any SMS message\"?  Would it go up or down? Explain your reasoning."
   ]
  },
  {
   "cell_type": "markdown",
   "metadata": {},
   "source": [
    "It would go up. In reality the 'Any SMS message' would be capturing the interaction effect between cell phone ownership and being subject to the SMS treatment, so inevitably the covariate will be picking up some of the variability attributed to cell phone ownership."
   ]
  },
  {
   "cell_type": "markdown",
   "metadata": {},
   "source": [
    "# 3 Multifactor Experiments \n",
    "Staying with the same experiment, now lets think about multifactor experiments. "
   ]
  },
  {
   "cell_type": "markdown",
   "metadata": {},
   "source": [
    "a. What is the full experimental design for this experiment?  Tell us the dimensions, such as 2x2x3.  (Hint: the full results appear in Panel 4B.)"
   ]
  },
  {
   "cell_type": "markdown",
   "metadata": {},
   "source": [
    "This experiment is a 3x3 factorial design capturing the effects of two potential factors and all of its variations.\n",
    "\n",
    "1) Providing a bin (two potential treatments, plus one control)\n",
    "2) Providing a bin (two potential treatments, plus one control)\n",
    "\n",
    "\n",
    "One important component is the blocking done on cell phone ownership covariate due to its interaction with one of the treatments (SMS)"
   ]
  },
  {
   "cell_type": "markdown",
   "metadata": {},
   "source": [
    "b. In the results of Table 4B, describe the baseline category. That is, in English, how would you describe the attributes of the group of people for whom all dummy variables are equal to zero?"
   ]
  },
  {
   "cell_type": "markdown",
   "metadata": {},
   "source": [
    "The baseline category refers to the expected potential outcomes observed in the control group, and the variability on recycling measures that can be attributed to non-treatment related covariates."
   ]
  },
  {
   "cell_type": "markdown",
   "metadata": {},
   "source": [
    "c. In column (1) of Table 4B, interpret the magnitude of the coefficient on \"bin without sticker.\"  What does it mean?"
   ]
  },
  {
   "cell_type": "markdown",
   "metadata": {},
   "source": [
    "It means that the standalone effect of providing a recycling bin to households (without stickers) is an increase of 3.5% on the number of visits in which the household had the opportunity to turn in a bag for reclycling, and actually did so."
   ]
  },
  {
   "cell_type": "markdown",
   "metadata": {},
   "source": [
    "d. In column (1) of Table 4B, which seems to have a stronger treatment effect, the recycling bin with message sticker, or the recycling bin without sticker?  How large is the magnitude of the estimated difference?"
   ]
  },
  {
   "cell_type": "markdown",
   "metadata": {},
   "source": [
    "'Bin with a sticker' seems to have a stronger treatment effect (2%). In terms of confidence intervals for each estimate, the magnitude of the difference ranges between (-3.88,7.88%) at the 95% confidence level."
   ]
  },
  {
   "cell_type": "markdown",
   "metadata": {},
   "source": [
    "**Further notes**\n",
    "\n",
    "Confidence interval of 'Bin with sticker' is 5.5% +/- 2.94%, or (2.56%,8.44%) \n",
    "\n",
    "Confidence interval of 'Bin without sticker' is 3.5% +/- 2.94%, or (0.56%,6.44%) "
   ]
  },
  {
   "cell_type": "markdown",
   "metadata": {},
   "source": [
    "e. Is this difference you just described statistically significant?  Explain which piece of information in the table allows you to answer this question."
   ]
  },
  {
   "cell_type": "markdown",
   "metadata": {},
   "source": [
    "It is not statistically significant. The F-test p-value (0.31) helps address that question"
   ]
  },
  {
   "cell_type": "markdown",
   "metadata": {},
   "source": [
    "f. Notice that Table 4C is described as results from \"fully saturated\" models. What does this mean? Looking at the list of variables in the table, explain in what sense the model is \"saturated.\""
   ]
  },
  {
   "cell_type": "markdown",
   "metadata": {},
   "source": [
    "Table 4C captures treatment effects across all combinations of factorial treatments in addition to the blocking variable (has phone) and the other covariates. The model is saturated as all potential combinations of the treatments are captured, taking into account the variability attributed to covariates and the inherit differences across blocks"
   ]
  },
  {
   "cell_type": "markdown",
   "metadata": {},
   "source": [
    "# 4 Now! Do it with data \n",
    "Download the data set for the recycling study in the previous problem, obtained from the authors. We'll be focusing on the outcome variable Y=\"number of bins turned in per week\" (avg_bins_treat)."
   ]
  },
  {
   "cell_type": "code",
   "execution_count": 18,
   "metadata": {},
   "outputs": [
    {
     "data": {
      "text/html": [
       "<table>\n",
       "<thead><tr><th scope=col>street</th><th scope=col>havecell</th><th scope=col>avg_bins_treat</th><th scope=col>base_avg_bins_treat</th><th scope=col>bin</th><th scope=col>sms</th><th scope=col>bin_s</th><th scope=col>bin_g</th><th scope=col>sms_p</th><th scope=col>sms_g</th></tr></thead>\n",
       "<tbody>\n",
       "\t<tr><td>7        </td><td>1        </td><td>1.0416666</td><td>0.750    </td><td>1        </td><td>1        </td><td>1        </td><td>0        </td><td>0        </td><td>1        </td></tr>\n",
       "\t<tr><td>7        </td><td>1        </td><td>0.0000000</td><td>0.000    </td><td>0        </td><td>1        </td><td>0        </td><td>0        </td><td>1        </td><td>0        </td></tr>\n",
       "\t<tr><td>7        </td><td>1        </td><td>0.7500000</td><td>0.500    </td><td>0        </td><td>0        </td><td>0        </td><td>0        </td><td>0        </td><td>0        </td></tr>\n",
       "\t<tr><td>7        </td><td>1        </td><td>0.5416667</td><td>0.500    </td><td>0        </td><td>0        </td><td>0        </td><td>0        </td><td>0        </td><td>0        </td></tr>\n",
       "\t<tr><td>6        </td><td>1        </td><td>0.9583333</td><td>0.375    </td><td>1        </td><td>0        </td><td>0        </td><td>1        </td><td>0        </td><td>0        </td></tr>\n",
       "\t<tr><td>8        </td><td>0        </td><td>0.2083333</td><td>0.000    </td><td>1        </td><td>0        </td><td>0        </td><td>1        </td><td>0        </td><td>0        </td></tr>\n",
       "</tbody>\n",
       "</table>\n"
      ],
      "text/latex": [
       "\\begin{tabular}{r|llllllllll}\n",
       " street & havecell & avg\\_bins\\_treat & base\\_avg\\_bins\\_treat & bin & sms & bin\\_s & bin\\_g & sms\\_p & sms\\_g\\\\\n",
       "\\hline\n",
       "\t 7         & 1         & 1.0416666 & 0.750     & 1         & 1         & 1         & 0         & 0         & 1        \\\\\n",
       "\t 7         & 1         & 0.0000000 & 0.000     & 0         & 1         & 0         & 0         & 1         & 0        \\\\\n",
       "\t 7         & 1         & 0.7500000 & 0.500     & 0         & 0         & 0         & 0         & 0         & 0        \\\\\n",
       "\t 7         & 1         & 0.5416667 & 0.500     & 0         & 0         & 0         & 0         & 0         & 0        \\\\\n",
       "\t 6         & 1         & 0.9583333 & 0.375     & 1         & 0         & 0         & 1         & 0         & 0        \\\\\n",
       "\t 8         & 0         & 0.2083333 & 0.000     & 1         & 0         & 0         & 1         & 0         & 0        \\\\\n",
       "\\end{tabular}\n"
      ],
      "text/markdown": [
       "\n",
       "street | havecell | avg_bins_treat | base_avg_bins_treat | bin | sms | bin_s | bin_g | sms_p | sms_g | \n",
       "|---|---|---|---|---|---|\n",
       "| 7         | 1         | 1.0416666 | 0.750     | 1         | 1         | 1         | 0         | 0         | 1         | \n",
       "| 7         | 1         | 0.0000000 | 0.000     | 0         | 1         | 0         | 0         | 1         | 0         | \n",
       "| 7         | 1         | 0.7500000 | 0.500     | 0         | 0         | 0         | 0         | 0         | 0         | \n",
       "| 7         | 1         | 0.5416667 | 0.500     | 0         | 0         | 0         | 0         | 0         | 0         | \n",
       "| 6         | 1         | 0.9583333 | 0.375     | 1         | 0         | 0         | 1         | 0         | 0         | \n",
       "| 8         | 0         | 0.2083333 | 0.000     | 1         | 0         | 0         | 1         | 0         | 0         | \n",
       "\n",
       "\n"
      ],
      "text/plain": [
       "  street havecell avg_bins_treat base_avg_bins_treat bin sms bin_s bin_g sms_p\n",
       "1 7      1        1.0416666      0.750               1   1   1     0     0    \n",
       "2 7      1        0.0000000      0.000               0   1   0     0     1    \n",
       "3 7      1        0.7500000      0.500               0   0   0     0     0    \n",
       "4 7      1        0.5416667      0.500               0   0   0     0     0    \n",
       "5 6      1        0.9583333      0.375               1   0   0     1     0    \n",
       "6 8      0        0.2083333      0.000               1   0   0     1     0    \n",
       "  sms_g\n",
       "1 1    \n",
       "2 0    \n",
       "3 0    \n",
       "4 0    \n",
       "5 0    \n",
       "6 0    "
      ]
     },
     "metadata": {},
     "output_type": "display_data"
    }
   ],
   "source": [
    "d4 <- read.dta(\"./data/karlan_data_subset_for_class.dta\")\n",
    "head(d4)"
   ]
  },
  {
   "cell_type": "markdown",
   "metadata": {},
   "source": [
    "Do some quick exploratory data analysis with this data. There are some values in this data that seem a bit strange. Determine what these are, and figure out what you would like to do with them. Also, notice what happens with your estimates vis-a-vis the estimates that are produced by the authors when you do something sensible with this strange values. \n"
   ]
  },
  {
   "cell_type": "markdown",
   "metadata": {},
   "source": [
    "a. For simplicity, let's start by measuring the effect of providing a recycling bin, ignoring the SMS message treatment (and ignoring whether there was a sticker on the bin or not).  Run a regression of Y on only the bin treatment dummy, so you estimate a simple difference in means.  Provide a 95% confidence interval for the treatment effect."
   ]
  },
  {
   "cell_type": "code",
   "execution_count": 19,
   "metadata": {},
   "outputs": [
    {
     "data": {
      "text/plain": [
       "\n",
       "t test of coefficients:\n",
       "\n",
       "            Estimate Std. Error t value  Pr(>|t|)    \n",
       "(Intercept) 0.635350   0.011793 53.8740 < 2.2e-16 ***\n",
       "bin         0.135380   0.020291  6.6721 3.356e-11 ***\n",
       "---\n",
       "Signif. codes:  0 '***' 0.001 '**' 0.01 '*' 0.05 '.' 0.1 ' ' 1\n"
      ]
     },
     "metadata": {},
     "output_type": "display_data"
    }
   ],
   "source": [
    "m4.1 <- lm( avg_bins_treat ~ bin , data = d4)\n",
    "coeftest(m4.1)"
   ]
  },
  {
   "cell_type": "code",
   "execution_count": 20,
   "metadata": {},
   "outputs": [
    {
     "data": {
      "text/html": [
       "<table>\n",
       "<thead><tr><th></th><th scope=col>2.5 %</th><th scope=col>97.5 %</th></tr></thead>\n",
       "<tbody>\n",
       "\t<tr><th scope=row>bin</th><td>0.09558421</td><td>0.1751758 </td></tr>\n",
       "</tbody>\n",
       "</table>\n"
      ],
      "text/latex": [
       "\\begin{tabular}{r|ll}\n",
       "  & 2.5 \\% & 97.5 \\%\\\\\n",
       "\\hline\n",
       "\tbin & 0.09558421 & 0.1751758 \\\\\n",
       "\\end{tabular}\n"
      ],
      "text/markdown": [
       "\n",
       "| <!--/--> | 2.5 % | 97.5 % | \n",
       "|---|\n",
       "| bin | 0.09558421 | 0.1751758  | \n",
       "\n",
       "\n"
      ],
      "text/plain": [
       "    2.5 %      97.5 %   \n",
       "bin 0.09558421 0.1751758"
      ]
     },
     "metadata": {},
     "output_type": "display_data"
    }
   ],
   "source": [
    "confint(m4.1,'bin')"
   ]
  },
  {
   "cell_type": "markdown",
   "metadata": {},
   "source": [
    "b. Now add the pre-treatment value of Y as a covariate.  Provide a 95% confidence interval for the treatment effect.  Explain how and why this confidence interval differs from the previous one."
   ]
  },
  {
   "cell_type": "code",
   "execution_count": 21,
   "metadata": {},
   "outputs": [
    {
     "data": {
      "text/plain": [
       "\n",
       "t test of coefficients:\n",
       "\n",
       "                    Estimate Std. Error t value  Pr(>|t|)    \n",
       "(Intercept)         0.349603   0.013731 25.4604 < 2.2e-16 ***\n",
       "bin                 0.124693   0.016667  7.4814 1.149e-13 ***\n",
       "base_avg_bins_treat 0.392965   0.013386 29.3560 < 2.2e-16 ***\n",
       "---\n",
       "Signif. codes:  0 '***' 0.001 '**' 0.01 '*' 0.05 '.' 0.1 ' ' 1\n"
      ]
     },
     "metadata": {},
     "output_type": "display_data"
    }
   ],
   "source": [
    "m4.2 <- lm( avg_bins_treat ~ bin + base_avg_bins_treat , data = d4)\n",
    "coeftest(m4.2)"
   ]
  },
  {
   "cell_type": "code",
   "execution_count": 22,
   "metadata": {},
   "outputs": [
    {
     "data": {
      "text/html": [
       "<table>\n",
       "<thead><tr><th></th><th scope=col>2.5 %</th><th scope=col>97.5 %</th></tr></thead>\n",
       "<tbody>\n",
       "\t<tr><th scope=row>bin</th><td>0.09200378</td><td>0.1573822 </td></tr>\n",
       "</tbody>\n",
       "</table>\n"
      ],
      "text/latex": [
       "\\begin{tabular}{r|ll}\n",
       "  & 2.5 \\% & 97.5 \\%\\\\\n",
       "\\hline\n",
       "\tbin & 0.09200378 & 0.1573822 \\\\\n",
       "\\end{tabular}\n"
      ],
      "text/markdown": [
       "\n",
       "| <!--/--> | 2.5 % | 97.5 % | \n",
       "|---|\n",
       "| bin | 0.09200378 | 0.1573822  | \n",
       "\n",
       "\n"
      ],
      "text/plain": [
       "    2.5 %      97.5 %   \n",
       "bin 0.09200378 0.1573822"
      ]
     },
     "metadata": {},
     "output_type": "display_data"
    }
   ],
   "source": [
    "confint(m4.2,'bin')"
   ]
  },
  {
   "cell_type": "markdown",
   "metadata": {},
   "source": [
    "The 95% confidence interval for the treatment variable is narrower once the pre-treatment covariate is introduced. This is due to the fact that some of the variability has now moved from the treatment effect to the pre-treatment covariate."
   ]
  },
  {
   "cell_type": "markdown",
   "metadata": {},
   "source": [
    "c. Now add the street fixed effects.  (You'll need to use the R command factor().) Provide a 95% confidence interval for the treatment effect."
   ]
  },
  {
   "cell_type": "code",
   "execution_count": 23,
   "metadata": {
    "scrolled": true
   },
   "outputs": [
    {
     "data": {
      "text/html": [
       "<table>\n",
       "<thead><tr><th></th><th scope=col>2.5 %</th><th scope=col>97.5 %</th></tr></thead>\n",
       "<tbody>\n",
       "\t<tr><th scope=row>bin</th><td>0.08042873</td><td>0.1473448 </td></tr>\n",
       "</tbody>\n",
       "</table>\n"
      ],
      "text/latex": [
       "\\begin{tabular}{r|ll}\n",
       "  & 2.5 \\% & 97.5 \\%\\\\\n",
       "\\hline\n",
       "\tbin & 0.08042873 & 0.1473448 \\\\\n",
       "\\end{tabular}\n"
      ],
      "text/markdown": [
       "\n",
       "| <!--/--> | 2.5 % | 97.5 % | \n",
       "|---|\n",
       "| bin | 0.08042873 | 0.1473448  | \n",
       "\n",
       "\n"
      ],
      "text/plain": [
       "    2.5 %      97.5 %   \n",
       "bin 0.08042873 0.1473448"
      ]
     },
     "metadata": {},
     "output_type": "display_data"
    }
   ],
   "source": [
    "m4.3 <- lm( avg_bins_treat ~ bin + base_avg_bins_treat + factor(street), data = d4)\n",
    "confint(m4.3,'bin')"
   ]
  },
  {
   "cell_type": "markdown",
   "metadata": {},
   "source": [
    "d. Recall that the authors described their experiment as \"stratified at the street level,\" which is a synonym for blocking by street.  Explain why the confidence interval with fixed effects does not differ much from the previous one."
   ]
  },
  {
   "cell_type": "markdown",
   "metadata": {},
   "source": [
    "Due to the large number of blocks (~240) the stratification fails to capture any meaningful heterogeneity in the different sub-groups, or at least it doesn't do a materially better job than ignoring the differences across streets. The reason why the confidence interval does not differ much is because the prior model (ignoring blocks) didn't remain unbiased due to the lage variability on ATE and and low density of the blocks."
   ]
  },
  {
   "cell_type": "markdown",
   "metadata": {},
   "source": [
    "e. Perhaps having a cell phone helps explain the level of recycling behavior. Instead of \"has cell phone,\" we find it easier to interpret the coefficient if we define the variable \" no cell phone.\"  Give the R command to define this new variable, which equals one minus the \"has cell phone\" variable in the authors' data set.  Use \"no cell phone\" instead of \"has cell phone\" in subsequent regressions with this dataset."
   ]
  },
  {
   "cell_type": "code",
   "execution_count": 24,
   "metadata": {},
   "outputs": [
    {
     "data": {
      "text/html": [
       "<table>\n",
       "<thead><tr><th scope=col>street</th><th scope=col>havecell</th><th scope=col>avg_bins_treat</th><th scope=col>base_avg_bins_treat</th><th scope=col>bin</th><th scope=col>sms</th><th scope=col>bin_s</th><th scope=col>bin_g</th><th scope=col>sms_p</th><th scope=col>sms_g</th><th scope=col>no.cell.phone</th></tr></thead>\n",
       "<tbody>\n",
       "\t<tr><td>7        </td><td>1        </td><td>1.0416666</td><td>0.750    </td><td>1        </td><td>1        </td><td>1        </td><td>0        </td><td>0        </td><td>1        </td><td>0        </td></tr>\n",
       "\t<tr><td>7        </td><td>1        </td><td>0.0000000</td><td>0.000    </td><td>0        </td><td>1        </td><td>0        </td><td>0        </td><td>1        </td><td>0        </td><td>0        </td></tr>\n",
       "\t<tr><td>7        </td><td>1        </td><td>0.7500000</td><td>0.500    </td><td>0        </td><td>0        </td><td>0        </td><td>0        </td><td>0        </td><td>0        </td><td>0        </td></tr>\n",
       "\t<tr><td>7        </td><td>1        </td><td>0.5416667</td><td>0.500    </td><td>0        </td><td>0        </td><td>0        </td><td>0        </td><td>0        </td><td>0        </td><td>0        </td></tr>\n",
       "\t<tr><td>6        </td><td>1        </td><td>0.9583333</td><td>0.375    </td><td>1        </td><td>0        </td><td>0        </td><td>1        </td><td>0        </td><td>0        </td><td>0        </td></tr>\n",
       "\t<tr><td>8        </td><td>0        </td><td>0.2083333</td><td>0.000    </td><td>1        </td><td>0        </td><td>0        </td><td>1        </td><td>0        </td><td>0        </td><td>1        </td></tr>\n",
       "</tbody>\n",
       "</table>\n"
      ],
      "text/latex": [
       "\\begin{tabular}{r|lllllllllll}\n",
       " street & havecell & avg\\_bins\\_treat & base\\_avg\\_bins\\_treat & bin & sms & bin\\_s & bin\\_g & sms\\_p & sms\\_g & no.cell.phone\\\\\n",
       "\\hline\n",
       "\t 7         & 1         & 1.0416666 & 0.750     & 1         & 1         & 1         & 0         & 0         & 1         & 0        \\\\\n",
       "\t 7         & 1         & 0.0000000 & 0.000     & 0         & 1         & 0         & 0         & 1         & 0         & 0        \\\\\n",
       "\t 7         & 1         & 0.7500000 & 0.500     & 0         & 0         & 0         & 0         & 0         & 0         & 0        \\\\\n",
       "\t 7         & 1         & 0.5416667 & 0.500     & 0         & 0         & 0         & 0         & 0         & 0         & 0        \\\\\n",
       "\t 6         & 1         & 0.9583333 & 0.375     & 1         & 0         & 0         & 1         & 0         & 0         & 0        \\\\\n",
       "\t 8         & 0         & 0.2083333 & 0.000     & 1         & 0         & 0         & 1         & 0         & 0         & 1        \\\\\n",
       "\\end{tabular}\n"
      ],
      "text/markdown": [
       "\n",
       "street | havecell | avg_bins_treat | base_avg_bins_treat | bin | sms | bin_s | bin_g | sms_p | sms_g | no.cell.phone | \n",
       "|---|---|---|---|---|---|\n",
       "| 7         | 1         | 1.0416666 | 0.750     | 1         | 1         | 1         | 0         | 0         | 1         | 0         | \n",
       "| 7         | 1         | 0.0000000 | 0.000     | 0         | 1         | 0         | 0         | 1         | 0         | 0         | \n",
       "| 7         | 1         | 0.7500000 | 0.500     | 0         | 0         | 0         | 0         | 0         | 0         | 0         | \n",
       "| 7         | 1         | 0.5416667 | 0.500     | 0         | 0         | 0         | 0         | 0         | 0         | 0         | \n",
       "| 6         | 1         | 0.9583333 | 0.375     | 1         | 0         | 0         | 1         | 0         | 0         | 0         | \n",
       "| 8         | 0         | 0.2083333 | 0.000     | 1         | 0         | 0         | 1         | 0         | 0         | 1         | \n",
       "\n",
       "\n"
      ],
      "text/plain": [
       "  street havecell avg_bins_treat base_avg_bins_treat bin sms bin_s bin_g sms_p\n",
       "1 7      1        1.0416666      0.750               1   1   1     0     0    \n",
       "2 7      1        0.0000000      0.000               0   1   0     0     1    \n",
       "3 7      1        0.7500000      0.500               0   0   0     0     0    \n",
       "4 7      1        0.5416667      0.500               0   0   0     0     0    \n",
       "5 6      1        0.9583333      0.375               1   0   0     1     0    \n",
       "6 8      0        0.2083333      0.000               1   0   0     1     0    \n",
       "  sms_g no.cell.phone\n",
       "1 1     0            \n",
       "2 0     0            \n",
       "3 0     0            \n",
       "4 0     0            \n",
       "5 0     0            \n",
       "6 0     1            "
      ]
     },
     "metadata": {},
     "output_type": "display_data"
    }
   ],
   "source": [
    "d.4e <- cbind(d4)\n",
    "d.4e$no.cell.phone <- (1- d.4e$havecell)\n",
    "head(d.4e)"
   ]
  },
  {
   "cell_type": "markdown",
   "metadata": {},
   "source": [
    "f. Now add \"no cell phone\" as a covariate to the previous regression.  Provide a 95% confidence interval for the treatment effect.  Explain why this confidence interval does not differ much from the previous one."
   ]
  },
  {
   "cell_type": "code",
   "execution_count": 25,
   "metadata": {
    "collapsed": true,
    "scrolled": true
   },
   "outputs": [],
   "source": [
    "m4.4 <- lm( avg_bins_treat ~ bin + base_avg_bins_treat + factor(street) + no.cell.phone , data = d.4e)"
   ]
  },
  {
   "cell_type": "markdown",
   "metadata": {},
   "source": [
    "Cell phone ownership doesn't seem bear any effect on the treatment coefficient. One hypothesis is that some of the cues captured by cell phone ownership might already be absorbed by the street (given it could be a proxy to demographic information correlated to cell phone ownership) or pre-treatment covariates."
   ]
  },
  {
   "cell_type": "code",
   "execution_count": 26,
   "metadata": {},
   "outputs": [
    {
     "data": {
      "text/html": [
       "<table>\n",
       "<thead><tr><th></th><th scope=col>2.5 %</th><th scope=col>97.5 %</th></tr></thead>\n",
       "<tbody>\n",
       "\t<tr><th scope=row>bin</th><td>0.08166792</td><td>0.1485336 </td></tr>\n",
       "</tbody>\n",
       "</table>\n"
      ],
      "text/latex": [
       "\\begin{tabular}{r|ll}\n",
       "  & 2.5 \\% & 97.5 \\%\\\\\n",
       "\\hline\n",
       "\tbin & 0.08166792 & 0.1485336 \\\\\n",
       "\\end{tabular}\n"
      ],
      "text/markdown": [
       "\n",
       "| <!--/--> | 2.5 % | 97.5 % | \n",
       "|---|\n",
       "| bin | 0.08166792 | 0.1485336  | \n",
       "\n",
       "\n"
      ],
      "text/plain": [
       "    2.5 %      97.5 %   \n",
       "bin 0.08166792 0.1485336"
      ]
     },
     "metadata": {},
     "output_type": "display_data"
    }
   ],
   "source": [
    "confint(m4.4,'bin')"
   ]
  },
  {
   "cell_type": "markdown",
   "metadata": {},
   "source": [
    "However the confidence interval does become wider as a result, which could be a result of the correlation between cell phone ownership and street (block) coefficients"
   ]
  },
  {
   "cell_type": "markdown",
   "metadata": {},
   "source": [
    "g. Now let's add in the SMS treatment.  Re-run the previous regression with \"any SMS\" included.  You should get the same results as in Table 4A.  Provide a 95% confidence interval for the treatment effect of the recycling bin.  Explain why this confidence interval does not differ much from the previous one."
   ]
  },
  {
   "cell_type": "code",
   "execution_count": 27,
   "metadata": {
    "scrolled": true
   },
   "outputs": [
    {
     "data": {
      "text/html": [
       "<table>\n",
       "<thead><tr><th></th><th scope=col>Estimate</th><th scope=col>Std. Error</th><th scope=col>t value</th><th scope=col>Pr(&gt;|t|)</th></tr></thead>\n",
       "<tbody>\n",
       "\t<tr><th scope=row>bin</th><td> 0.115053649 </td><td>0.01705105   </td><td> 6.747600    </td><td> 2.095786e-11</td></tr>\n",
       "\t<tr><th scope=row>base_avg_bins_treat</th><td> 0.373482860 </td><td>0.01430947   </td><td>26.100390    </td><td>2.285610e-125</td></tr>\n",
       "\t<tr><th scope=row>sms</th><td> 0.005124375 </td><td>0.02085563   </td><td> 0.245707    </td><td> 8.059407e-01</td></tr>\n",
       "\t<tr><th scope=row>no.cell.phone</th><td>-0.046702054 </td><td>0.02037507   </td><td>-2.292118    </td><td> 2.202841e-02</td></tr>\n",
       "</tbody>\n",
       "</table>\n"
      ],
      "text/latex": [
       "\\begin{tabular}{r|llll}\n",
       "  & Estimate & Std. Error & t value & Pr(>\\textbar{}t\\textbar{})\\\\\n",
       "\\hline\n",
       "\tbin &  0.115053649  & 0.01705105    &  6.747600     &  2.095786e-11\\\\\n",
       "\tbase\\_avg\\_bins\\_treat &  0.373482860  & 0.01430947    & 26.100390     & 2.285610e-125\\\\\n",
       "\tsms &  0.005124375  & 0.02085563    &  0.245707     &  8.059407e-01\\\\\n",
       "\tno.cell.phone & -0.046702054  & 0.02037507    & -2.292118     &  2.202841e-02\\\\\n",
       "\\end{tabular}\n"
      ],
      "text/markdown": [
       "\n",
       "| <!--/--> | Estimate | Std. Error | t value | Pr(>|t|) | \n",
       "|---|---|---|---|\n",
       "| bin |  0.115053649  | 0.01705105    |  6.747600     |  2.095786e-11 | \n",
       "| base_avg_bins_treat |  0.373482860  | 0.01430947    | 26.100390     | 2.285610e-125 | \n",
       "| sms |  0.005124375  | 0.02085563    |  0.245707     |  8.059407e-01 | \n",
       "| no.cell.phone | -0.046702054  | 0.02037507    | -2.292118     |  2.202841e-02 | \n",
       "\n",
       "\n"
      ],
      "text/plain": [
       "                    Estimate     Std. Error t value   Pr(>|t|)     \n",
       "bin                  0.115053649 0.01705105  6.747600  2.095786e-11\n",
       "base_avg_bins_treat  0.373482860 0.01430947 26.100390 2.285610e-125\n",
       "sms                  0.005124375 0.02085563  0.245707  8.059407e-01\n",
       "no.cell.phone       -0.046702054 0.02037507 -2.292118  2.202841e-02"
      ]
     },
     "metadata": {},
     "output_type": "display_data"
    }
   ],
   "source": [
    "m4.5 <- lm( avg_bins_treat ~ bin + base_avg_bins_treat + sms + no.cell.phone + factor(street) , data = d.4e)\n",
    "summary(m4.5)$coefficients[2:5,]"
   ]
  },
  {
   "cell_type": "code",
   "execution_count": 28,
   "metadata": {},
   "outputs": [
    {
     "data": {
      "text/html": [
       "<table>\n",
       "<thead><tr><th></th><th scope=col>2.5 %</th><th scope=col>97.5 %</th></tr></thead>\n",
       "<tbody>\n",
       "\t<tr><th scope=row>bin</th><td>0.08160886</td><td>0.1484984 </td></tr>\n",
       "</tbody>\n",
       "</table>\n"
      ],
      "text/latex": [
       "\\begin{tabular}{r|ll}\n",
       "  & 2.5 \\% & 97.5 \\%\\\\\n",
       "\\hline\n",
       "\tbin & 0.08160886 & 0.1484984 \\\\\n",
       "\\end{tabular}\n"
      ],
      "text/markdown": [
       "\n",
       "| <!--/--> | 2.5 % | 97.5 % | \n",
       "|---|\n",
       "| bin | 0.08160886 | 0.1484984  | \n",
       "\n",
       "\n"
      ],
      "text/plain": [
       "    2.5 %      97.5 %   \n",
       "bin 0.08160886 0.1484984"
      ]
     },
     "metadata": {},
     "output_type": "display_data"
    }
   ],
   "source": [
    "confint(m4.5,'bin')"
   ]
  },
  {
   "cell_type": "markdown",
   "metadata": {},
   "source": [
    "Given that the treatments (sms and bin) were assigned randomly in an independent fashion, there is no correlation between the two as the presence of SMS should be balanced across bin treatments and control groups. As a result, there is virtually no change on the standard errors associated with the treatment (bin) in consideration"
   ]
  },
  {
   "cell_type": "markdown",
   "metadata": {},
   "source": [
    "h. Now reproduce the results of column 2 in Table 4B, estimating separate treatment effects for the two types of SMS treatments and the two types of recycling-bin treatments.  Provide a 95% confidence interval for the effect of the unadorned recycling bin.  Explain how your answer differs from that in part (g), and explain why you think it differs."
   ]
  },
  {
   "cell_type": "code",
   "execution_count": 29,
   "metadata": {},
   "outputs": [
    {
     "data": {
      "text/html": [
       "<table>\n",
       "<thead><tr><th></th><th scope=col>Estimate</th><th scope=col>Std. Error</th><th scope=col>t value</th><th scope=col>Pr(&gt;|t|)</th></tr></thead>\n",
       "<tbody>\n",
       "\t<tr><th scope=row>bin_s</th><td> 0.127812892 </td><td>0.02223628   </td><td> 5.7479441   </td><td> 1.080308e-08</td></tr>\n",
       "\t<tr><th scope=row>bin_g</th><td> 0.103190216 </td><td>0.02188886   </td><td> 4.7142810   </td><td> 2.636923e-06</td></tr>\n",
       "\t<tr><th scope=row>sms_p</th><td>-0.008041152 </td><td>0.02503693   </td><td>-0.3211716   </td><td> 7.481224e-01</td></tr>\n",
       "\t<tr><th scope=row>sms_g</th><td> 0.019707117 </td><td>0.02519764   </td><td> 0.7821016   </td><td> 4.342709e-01</td></tr>\n",
       "\t<tr><th scope=row>no.cell.phone</th><td>-0.046383459 </td><td>0.02037843   </td><td>-2.2761053   </td><td> 2.297176e-02</td></tr>\n",
       "\t<tr><th scope=row>base_avg_bins_treat</th><td> 0.373852178 </td><td>0.01431366   </td><td>26.1185536   </td><td>1.733949e-125</td></tr>\n",
       "</tbody>\n",
       "</table>\n"
      ],
      "text/latex": [
       "\\begin{tabular}{r|llll}\n",
       "  & Estimate & Std. Error & t value & Pr(>\\textbar{}t\\textbar{})\\\\\n",
       "\\hline\n",
       "\tbin\\_s &  0.127812892  & 0.02223628    &  5.7479441    &  1.080308e-08\\\\\n",
       "\tbin\\_g &  0.103190216  & 0.02188886    &  4.7142810    &  2.636923e-06\\\\\n",
       "\tsms\\_p & -0.008041152  & 0.02503693    & -0.3211716    &  7.481224e-01\\\\\n",
       "\tsms\\_g &  0.019707117  & 0.02519764    &  0.7821016    &  4.342709e-01\\\\\n",
       "\tno.cell.phone & -0.046383459  & 0.02037843    & -2.2761053    &  2.297176e-02\\\\\n",
       "\tbase\\_avg\\_bins\\_treat &  0.373852178  & 0.01431366    & 26.1185536    & 1.733949e-125\\\\\n",
       "\\end{tabular}\n"
      ],
      "text/markdown": [
       "\n",
       "| <!--/--> | Estimate | Std. Error | t value | Pr(>|t|) | \n",
       "|---|---|---|---|---|---|\n",
       "| bin_s |  0.127812892  | 0.02223628    |  5.7479441    |  1.080308e-08 | \n",
       "| bin_g |  0.103190216  | 0.02188886    |  4.7142810    |  2.636923e-06 | \n",
       "| sms_p | -0.008041152  | 0.02503693    | -0.3211716    |  7.481224e-01 | \n",
       "| sms_g |  0.019707117  | 0.02519764    |  0.7821016    |  4.342709e-01 | \n",
       "| no.cell.phone | -0.046383459  | 0.02037843    | -2.2761053    |  2.297176e-02 | \n",
       "| base_avg_bins_treat |  0.373852178  | 0.01431366    | 26.1185536    | 1.733949e-125 | \n",
       "\n",
       "\n"
      ],
      "text/plain": [
       "                    Estimate     Std. Error t value    Pr(>|t|)     \n",
       "bin_s                0.127812892 0.02223628  5.7479441  1.080308e-08\n",
       "bin_g                0.103190216 0.02188886  4.7142810  2.636923e-06\n",
       "sms_p               -0.008041152 0.02503693 -0.3211716  7.481224e-01\n",
       "sms_g                0.019707117 0.02519764  0.7821016  4.342709e-01\n",
       "no.cell.phone       -0.046383459 0.02037843 -2.2761053  2.297176e-02\n",
       "base_avg_bins_treat  0.373852178 0.01431366 26.1185536 1.733949e-125"
      ]
     },
     "metadata": {},
     "output_type": "display_data"
    }
   ],
   "source": [
    "m4.6 <- lm( avg_bins_treat ~ bin_s + bin_g +sms_p + sms_g + no.cell.phone +base_avg_bins_treat + factor(street) , data = d.4e)\n",
    "summary(m4.6)$coefficients[2:7,]"
   ]
  },
  {
   "cell_type": "code",
   "execution_count": 30,
   "metadata": {},
   "outputs": [
    {
     "data": {
      "text/html": [
       "<table>\n",
       "<thead><tr><th></th><th scope=col>2.5 %</th><th scope=col>97.5 %</th></tr></thead>\n",
       "<tbody>\n",
       "\t<tr><th scope=row>bin_g</th><td>0.06025627</td><td>0.1461242 </td></tr>\n",
       "</tbody>\n",
       "</table>\n"
      ],
      "text/latex": [
       "\\begin{tabular}{r|ll}\n",
       "  & 2.5 \\% & 97.5 \\%\\\\\n",
       "\\hline\n",
       "\tbin\\_g & 0.06025627 & 0.1461242 \\\\\n",
       "\\end{tabular}\n"
      ],
      "text/markdown": [
       "\n",
       "| <!--/--> | 2.5 % | 97.5 % | \n",
       "|---|\n",
       "| bin_g | 0.06025627 | 0.1461242  | \n",
       "\n",
       "\n"
      ],
      "text/plain": [
       "      2.5 %      97.5 %   \n",
       "bin_g 0.06025627 0.1461242"
      ]
     },
     "metadata": {},
     "output_type": "display_data"
    }
   ],
   "source": [
    "confint(m4.6,'bin_g')"
   ]
  },
  {
   "cell_type": "markdown",
   "metadata": {},
   "source": [
    "The effect of providing an unadorned recycling bin on the average no. of bins turned in per week is 0.103 with a 95% confidence interval of (0.060,0.146). The answer in this case differs from question g. as for the prior model the treatment variable used captured the combined effect of providing a bin (whether unadorned or adorned). By isolating the effect of only the unadorned bin we observe a less significant, more variable average treatment on recycling. \n",
    "\n",
    "Given that the unadorned bin addresses one of the two major problems cited on the experiment design (inconvenience) and not both (the other being lack of knowledge - which the sticker addresses) the lower treatment effect seems reasonable. The increased variability could also be attributed to the same phenomena."
   ]
  },
  {
   "cell_type": "markdown",
   "metadata": {},
   "source": [
    "# 5 A Final Practice Problem \n",
    "Now for a fictional scenario. An emergency two-week randomized controlled trial of the experimental drug ZMapp is conducted to treat Ebola. (The control represents the usual standard of care for patients identified with Ebola, while the treatment is the usual standard of care plus the drug.) \n",
    "\n",
    "Here are the (fake) data. "
   ]
  },
  {
   "cell_type": "markdown",
   "metadata": {},
   "source": [
    "d <- read.csv(\"./data/ebola_rct2.csv\")\n",
    "head(d)"
   ]
  },
  {
   "cell_type": "code",
   "execution_count": 31,
   "metadata": {},
   "outputs": [
    {
     "data": {
      "text/html": [
       "<table>\n",
       "<thead><tr><th scope=col>temperature_day0</th><th scope=col>vomiting_day0</th><th scope=col>treat_zmapp</th><th scope=col>temperature_day14</th><th scope=col>vomiting_day14</th><th scope=col>male</th></tr></thead>\n",
       "<tbody>\n",
       "\t<tr><td>99.53168</td><td>1       </td><td>0       </td><td>98.62634</td><td>1       </td><td>0       </td></tr>\n",
       "\t<tr><td>97.37372</td><td>0       </td><td>0       </td><td>98.03251</td><td>1       </td><td>0       </td></tr>\n",
       "\t<tr><td>97.00747</td><td>0       </td><td>1       </td><td>97.93340</td><td>0       </td><td>1       </td></tr>\n",
       "\t<tr><td>99.74761</td><td>1       </td><td>0       </td><td>98.40457</td><td>1       </td><td>0       </td></tr>\n",
       "\t<tr><td>99.57559</td><td>1       </td><td>1       </td><td>99.31678</td><td>1       </td><td>0       </td></tr>\n",
       "\t<tr><td>98.28889</td><td>1       </td><td>1       </td><td>99.82623</td><td>1       </td><td>1       </td></tr>\n",
       "</tbody>\n",
       "</table>\n"
      ],
      "text/latex": [
       "\\begin{tabular}{r|llllll}\n",
       " temperature\\_day0 & vomiting\\_day0 & treat\\_zmapp & temperature\\_day14 & vomiting\\_day14 & male\\\\\n",
       "\\hline\n",
       "\t 99.53168 & 1        & 0        & 98.62634 & 1        & 0       \\\\\n",
       "\t 97.37372 & 0        & 0        & 98.03251 & 1        & 0       \\\\\n",
       "\t 97.00747 & 0        & 1        & 97.93340 & 0        & 1       \\\\\n",
       "\t 99.74761 & 1        & 0        & 98.40457 & 1        & 0       \\\\\n",
       "\t 99.57559 & 1        & 1        & 99.31678 & 1        & 0       \\\\\n",
       "\t 98.28889 & 1        & 1        & 99.82623 & 1        & 1       \\\\\n",
       "\\end{tabular}\n"
      ],
      "text/markdown": [
       "\n",
       "temperature_day0 | vomiting_day0 | treat_zmapp | temperature_day14 | vomiting_day14 | male | \n",
       "|---|---|---|---|---|---|\n",
       "| 99.53168 | 1        | 0        | 98.62634 | 1        | 0        | \n",
       "| 97.37372 | 0        | 0        | 98.03251 | 1        | 0        | \n",
       "| 97.00747 | 0        | 1        | 97.93340 | 0        | 1        | \n",
       "| 99.74761 | 1        | 0        | 98.40457 | 1        | 0        | \n",
       "| 99.57559 | 1        | 1        | 99.31678 | 1        | 0        | \n",
       "| 98.28889 | 1        | 1        | 99.82623 | 1        | 1        | \n",
       "\n",
       "\n"
      ],
      "text/plain": [
       "  temperature_day0 vomiting_day0 treat_zmapp temperature_day14 vomiting_day14\n",
       "1 99.53168         1             0           98.62634          1             \n",
       "2 97.37372         0             0           98.03251          1             \n",
       "3 97.00747         0             1           97.93340          0             \n",
       "4 99.74761         1             0           98.40457          1             \n",
       "5 99.57559         1             1           99.31678          1             \n",
       "6 98.28889         1             1           99.82623          1             \n",
       "  male\n",
       "1 0   \n",
       "2 0   \n",
       "3 1   \n",
       "4 0   \n",
       "5 0   \n",
       "6 1   "
      ]
     },
     "metadata": {},
     "output_type": "display_data"
    }
   ],
   "source": [
    "d5 <- read.csv(\"./data/ebola_rct2.csv\")\n",
    "head(d5)"
   ]
  },
  {
   "cell_type": "markdown",
   "metadata": {},
   "source": [
    "You are asked to analyze it. Patients' temperature and whether they are vomiting is recorded on day 0 of the experiment, then ZMapp is administered to patients in the treatment group on day 1. Vomiting and temperature is again recorded on day 14.\n",
    "\n",
    "a. Without using any covariates, answer this question with regression: What is the estimated effect of ZMapp (with standard error in parentheses) on whether someone was vomiting on day 14? What is the p-value associated with this estimate?"
   ]
  },
  {
   "cell_type": "code",
   "execution_count": 33,
   "metadata": {},
   "outputs": [
    {
     "data": {
      "text/plain": [
       "\n",
       "Call:\n",
       "lm(formula = vomiting_day14 ~ treat_zmapp, data = d5)\n",
       "\n",
       "Residuals:\n",
       "     Min       1Q   Median       3Q      Max \n",
       "-0.84746 -0.03803  0.15254  0.21197  0.39024 \n",
       "\n",
       "Coefficients:\n",
       "            Estimate Std. Error t value Pr(>|t|)    \n",
       "(Intercept)  0.84746    0.05483  15.456   <2e-16 ***\n",
       "treat_zmapp -0.23770    0.08563  -2.776   0.0066 ** \n",
       "---\n",
       "Signif. codes:  0 '***' 0.001 '**' 0.01 '*' 0.05 '.' 0.1 ' ' 1\n",
       "\n",
       "Residual standard error: 0.4212 on 98 degrees of freedom\n",
       "Multiple R-squared:  0.0729,\tAdjusted R-squared:  0.06343 \n",
       "F-statistic: 7.705 on 1 and 98 DF,  p-value: 0.006595\n"
      ]
     },
     "metadata": {},
     "output_type": "display_data"
    }
   ],
   "source": [
    "m5 <- lm(vomiting_day14 ~ treat_zmapp , data = d5)\n",
    "summary(m5)"
   ]
  },
  {
   "cell_type": "markdown",
   "metadata": {},
   "source": [
    "**Answer**\n",
    "\n",
    "Estimated effect of Zmapp is ~ 23% reduction (standard error of 8.5%) on the likelihood someone would be vomitting after 14 days of the treatment. The p-value of this coefficient is 0.0066"
   ]
  },
  {
   "cell_type": "markdown",
   "metadata": {},
   "source": [
    "b. Add covariates for vomiting on day 0 and patient temperature on day 0 to the regression from part (a) and report the ATE (with standard error). Also report the p-value."
   ]
  },
  {
   "cell_type": "code",
   "execution_count": 38,
   "metadata": {},
   "outputs": [
    {
     "data": {
      "text/plain": [
       "\n",
       "Call:\n",
       "lm(formula = vomiting_day14 ~ treat_zmapp + vomiting_day0, data = d5)\n",
       "\n",
       "Residuals:\n",
       "     Min       1Q   Median       3Q      Max \n",
       "-0.96208 -0.06578  0.03792  0.22530  0.62310 \n",
       "\n",
       "Coefficients:\n",
       "              Estimate Std. Error t value Pr(>|t|)    \n",
       "(Intercept)    0.56428    0.07562   7.462 3.67e-11 ***\n",
       "treat_zmapp   -0.18738    0.07762  -2.414   0.0177 *  \n",
       "vomiting_day0  0.39780    0.08059   4.936 3.31e-06 ***\n",
       "---\n",
       "Signif. codes:  0 '***' 0.001 '**' 0.01 '*' 0.05 '.' 0.1 ' ' 1\n",
       "\n",
       "Residual standard error: 0.3785 on 97 degrees of freedom\n",
       "Multiple R-squared:  0.259,\tAdjusted R-squared:  0.2437 \n",
       "F-statistic: 16.95 on 2 and 97 DF,  p-value: 4.85e-07\n"
      ]
     },
     "metadata": {},
     "output_type": "display_data"
    }
   ],
   "source": [
    "m5.1 <- lm(vomiting_day14 ~ treat_zmapp + vomiting_day0 , data = d5)\n",
    "summary(m5.1)"
   ]
  },
  {
   "cell_type": "markdown",
   "metadata": {},
   "source": [
    "**Answer**\n",
    "\n",
    "Estimated effect of Zmapp is ~ 18.7% reduction (standard error of 7.7%) on the likelihood someone would be vomitting after 14 days of the treatment. The p-value of this coefficient is 0.0177"
   ]
  },
  {
   "cell_type": "markdown",
   "metadata": {},
   "source": [
    "c. Do you prefer the estimate of the ATE reported in part (a) or part (b)? Why?"
   ]
  },
  {
   "cell_type": "markdown",
   "metadata": {},
   "source": [
    "**Answer**\n",
    "\n",
    "My preference would be the estimate produced on part (b) due to the fact it gives a more accurate picture on the treatment effect than part (a). In essence, adding vomiting_day0 effectively helps blocking the population by a pre-treatment covariate, which helps us better assess the true effect of the treatment."
   ]
  },
  {
   "cell_type": "markdown",
   "metadata": {},
   "source": [
    "d. The regression from part (b) suggests that temperature is highly predictive of vomiting. Also include temperature on day 14 as a covariate in the regression from part (b) and report the ATE, the standard error, and the p-value."
   ]
  },
  {
   "cell_type": "code",
   "execution_count": 37,
   "metadata": {},
   "outputs": [
    {
     "data": {
      "text/plain": [
       "\n",
       "Call:\n",
       "lm(formula = vomiting_day14 ~ treat_zmapp + vomiting_day0 + temperature_day14, \n",
       "    data = d5)\n",
       "\n",
       "Residuals:\n",
       "    Min      1Q  Median      3Q     Max \n",
       "-1.0323 -0.1978  0.1093  0.2254  0.6208 \n",
       "\n",
       "Coefficients:\n",
       "                  Estimate Std. Error t value Pr(>|t|)    \n",
       "(Intercept)       -6.61356    2.91521  -2.269 0.025530 *  \n",
       "treat_zmapp       -0.12876    0.07933  -1.623 0.107835    \n",
       "vomiting_day0      0.31878    0.08486   3.756 0.000296 ***\n",
       "temperature_day14  0.07269    0.02951   2.463 0.015560 *  \n",
       "---\n",
       "Signif. codes:  0 '***' 0.001 '**' 0.01 '*' 0.05 '.' 0.1 ' ' 1\n",
       "\n",
       "Residual standard error: 0.3689 on 96 degrees of freedom\n",
       "Multiple R-squared:  0.3031,\tAdjusted R-squared:  0.2813 \n",
       "F-statistic: 13.91 on 3 and 96 DF,  p-value: 1.32e-07\n"
      ]
     },
     "metadata": {},
     "output_type": "display_data"
    }
   ],
   "source": [
    "m5.2 <- lm(vomiting_day14 ~ treat_zmapp + vomiting_day0 + temperature_day14, data = d5)\n",
    "summary(m5.2)"
   ]
  },
  {
   "cell_type": "markdown",
   "metadata": {},
   "source": [
    "**Answer**\n",
    "\n",
    "Estimated effect of Zmapp is ~ 12.7% reduction (standard error of 7.9%) on the likelihood someone would be vomitting after 14 days of the treatment. The p-value of this coefficient is 0.10783"
   ]
  },
  {
   "cell_type": "markdown",
   "metadata": {},
   "source": [
    "e. Do you prefer the estimate of the ATE reported in part (b) or part (d)? Why?"
   ]
  },
  {
   "cell_type": "markdown",
   "metadata": {},
   "source": [
    "**Answer**\n",
    "\n",
    "My preference would be the estimate produced on part (b). Given temperature_day14 is essentially a post-treatment variable and the fact it could be correlated with the outcome will essentially produce biased results. "
   ]
  },
  {
   "cell_type": "markdown",
   "metadata": {},
   "source": [
    "f. Now let's switch from the outcome of vomiting to the outcome of temperature, and use the same regression covariates as in part (b). Test the hypothesis that ZMapp is especially likely to reduce men's temperatures, as compared to women's, and describe how you did so. What do the results suggest?"
   ]
  },
  {
   "cell_type": "markdown",
   "metadata": {},
   "source": [
    "First step would be to create an additional feature that helps us track the difference in temperature between days 0 and 14, as well as another one to account for any interaction between gender and treatment.\n",
    "\n",
    "To generate the interaction feature we can simply leverage the existing dummy variables (treatment and male). By using their product, we can interpret value == 1 as being a male and receiving the treatment, and values = 0 otherwise (i.e. not being a male subject to the treatment)."
   ]
  },
  {
   "cell_type": "code",
   "execution_count": 44,
   "metadata": {},
   "outputs": [
    {
     "data": {
      "text/html": [
       "<table>\n",
       "<thead><tr><th scope=col>temperature_day0</th><th scope=col>vomiting_day0</th><th scope=col>treat_zmapp</th><th scope=col>temperature_day14</th><th scope=col>vomiting_day14</th><th scope=col>male</th><th scope=col>temperature_diff</th><th scope=col>gender_interaction</th></tr></thead>\n",
       "<tbody>\n",
       "\t<tr><td>99.53168</td><td>1       </td><td>0       </td><td>98.62634</td><td>1       </td><td>0       </td><td>-0.90534</td><td>0       </td></tr>\n",
       "\t<tr><td>97.37372</td><td>0       </td><td>0       </td><td>98.03251</td><td>1       </td><td>0       </td><td> 0.65879</td><td>0       </td></tr>\n",
       "\t<tr><td>97.00747</td><td>0       </td><td>1       </td><td>97.93340</td><td>0       </td><td>1       </td><td> 0.92593</td><td>1       </td></tr>\n",
       "\t<tr><td>99.74761</td><td>1       </td><td>0       </td><td>98.40457</td><td>1       </td><td>0       </td><td>-1.34304</td><td>0       </td></tr>\n",
       "\t<tr><td>99.57559</td><td>1       </td><td>1       </td><td>99.31678</td><td>1       </td><td>0       </td><td>-0.25881</td><td>0       </td></tr>\n",
       "\t<tr><td>98.28889</td><td>1       </td><td>1       </td><td>99.82623</td><td>1       </td><td>1       </td><td> 1.53734</td><td>1       </td></tr>\n",
       "</tbody>\n",
       "</table>\n"
      ],
      "text/latex": [
       "\\begin{tabular}{r|llllllll}\n",
       " temperature\\_day0 & vomiting\\_day0 & treat\\_zmapp & temperature\\_day14 & vomiting\\_day14 & male & temperature\\_diff & gender\\_interaction\\\\\n",
       "\\hline\n",
       "\t 99.53168 & 1        & 0        & 98.62634 & 1        & 0        & -0.90534 & 0       \\\\\n",
       "\t 97.37372 & 0        & 0        & 98.03251 & 1        & 0        &  0.65879 & 0       \\\\\n",
       "\t 97.00747 & 0        & 1        & 97.93340 & 0        & 1        &  0.92593 & 1       \\\\\n",
       "\t 99.74761 & 1        & 0        & 98.40457 & 1        & 0        & -1.34304 & 0       \\\\\n",
       "\t 99.57559 & 1        & 1        & 99.31678 & 1        & 0        & -0.25881 & 0       \\\\\n",
       "\t 98.28889 & 1        & 1        & 99.82623 & 1        & 1        &  1.53734 & 1       \\\\\n",
       "\\end{tabular}\n"
      ],
      "text/markdown": [
       "\n",
       "temperature_day0 | vomiting_day0 | treat_zmapp | temperature_day14 | vomiting_day14 | male | temperature_diff | gender_interaction | \n",
       "|---|---|---|---|---|---|\n",
       "| 99.53168 | 1        | 0        | 98.62634 | 1        | 0        | -0.90534 | 0        | \n",
       "| 97.37372 | 0        | 0        | 98.03251 | 1        | 0        |  0.65879 | 0        | \n",
       "| 97.00747 | 0        | 1        | 97.93340 | 0        | 1        |  0.92593 | 1        | \n",
       "| 99.74761 | 1        | 0        | 98.40457 | 1        | 0        | -1.34304 | 0        | \n",
       "| 99.57559 | 1        | 1        | 99.31678 | 1        | 0        | -0.25881 | 0        | \n",
       "| 98.28889 | 1        | 1        | 99.82623 | 1        | 1        |  1.53734 | 1        | \n",
       "\n",
       "\n"
      ],
      "text/plain": [
       "  temperature_day0 vomiting_day0 treat_zmapp temperature_day14 vomiting_day14\n",
       "1 99.53168         1             0           98.62634          1             \n",
       "2 97.37372         0             0           98.03251          1             \n",
       "3 97.00747         0             1           97.93340          0             \n",
       "4 99.74761         1             0           98.40457          1             \n",
       "5 99.57559         1             1           99.31678          1             \n",
       "6 98.28889         1             1           99.82623          1             \n",
       "  male temperature_diff gender_interaction\n",
       "1 0    -0.90534         0                 \n",
       "2 0     0.65879         0                 \n",
       "3 1     0.92593         1                 \n",
       "4 0    -1.34304         0                 \n",
       "5 0    -0.25881         0                 \n",
       "6 1     1.53734         1                 "
      ]
     },
     "metadata": {},
     "output_type": "display_data"
    }
   ],
   "source": [
    "d5.f <- cbind(d5)\n",
    "d5.f$temperature_diff <- (d5.f$temperature_day14 - d5.f$temperature_day0)\n",
    "d5.f$gender_interaction <- (d5.f$male * d5.f$treat_zmapp)\n",
    "\n",
    "head(d5.f)"
   ]
  },
  {
   "cell_type": "markdown",
   "metadata": {},
   "source": [
    "To measure the effect on temperature  changes we can use the newly created feature as our target variable (temperature_diff) and regress on treatment and block on gender and gender interaction."
   ]
  },
  {
   "cell_type": "code",
   "execution_count": 52,
   "metadata": {},
   "outputs": [
    {
     "data": {
      "text/plain": [
       "\n",
       "Call:\n",
       "lm(formula = temperature_diff ~ treat_zmapp + vomiting_day0 + \n",
       "    male + gender_interaction, data = d5.f)\n",
       "\n",
       "Residuals:\n",
       "     Min       1Q   Median       3Q      Max \n",
       "-1.04361 -0.34325 -0.07118  0.34953  1.08533 \n",
       "\n",
       "Coefficients:\n",
       "                   Estimate Std. Error t value Pr(>|t|)    \n",
       "(Intercept)          0.4546     0.1092   4.162 6.93e-05 ***\n",
       "treat_zmapp         -0.2327     0.1340  -1.736   0.0858 .  \n",
       "vomiting_day0       -0.7626     0.1091  -6.989 3.80e-10 ***\n",
       "male                 3.0647     0.1427  21.477  < 2e-16 ***\n",
       "gender_interaction  -1.9474     0.2146  -9.076 1.56e-14 ***\n",
       "---\n",
       "Signif. codes:  0 '***' 0.001 '**' 0.01 '*' 0.05 '.' 0.1 ' ' 1\n",
       "\n",
       "Residual standard error: 0.5102 on 95 degrees of freedom\n",
       "Multiple R-squared:  0.8572,\tAdjusted R-squared:  0.8512 \n",
       "F-statistic: 142.6 on 4 and 95 DF,  p-value: < 2.2e-16\n"
      ]
     },
     "metadata": {},
     "output_type": "display_data"
    }
   ],
   "source": [
    "m5.3 <- lm(temperature_diff ~ treat_zmapp + vomiting_day0 + male + gender_interaction , data = d5.f)\n",
    "summary(m5.3)"
   ]
  },
  {
   "cell_type": "markdown",
   "metadata": {},
   "source": [
    "The above estimate suggests that there treatment has a more pronounced effect for men. Overall, the -1.94 coefficient suggests that the temperature drop is 1.94 higher in men when the treatment is applied. The p-value for this coefficient is also highly significant. "
   ]
  },
  {
   "cell_type": "markdown",
   "metadata": {},
   "source": [
    "g. Suppose that you had not run the regression in part (f). Instead, you speak with a colleague to learn about heterogenous treatment effects. This colleague has access to a non-anonymized version of the same dataset and reports that he had looked at heterogenous effects of the ZMapp treatment by each of 10,000 different covariates to examine whether each predicted the effectiveness of ZMapp on each of 2,000 different indicators of health, for 20,000,000 different regressions in total. Across these 20,000,000 regressions your colleague ran, the treatment's interaction with gender on the outcome of temperature is the only heterogenous treatment effect that he found to be statistically significant. He reasons that this shows the importance of gender for understanding the effectiveness of the drug, because nothing else seemed to indicate why it worked. Bolstering his confidence, after looking at the data, he also returned to his medical textbooks and built a theory about why ZMapp interacts with processes only present in men to cure. Another doctor, unfamiliar with the data, hears his theory and finds it plausible. How likely do you think it is ZMapp works especially well for curing Ebola in men, and why? (This question is conceptual can be answered without performing any computation.)"
   ]
  },
  {
   "cell_type": "markdown",
   "metadata": {},
   "source": [
    "I would not trust the rationale employed by my colleague as there was no test on whether the estimated interaction effect could have occurred by chance. One approach could have been to apply randomize inference to derive p-values analytically.\n",
    "\n",
    "Perhaps more importantly, there was no prior hypothesis formulated prior building the model, rather my colleague just found whatever signal the data suggested and did selective research to find literature that align to his case, that would in my opinion render the analysis invalid."
   ]
  },
  {
   "cell_type": "markdown",
   "metadata": {},
   "source": [
    "h. Now, imagine that what described in part (g) did not happen, but that you had tested this heterogeneous treatment effect, and only this heterogeneous treatment effect, of your own accord. Would you be more or less inclined to believe that the heterogeneous treatment effect really exists? Why?"
   ]
  },
  {
   "cell_type": "markdown",
   "metadata": {},
   "source": [
    "I would be more inclined to believe there was heterogeneous effect given the hypothesis was advanced a priori."
   ]
  },
  {
   "cell_type": "markdown",
   "metadata": {},
   "source": [
    "i. Another colleague proposes that being of African descent causes one to be more likely to get Ebola. He asks you what ideal experiment would answer this question. What would you tell him?  (*Hint: refer to Chapter 1 of Mostly Harmless Econometrics.*)"
   ]
  },
  {
   "cell_type": "markdown",
   "metadata": {},
   "source": [
    "The ideal experiment proposed would be take into account the additional factors that could be correlated with the proposed covariate (i.e. being of African descent). Apart from randomization of course, you would want to block instead by contextual variables that are as little correlated as possible to being of african descent. For example, using income, level of education, assessment on the conditions of public health services on subject's area of residence would prove helpful to really isolate the true effects of confounding factors. "
   ]
  }
 ],
 "metadata": {
  "kernelspec": {
   "display_name": "R",
   "language": "R",
   "name": "ir"
  },
  "language_info": {
   "codemirror_mode": "r",
   "file_extension": ".r",
   "mimetype": "text/x-r-source",
   "name": "R",
   "pygments_lexer": "r",
   "version": "3.3.1"
  }
 },
 "nbformat": 4,
 "nbformat_minor": 2
}
