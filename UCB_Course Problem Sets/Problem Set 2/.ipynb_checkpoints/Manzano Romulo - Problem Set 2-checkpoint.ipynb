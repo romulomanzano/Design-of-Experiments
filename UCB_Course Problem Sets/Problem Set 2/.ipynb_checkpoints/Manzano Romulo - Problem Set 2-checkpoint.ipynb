{
 "cells": [
  {
   "cell_type": "markdown",
   "metadata": {},
   "source": [
    "# Problem Set 2"
   ]
  },
  {
   "cell_type": "markdown",
   "metadata": {},
   "source": [
    "## Experiments and Causality"
   ]
  },
  {
   "cell_type": "markdown",
   "metadata": {},
   "source": [
    "Romulo Manzano"
   ]
  },
  {
   "cell_type": "markdown",
   "metadata": {},
   "source": [
    "# 1.  FE exercise 3.6\n",
    "The Clingingsmith, Khwaja, and Kremer study discussed in section 3.5 may be be used to test the sharp null hypothesis that winning the visa lottery for the pilgrimage to Mecca had no effect on the views of Pakistani Muslims toward people from other countries. Assume that the Pakistani authorities assigned visas using complete random assignment. "
   ]
  },
  {
   "cell_type": "code",
   "execution_count": 95,
   "metadata": {
    "scrolled": true
   },
   "outputs": [
    {
     "data": {
      "text/html": [
       "<table>\n",
       "<thead><tr><th scope=col>success</th><th scope=col>views_saudi</th><th scope=col>views_indonesian</th><th scope=col>views_turkish</th><th scope=col>views_african</th><th scope=col>views_chinese</th><th scope=col>views_european</th><th scope=col>views</th></tr></thead>\n",
       "<tbody>\n",
       "\t<tr><td>0 </td><td>1 </td><td>1 </td><td>0 </td><td> 0</td><td>0 </td><td> 0</td><td>2 </td></tr>\n",
       "\t<tr><td>0 </td><td>1 </td><td>1 </td><td>0 </td><td>-1</td><td>1 </td><td>-1</td><td>1 </td></tr>\n",
       "\t<tr><td>0 </td><td>0 </td><td>0 </td><td>0 </td><td> 0</td><td>0 </td><td> 0</td><td>0 </td></tr>\n",
       "\t<tr><td>0 </td><td>2 </td><td>2 </td><td>0 </td><td> 0</td><td>1 </td><td> 0</td><td>5 </td></tr>\n",
       "\t<tr><td>0 </td><td>1 </td><td>1 </td><td>1 </td><td> 1</td><td>1 </td><td>-2</td><td>3 </td></tr>\n",
       "\t<tr><td>0 </td><td>2 </td><td>0 </td><td>0 </td><td> 0</td><td>0 </td><td> 0</td><td>2 </td></tr>\n",
       "</tbody>\n",
       "</table>\n"
      ],
      "text/latex": [
       "\\begin{tabular}{r|llllllll}\n",
       " success & views\\_saudi & views\\_indonesian & views\\_turkish & views\\_african & views\\_chinese & views\\_european & views\\\\\n",
       "\\hline\n",
       "\t 0  & 1  & 1  & 0  &  0 & 0  &  0 & 2 \\\\\n",
       "\t 0  & 1  & 1  & 0  & -1 & 1  & -1 & 1 \\\\\n",
       "\t 0  & 0  & 0  & 0  &  0 & 0  &  0 & 0 \\\\\n",
       "\t 0  & 2  & 2  & 0  &  0 & 1  &  0 & 5 \\\\\n",
       "\t 0  & 1  & 1  & 1  &  1 & 1  & -2 & 3 \\\\\n",
       "\t 0  & 2  & 0  & 0  &  0 & 0  &  0 & 2 \\\\\n",
       "\\end{tabular}\n"
      ],
      "text/markdown": [
       "\n",
       "success | views_saudi | views_indonesian | views_turkish | views_african | views_chinese | views_european | views | \n",
       "|---|---|---|---|---|---|\n",
       "| 0  | 1  | 1  | 0  |  0 | 0  |  0 | 2  | \n",
       "| 0  | 1  | 1  | 0  | -1 | 1  | -1 | 1  | \n",
       "| 0  | 0  | 0  | 0  |  0 | 0  |  0 | 0  | \n",
       "| 0  | 2  | 2  | 0  |  0 | 1  |  0 | 5  | \n",
       "| 0  | 1  | 1  | 1  |  1 | 1  | -2 | 3  | \n",
       "| 0  | 2  | 0  | 0  |  0 | 0  |  0 | 2  | \n",
       "\n",
       "\n"
      ],
      "text/plain": [
       "  success views_saudi views_indonesian views_turkish views_african\n",
       "1 0       1           1                0              0           \n",
       "2 0       1           1                0             -1           \n",
       "3 0       0           0                0              0           \n",
       "4 0       2           2                0              0           \n",
       "5 0       1           1                1              1           \n",
       "6 0       2           0                0              0           \n",
       "  views_chinese views_european views\n",
       "1 0              0             2    \n",
       "2 1             -1             1    \n",
       "3 0              0             0    \n",
       "4 1              0             5    \n",
       "5 1             -2             3    \n",
       "6 0              0             2    "
      ]
     },
     "metadata": {},
     "output_type": "display_data"
    }
   ],
   "source": [
    "d3.6 <- read.csv(\"./data/Clingingsmith.2009.csv\")\n",
    "head(d3.6)"
   ]
  },
  {
   "cell_type": "markdown",
   "metadata": {},
   "source": [
    "a. Conduct 10,000 simulated random assignments under the sharp null hypothesis. (Don't just copy the code from the async, think about how to write this yourself.) "
   ]
  },
  {
   "cell_type": "markdown",
   "metadata": {},
   "source": [
    "**Answer**"
   ]
  },
  {
   "cell_type": "markdown",
   "metadata": {},
   "source": [
    "Function to generate random assignment of the rows:"
   ]
  },
  {
   "cell_type": "code",
   "execution_count": 126,
   "metadata": {
    "collapsed": true
   },
   "outputs": [],
   "source": [
    "set.seed(23)\n",
    "randomize <- function() sample(c(0,1), nrow(d3.6), replace = TRUE)"
   ]
  },
  {
   "cell_type": "markdown",
   "metadata": {},
   "source": [
    "We then proceed to define a function that derives the ATE"
   ]
  },
  {
   "cell_type": "code",
   "execution_count": 129,
   "metadata": {
    "collapsed": true
   },
   "outputs": [],
   "source": [
    "ate <- function(dataset)\n",
    "    { return (mean(dataset[dataset$success==1,]$views) \n",
    "              - mean(dataset[dataset$success==0,]$views))\n",
    "     }"
   ]
  },
  {
   "cell_type": "markdown",
   "metadata": {},
   "source": [
    "Corroborating that the above function does result on the same ATE highlighted on the book (0.47)"
   ]
  },
  {
   "cell_type": "code",
   "execution_count": 130,
   "metadata": {
    "collapsed": true
   },
   "outputs": [],
   "source": [
    "originalATE <- ate(d3.6)"
   ]
  },
  {
   "cell_type": "code",
   "execution_count": 131,
   "metadata": {
    "collapsed": true
   },
   "outputs": [],
   "source": [
    "randomSimulationATE = function(x) {\n",
    "    trialX <- cbind(x)\n",
    "    trialX$success <- randomize()\n",
    "    effect <- ate(trialX)\n",
    "  return(effect)\n",
    "}"
   ]
  },
  {
   "cell_type": "code",
   "execution_count": 132,
   "metadata": {
    "collapsed": true,
    "scrolled": true
   },
   "outputs": [],
   "source": [
    "simulations <- c()\n",
    "for (i in seq(1,10000))\n",
    "    {\n",
    "    simulations[i] <- randomSimulationATE(d3.6)\n",
    "    }"
   ]
  },
  {
   "cell_type": "markdown",
   "metadata": {},
   "source": [
    "b. How many of the simulated random assignments generate an estimated ATE that is at least as large as the actual estimate of the ATE? "
   ]
  },
  {
   "cell_type": "markdown",
   "metadata": {},
   "source": [
    "**Answer**"
   ]
  },
  {
   "cell_type": "code",
   "execution_count": 133,
   "metadata": {},
   "outputs": [
    {
     "data": {
      "text/html": [
       "20"
      ],
      "text/latex": [
       "20"
      ],
      "text/markdown": [
       "20"
      ],
      "text/plain": [
       "[1] 20"
      ]
     },
     "metadata": {},
     "output_type": "display_data"
    }
   ],
   "source": [
    "sum(simulations >= originalATE)"
   ]
  },
  {
   "cell_type": "markdown",
   "metadata": {},
   "source": [
    "c. What is the implied one-tailed p-value? "
   ]
  },
  {
   "cell_type": "markdown",
   "metadata": {},
   "source": [
    "**Answer**"
   ]
  },
  {
   "cell_type": "code",
   "execution_count": 139,
   "metadata": {
    "scrolled": true
   },
   "outputs": [
    {
     "data": {
      "text/html": [
       "0.002"
      ],
      "text/latex": [
       "0.002"
      ],
      "text/markdown": [
       "0.002"
      ],
      "text/plain": [
       "[1] 0.002"
      ]
     },
     "metadata": {},
     "output_type": "display_data"
    }
   ],
   "source": [
    "mean(simulations > originalATE)"
   ]
  },
  {
   "cell_type": "markdown",
   "metadata": {},
   "source": [
    "Let's also observe the distribution of the results obtained"
   ]
  },
  {
   "cell_type": "code",
   "execution_count": 137,
   "metadata": {
    "scrolled": false
   },
   "outputs": [
    {
     "data": {
      "image/png": "[encoded data removed]",
      "text/plain": [
       "Plot with title \"density.default(x = simulations)\""
      ]
     },
     "metadata": {
      "image/svg+xml": {
       "isolated": true
      }
     },
     "output_type": "display_data"
    }
   ],
   "source": [
    "plot(density(simulations))\n",
    "abline(v=originalATE)"
   ]
  },
  {
   "cell_type": "markdown",
   "metadata": {},
   "source": [
    "d. How many of the simulated random assignments generate an estimated ATE that is at least as large *in absolute value* as the actual estimate of the ATE?"
   ]
  },
  {
   "cell_type": "markdown",
   "metadata": {},
   "source": [
    "**Answer**"
   ]
  },
  {
   "cell_type": "code",
   "execution_count": 136,
   "metadata": {},
   "outputs": [
    {
     "data": {
      "text/html": [
       "38"
      ],
      "text/latex": [
       "38"
      ],
      "text/markdown": [
       "38"
      ],
      "text/plain": [
       "[1] 38"
      ]
     },
     "metadata": {},
     "output_type": "display_data"
    }
   ],
   "source": [
    "sum(lapply(simulations,abs) >= abs(originalATE))"
   ]
  },
  {
   "cell_type": "markdown",
   "metadata": {},
   "source": [
    "e. What is the implied two-tailed p-value? "
   ]
  },
  {
   "cell_type": "markdown",
   "metadata": {},
   "source": [
    "**Answer**"
   ]
  },
  {
   "cell_type": "code",
   "execution_count": 140,
   "metadata": {},
   "outputs": [
    {
     "data": {
      "text/html": [
       "0.0038"
      ],
      "text/latex": [
       "0.0038"
      ],
      "text/markdown": [
       "0.0038"
      ],
      "text/plain": [
       "[1] 0.0038"
      ]
     },
     "metadata": {},
     "output_type": "display_data"
    }
   ],
   "source": [
    "mean(lapply(simulations,abs) > abs(originalATE))"
   ]
  },
  {
   "cell_type": "markdown",
   "metadata": {},
   "source": [
    "# 2.FE exercise 3.8\n",
    "Naturally occurring experiments sometimes involve what is, in effect, block random assignment. For example, Titiunik studies the effect of lotteries that determine whether state senators in TX and AR serve two-year or four-year terms in the aftermath of decennial redistricting. These lotteries are conducted within each state, and so there are effectively two distinct experiments on the effects of term length. An interesting outcome variable is the number of bills (legislative proposals) that each senator introduces during a legislative session. The table below lists the number of bills introduced by senators in both states during 2003. \n",
    "\n",
    "If you're interested, or would like more clarification, the published version of the paper is in the repository. \n"
   ]
  },
  {
   "cell_type": "code",
   "execution_count": 3,
   "metadata": {
    "scrolled": true
   },
   "outputs": [
    {
     "data": {
      "text/html": [
       "<table>\n",
       "<thead><tr><th scope=col>term2year</th><th scope=col>bills_introduced</th><th scope=col>texas0_arkansas1</th></tr></thead>\n",
       "<tbody>\n",
       "\t<tr><td>0 </td><td>18</td><td>0 </td></tr>\n",
       "\t<tr><td>0 </td><td>29</td><td>0 </td></tr>\n",
       "\t<tr><td>0 </td><td>41</td><td>0 </td></tr>\n",
       "\t<tr><td>0 </td><td>53</td><td>0 </td></tr>\n",
       "\t<tr><td>0 </td><td>60</td><td>0 </td></tr>\n",
       "\t<tr><td>0 </td><td>67</td><td>0 </td></tr>\n",
       "</tbody>\n",
       "</table>\n"
      ],
      "text/latex": [
       "\\begin{tabular}{r|lll}\n",
       " term2year & bills\\_introduced & texas0\\_arkansas1\\\\\n",
       "\\hline\n",
       "\t 0  & 18 & 0 \\\\\n",
       "\t 0  & 29 & 0 \\\\\n",
       "\t 0  & 41 & 0 \\\\\n",
       "\t 0  & 53 & 0 \\\\\n",
       "\t 0  & 60 & 0 \\\\\n",
       "\t 0  & 67 & 0 \\\\\n",
       "\\end{tabular}\n"
      ],
      "text/markdown": [
       "\n",
       "term2year | bills_introduced | texas0_arkansas1 | \n",
       "|---|---|---|---|---|---|\n",
       "| 0  | 18 | 0  | \n",
       "| 0  | 29 | 0  | \n",
       "| 0  | 41 | 0  | \n",
       "| 0  | 53 | 0  | \n",
       "| 0  | 60 | 0  | \n",
       "| 0  | 67 | 0  | \n",
       "\n",
       "\n"
      ],
      "text/plain": [
       "  term2year bills_introduced texas0_arkansas1\n",
       "1 0         18               0               \n",
       "2 0         29               0               \n",
       "3 0         41               0               \n",
       "4 0         53               0               \n",
       "5 0         60               0               \n",
       "6 0         67               0               "
      ]
     },
     "metadata": {},
     "output_type": "display_data"
    }
   ],
   "source": [
    "library(foreign)\n",
    "d3.8 <- read.dta(\"./data/Titiunik.2010.dta\")\n",
    "head(d3.8)"
   ]
  },
  {
   "cell_type": "markdown",
   "metadata": {},
   "source": [
    "a. For each state, estimate the effect of having a two-year term on the number of bills introduced. "
   ]
  },
  {
   "cell_type": "markdown",
   "metadata": {},
   "source": [
    "**Answer**"
   ]
  },
  {
   "cell_type": "markdown",
   "metadata": {},
   "source": [
    "First we define a function to calculate the differences in means for both treatment groups (term2year == 1 and term2year ==0 )"
   ]
  },
  {
   "cell_type": "code",
   "execution_count": 9,
   "metadata": {
    "collapsed": true
   },
   "outputs": [],
   "source": [
    "atePs2 <- function(dataset)\n",
    "    { return (mean(dataset[dataset$term2year==1,]$bills_introduced) \n",
    "              - mean(dataset[dataset$term2year==0,]$bills_introduced))\n",
    "     }"
   ]
  },
  {
   "cell_type": "markdown",
   "metadata": {},
   "source": [
    "**Texas** average treatment effect"
   ]
  },
  {
   "cell_type": "code",
   "execution_count": 17,
   "metadata": {},
   "outputs": [
    {
     "data": {
      "text/html": [
       "-16.7416666666667"
      ],
      "text/latex": [
       "-16.7416666666667"
      ],
      "text/markdown": [
       "-16.7416666666667"
      ],
      "text/plain": [
       "[1] -16.74167"
      ]
     },
     "metadata": {},
     "output_type": "display_data"
    }
   ],
   "source": [
    "texas <- d3.8[d3.8$texas0_arkansas1==0,]\n",
    "ateTX <- atePs2(texas)\n",
    "ateTX"
   ]
  },
  {
   "cell_type": "markdown",
   "metadata": {},
   "source": [
    "**Arkansas** average treatment effect"
   ]
  },
  {
   "cell_type": "code",
   "execution_count": 18,
   "metadata": {},
   "outputs": [
    {
     "data": {
      "text/html": [
       "-10.0947712418301"
      ],
      "text/latex": [
       "-10.0947712418301"
      ],
      "text/markdown": [
       "-10.0947712418301"
      ],
      "text/plain": [
       "[1] -10.09477"
      ]
     },
     "metadata": {},
     "output_type": "display_data"
    }
   ],
   "source": [
    "arkansas <- d3.8[d3.8$texas0_arkansas1==1,]\n",
    "ateAK <- atePs2(arkansas)\n",
    "ateAK"
   ]
  },
  {
   "cell_type": "markdown",
   "metadata": {},
   "source": [
    "b. For each state, estimate the standard error of the estimated ATE. "
   ]
  },
  {
   "cell_type": "markdown",
   "metadata": {},
   "source": [
    "**Answer**"
   ]
  },
  {
   "cell_type": "markdown",
   "metadata": {},
   "source": [
    "Let's start by defining a function to determine the standard error of the mean"
   ]
  },
  {
   "cell_type": "code",
   "execution_count": 28,
   "metadata": {
    "collapsed": true
   },
   "outputs": [],
   "source": [
    "stdErrorATEPs2 <- function(dataset)\n",
    "    { \n",
    "    m <- nrow(dataset[dataset$term2year==1,])\n",
    "    N <- nrow(dataset)\n",
    "    var_y0 <- var(dataset[dataset$term2year==0,]$bills_introduced)\n",
    "    var_y1 <- var(dataset[dataset$term2year==1,]$bills_introduced)\n",
    "    se <- sqrt((var_y0/(N-m)) + (var_y1/m))\n",
    "    return (se)\n",
    "    }"
   ]
  },
  {
   "cell_type": "markdown",
   "metadata": {},
   "source": [
    "**Texas**"
   ]
  },
  {
   "cell_type": "code",
   "execution_count": 30,
   "metadata": {},
   "outputs": [
    {
     "data": {
      "text/html": [
       "9.3458711493195"
      ],
      "text/latex": [
       "9.3458711493195"
      ],
      "text/markdown": [
       "9.3458711493195"
      ],
      "text/plain": [
       "[1] 9.345871"
      ]
     },
     "metadata": {},
     "output_type": "display_data"
    }
   ],
   "source": [
    "stdErrorATEPs2(texas)"
   ]
  },
  {
   "cell_type": "markdown",
   "metadata": {},
   "source": [
    "**Arkansas**"
   ]
  },
  {
   "cell_type": "code",
   "execution_count": 31,
   "metadata": {},
   "outputs": [
    {
     "data": {
      "text/html": [
       "3.3959791516933"
      ],
      "text/latex": [
       "3.3959791516933"
      ],
      "text/markdown": [
       "3.3959791516933"
      ],
      "text/plain": [
       "[1] 3.395979"
      ]
     },
     "metadata": {},
     "output_type": "display_data"
    }
   ],
   "source": [
    "stdErrorATEPs2(arkansas)"
   ]
  },
  {
   "cell_type": "markdown",
   "metadata": {},
   "source": [
    "c. Use equation (3.10) to estimate the overall ATE for both states combined. "
   ]
  },
  {
   "cell_type": "markdown",
   "metadata": {},
   "source": [
    "**Answer**"
   ]
  },
  {
   "cell_type": "code",
   "execution_count": 35,
   "metadata": {
    "collapsed": true
   },
   "outputs": [],
   "source": [
    "ateAcrossBlocks <- function(dataset)\n",
    "    {\n",
    "        N <- nrow(dataset)\n",
    "        arkansas <- dataset[dataset$texas0_arkansas1==1,]\n",
    "        arkansasN <- nrow(arkansas)\n",
    "        arkansasATE <- atePs2(arkansas)\n",
    "        texas <- dataset[dataset$texas0_arkansas1==0,]\n",
    "        texasN <- nrow(texas) \n",
    "        texasATE <- atePs2(texas)\n",
    "        return(((arkansasN/N)*arkansasATE)+((texasN/N)*texasATE))\n",
    "    }"
   ]
  },
  {
   "cell_type": "code",
   "execution_count": 36,
   "metadata": {},
   "outputs": [
    {
     "data": {
      "text/html": [
       "-13.2167978807685"
      ],
      "text/latex": [
       "-13.2167978807685"
      ],
      "text/markdown": [
       "-13.2167978807685"
      ],
      "text/plain": [
       "[1] -13.2168"
      ]
     },
     "metadata": {},
     "output_type": "display_data"
    }
   ],
   "source": [
    "ateAcrossBlocks(d3.8)"
   ]
  },
  {
   "cell_type": "markdown",
   "metadata": {},
   "source": [
    "d. Explain why, in this study, simply pooling the data for the two states and comparing the average number of bills introduced by two-year senators to the average number of bills introduced by four-year senators leads to biased estimate of the overall ATE. "
   ]
  },
  {
   "cell_type": "markdown",
   "metadata": {},
   "source": [
    "**Answer**\n",
    "\n",
    "Pooling across these two different states might indeed lead to biased estimates of the overall ATE for a couple of reasons. Primarily because the lottery process used to determine which senators will have a 2 vs a 4 year term could be inherintly different for each state - for example, existence of a placebo period during which senators begin their terms without precisely knowing whether it'd be 2 or 4 years log . Similarly, the expected number of bills introduced for any one state might be dependent on unique characteristics of the states themselves or even changes on the political agenda of the party dominating the state senate. These factors will render the populations within each state far from similar."
   ]
  },
  {
   "cell_type": "markdown",
   "metadata": {},
   "source": [
    "e. Insert the estimated standard errors into equation (3.12) to estimate the stand error for the overall ATE. "
   ]
  },
  {
   "cell_type": "markdown",
   "metadata": {},
   "source": [
    "**Answer**"
   ]
  },
  {
   "cell_type": "code",
   "execution_count": 40,
   "metadata": {
    "collapsed": true
   },
   "outputs": [],
   "source": [
    "seAcrossBlocks <- function(dataset)\n",
    "    {\n",
    "        N <- nrow(dataset)\n",
    "        arkansas <- dataset[dataset$texas0_arkansas1==1,]\n",
    "        arkansasN <- nrow(arkansas)\n",
    "        arkansasSE <- stdErrorATEPs2(arkansas)\n",
    "        texas <- dataset[dataset$texas0_arkansas1==0,]\n",
    "        texasN <- nrow(texas) \n",
    "        texasSE <- stdErrorATEPs2(texas)\n",
    "        return (sqrt((((arkansasN/N)^2) * (arkansasSE^2))+(((texasN/N)^2)*(texasSE^2))))\n",
    "    }"
   ]
  },
  {
   "cell_type": "code",
   "execution_count": 41,
   "metadata": {},
   "outputs": [
    {
     "data": {
      "text/html": [
       "4.74478029102726"
      ],
      "text/latex": [
       "4.74478029102726"
      ],
      "text/markdown": [
       "4.74478029102726"
      ],
      "text/plain": [
       "[1] 4.74478"
      ]
     },
     "metadata": {},
     "output_type": "display_data"
    }
   ],
   "source": [
    "seAcrossBlocks(d3.8)"
   ]
  },
  {
   "cell_type": "markdown",
   "metadata": {},
   "source": [
    "f. Use randomization inference to test the sharp null hypothesis that the treatment effect is zero for senators in both states."
   ]
  },
  {
   "cell_type": "code",
   "execution_count": 42,
   "metadata": {
    "collapsed": true
   },
   "outputs": [],
   "source": [
    "randomizePS2 <- function(size) sample(c(0,1), size, replace = TRUE)"
   ]
  },
  {
   "cell_type": "code",
   "execution_count": 43,
   "metadata": {
    "collapsed": true
   },
   "outputs": [],
   "source": [
    "randomSimulationATEPS2 = function(dataset) {\n",
    "    trialX <- cbind(dataset)\n",
    "    trialX$term2year <- randomizePS2(nrow(dataset))\n",
    "    effect <- atePs2(trialX)\n",
    "  return(effect)\n",
    "}"
   ]
  },
  {
   "cell_type": "markdown",
   "metadata": {},
   "source": [
    "**Texas**"
   ]
  },
  {
   "cell_type": "markdown",
   "metadata": {},
   "source": [
    "Since there is no explicit assumption on the directionality of the alternative hypothesis (term lenght does have an effect) we'll run a set of 10 thousand simulations and infer the p-value under a two tailed test at the 95% confidence level."
   ]
  },
  {
   "cell_type": "code",
   "execution_count": 60,
   "metadata": {
    "collapsed": true
   },
   "outputs": [],
   "source": [
    "simulationsTexas <- c()\n",
    "for (i in seq(1,10000))\n",
    "    {\n",
    "    simulationsTexas[i] <- randomSimulationATEPS2(texas)\n",
    "    }"
   ]
  },
  {
   "cell_type": "markdown",
   "metadata": {},
   "source": [
    "Two tailed p-value"
   ]
  },
  {
   "cell_type": "code",
   "execution_count": 65,
   "metadata": {},
   "outputs": [
    {
     "data": {
      "text/html": [
       "0.0928"
      ],
      "text/latex": [
       "0.0928"
      ],
      "text/markdown": [
       "0.0928"
      ],
      "text/plain": [
       "[1] 0.0928"
      ]
     },
     "metadata": {},
     "output_type": "display_data"
    }
   ],
   "source": [
    "mean(lapply(simulationsTexas,abs) > abs(ateTX))"
   ]
  },
  {
   "cell_type": "markdown",
   "metadata": {},
   "source": [
    "This means that we can't succesfully reject the null hypothesis at a 95% confidence level. In other words, the observed average effect for the realized randomization is within two standard deviations of the distribution generated via randomized inference, and it is likely the observed effect is the result of chance."
   ]
  },
  {
   "cell_type": "markdown",
   "metadata": {},
   "source": [
    "**Arkansas**"
   ]
  },
  {
   "cell_type": "code",
   "execution_count": 69,
   "metadata": {
    "collapsed": true
   },
   "outputs": [],
   "source": [
    "simulationsArkansas <- c()\n",
    "for (i in seq(1,10000))\n",
    "    {\n",
    "    simulationsArkansas[i] <- randomSimulationATEPS2(arkansas)\n",
    "    }"
   ]
  },
  {
   "cell_type": "markdown",
   "metadata": {},
   "source": [
    "Two tailed p-value"
   ]
  },
  {
   "cell_type": "code",
   "execution_count": 71,
   "metadata": {},
   "outputs": [
    {
     "data": {
      "text/html": [
       "0.0052"
      ],
      "text/latex": [
       "0.0052"
      ],
      "text/markdown": [
       "0.0052"
      ],
      "text/plain": [
       "[1] 0.0052"
      ]
     },
     "metadata": {},
     "output_type": "display_data"
    }
   ],
   "source": [
    "mean(lapply(simulationsArkansas,abs) > abs(ateAK))"
   ]
  },
  {
   "cell_type": "markdown",
   "metadata": {},
   "source": [
    "Unlike the case of TX, this means that we can succesfully reject the null hypothesis at a 95% confidence level. In other words, the observed average effect for the realized randomization is beyond two standard deviations of the distribution generated via randomized inference, and it is unlikely the observed effect is the result of chance."
   ]
  },
  {
   "cell_type": "markdown",
   "metadata": {},
   "source": [
    "g. **In Addition:** Plot histograms for both the treatment and control groups in each state (for 4 histograms in total)."
   ]
  },
  {
   "cell_type": "markdown",
   "metadata": {},
   "source": [
    "**Arkansas** treatment group (2yrs)"
   ]
  },
  {
   "cell_type": "code",
   "execution_count": 78,
   "metadata": {},
   "outputs": [
    {
     "data": {
      "image/png": "[encoded data removed]",
      "text/plain": [
       "Plot with title \"Arkansas, bills introduced for 2 yr term senators\""
      ]
     },
     "metadata": {
      "image/svg+xml": {
       "isolated": true
      }
     },
     "output_type": "display_data"
    }
   ],
   "source": [
    "hist(arkansas[arkansas$term2year==1,]$bills_introduced,\n",
    "     main = 'Arkansas, bills introduced for 2 yr term senators')"
   ]
  },
  {
   "cell_type": "code",
   "execution_count": 79,
   "metadata": {},
   "outputs": [
    {
     "data": {
      "image/png": "[encoded data removed]",
      "text/plain": [
       "Plot with title \"Arkansas, bills introduced for 4 yr term senators\""
      ]
     },
     "metadata": {
      "image/svg+xml": {
       "isolated": true
      }
     },
     "output_type": "display_data"
    }
   ],
   "source": [
    "hist(arkansas[arkansas$term2year==0,]$bills_introduced,\n",
    "     main = 'Arkansas, bills introduced for 4 yr term senators')"
   ]
  },
  {
   "cell_type": "code",
   "execution_count": 206,
   "metadata": {},
   "outputs": [
    {
     "data": {
      "image/png": "[encoded data removed]",
      "text/plain": [
       "Plot with title \"Texas, bills introduced for 2 yr term senators\""
      ]
     },
     "metadata": {
      "image/svg+xml": {
       "isolated": true
      }
     },
     "output_type": "display_data"
    }
   ],
   "source": [
    "hist(texas[texas$term2year==1,]$bills_introduced,\n",
    "     main = 'Texas, bills introduced for 2 yr term senators')"
   ]
  },
  {
   "cell_type": "code",
   "execution_count": 82,
   "metadata": {},
   "outputs": [
    {
     "data": {
      "image/png": "[encoded data removed]",
      "text/plain": [
       "Plot with title \"Texas, bills introduced for 4 yr term senators\""
      ]
     },
     "metadata": {
      "image/svg+xml": {
       "isolated": true
      }
     },
     "output_type": "display_data"
    }
   ],
   "source": [
    "hist(texas[texas$term2year==0,]$bills_introduced,\n",
    "     main = 'Texas, bills introduced for 4 yr term senators')"
   ]
  },
  {
   "cell_type": "markdown",
   "metadata": {},
   "source": [
    "# 3. FE exercise 3.11\n",
    "Use the data in table 3.3 to simulate cluster randomized assignment. <br>\n",
    "\n",
    "(*Notes: (a) Assume 3 clusters in treatment and 4 in control; and (b) When Gerber and Green say ``simulate'', they do not mean ``run simulations with R code'', but rather, in a casual sense ``take a look at what happens if you do this this way.'' There is no randomization inference necessary to complete this problem.*)"
   ]
  },
  {
   "cell_type": "code",
   "execution_count": 85,
   "metadata": {},
   "outputs": [
    {
     "data": {
      "text/html": [
       "<table>\n",
       "<thead><tr><th scope=col>Village</th><th scope=col>Y</th><th scope=col>D</th><th scope=col>Block</th></tr></thead>\n",
       "<tbody>\n",
       "\t<tr><td> 1</td><td> 0</td><td> 0</td><td>1 </td></tr>\n",
       "\t<tr><td> 2</td><td> 1</td><td> 0</td><td>1 </td></tr>\n",
       "\t<tr><td> 3</td><td> 2</td><td> 1</td><td>1 </td></tr>\n",
       "\t<tr><td> 4</td><td> 4</td><td> 2</td><td>1 </td></tr>\n",
       "\t<tr><td> 5</td><td> 4</td><td> 0</td><td>1 </td></tr>\n",
       "\t<tr><td> 6</td><td> 6</td><td> 0</td><td>1 </td></tr>\n",
       "\t<tr><td> 7</td><td> 6</td><td> 2</td><td>1 </td></tr>\n",
       "\t<tr><td> 8</td><td> 9</td><td> 3</td><td>1 </td></tr>\n",
       "\t<tr><td> 9</td><td>14</td><td>12</td><td>2 </td></tr>\n",
       "\t<tr><td>10</td><td>15</td><td> 9</td><td>2 </td></tr>\n",
       "\t<tr><td>11</td><td>16</td><td> 8</td><td>2 </td></tr>\n",
       "\t<tr><td>12</td><td>16</td><td>15</td><td>2 </td></tr>\n",
       "\t<tr><td>13</td><td>17</td><td> 5</td><td>2 </td></tr>\n",
       "\t<tr><td>14</td><td>18</td><td>17</td><td>2 </td></tr>\n",
       "</tbody>\n",
       "</table>\n"
      ],
      "text/latex": [
       "\\begin{tabular}{r|llll}\n",
       " Village & Y & D & Block\\\\\n",
       "\\hline\n",
       "\t  1 &  0 &  0 & 1 \\\\\n",
       "\t  2 &  1 &  0 & 1 \\\\\n",
       "\t  3 &  2 &  1 & 1 \\\\\n",
       "\t  4 &  4 &  2 & 1 \\\\\n",
       "\t  5 &  4 &  0 & 1 \\\\\n",
       "\t  6 &  6 &  0 & 1 \\\\\n",
       "\t  7 &  6 &  2 & 1 \\\\\n",
       "\t  8 &  9 &  3 & 1 \\\\\n",
       "\t  9 & 14 & 12 & 2 \\\\\n",
       "\t 10 & 15 &  9 & 2 \\\\\n",
       "\t 11 & 16 &  8 & 2 \\\\\n",
       "\t 12 & 16 & 15 & 2 \\\\\n",
       "\t 13 & 17 &  5 & 2 \\\\\n",
       "\t 14 & 18 & 17 & 2 \\\\\n",
       "\\end{tabular}\n"
      ],
      "text/markdown": [
       "\n",
       "Village | Y | D | Block | \n",
       "|---|---|---|---|---|---|---|---|---|---|---|---|---|---|\n",
       "|  1 |  0 |  0 | 1  | \n",
       "|  2 |  1 |  0 | 1  | \n",
       "|  3 |  2 |  1 | 1  | \n",
       "|  4 |  4 |  2 | 1  | \n",
       "|  5 |  4 |  0 | 1  | \n",
       "|  6 |  6 |  0 | 1  | \n",
       "|  7 |  6 |  2 | 1  | \n",
       "|  8 |  9 |  3 | 1  | \n",
       "|  9 | 14 | 12 | 2  | \n",
       "| 10 | 15 |  9 | 2  | \n",
       "| 11 | 16 |  8 | 2  | \n",
       "| 12 | 16 | 15 | 2  | \n",
       "| 13 | 17 |  5 | 2  | \n",
       "| 14 | 18 | 17 | 2  | \n",
       "\n",
       "\n"
      ],
      "text/plain": [
       "   Village Y  D  Block\n",
       "1   1       0  0 1    \n",
       "2   2       1  0 1    \n",
       "3   3       2  1 1    \n",
       "4   4       4  2 1    \n",
       "5   5       4  0 1    \n",
       "6   6       6  0 1    \n",
       "7   7       6  2 1    \n",
       "8   8       9  3 1    \n",
       "9   9      14 12 2    \n",
       "10 10      15  9 2    \n",
       "11 11      16  8 2    \n",
       "12 12      16 15 2    \n",
       "13 13      17  5 2    \n",
       "14 14      18 17 2    "
      ]
     },
     "metadata": {},
     "output_type": "display_data"
    }
   ],
   "source": [
    "d <- read.csv(\"./data/ggChapter3.csv\")\n",
    "d"
   ]
  },
  {
   "cell_type": "markdown",
   "metadata": {},
   "source": [
    "a. Suppose the clusters are formed by grouping observations {1,2}, {3,4}, {5,6}, ... , {13,14}. Use equation (3.22) to calculate the standard error assuming half of the clusters are randomly assigned to treatment. "
   ]
  },
  {
   "cell_type": "markdown",
   "metadata": {},
   "source": [
    "**Answer**"
   ]
  },
  {
   "cell_type": "markdown",
   "metadata": {},
   "source": [
    "**Assigning clusters and treatment groups**"
   ]
  },
  {
   "cell_type": "code",
   "execution_count": 107,
   "metadata": {
    "collapsed": true
   },
   "outputs": [],
   "source": [
    "randomClusterTreatment <- function(clusters,clusterSize)\n",
    "    {\n",
    "    return(rep(randomizePS2(clusters),each=clusterSize))\n",
    "}\n",
    "    "
   ]
  },
  {
   "cell_type": "code",
   "execution_count": 109,
   "metadata": {
    "scrolled": false
   },
   "outputs": [
    {
     "data": {
      "text/html": [
       "<table>\n",
       "<thead><tr><th scope=col>Village</th><th scope=col>Y</th><th scope=col>D</th><th scope=col>Block</th><th scope=col>cluster</th><th scope=col>treatment</th></tr></thead>\n",
       "<tbody>\n",
       "\t<tr><td> 1</td><td> 0</td><td> 0</td><td>1 </td><td>1 </td><td>0 </td></tr>\n",
       "\t<tr><td> 2</td><td> 1</td><td> 0</td><td>1 </td><td>1 </td><td>0 </td></tr>\n",
       "\t<tr><td> 3</td><td> 2</td><td> 1</td><td>1 </td><td>2 </td><td>1 </td></tr>\n",
       "\t<tr><td> 4</td><td> 4</td><td> 2</td><td>1 </td><td>2 </td><td>1 </td></tr>\n",
       "\t<tr><td> 5</td><td> 4</td><td> 0</td><td>1 </td><td>3 </td><td>1 </td></tr>\n",
       "\t<tr><td> 6</td><td> 6</td><td> 0</td><td>1 </td><td>3 </td><td>1 </td></tr>\n",
       "\t<tr><td> 7</td><td> 6</td><td> 2</td><td>1 </td><td>4 </td><td>0 </td></tr>\n",
       "\t<tr><td> 8</td><td> 9</td><td> 3</td><td>1 </td><td>4 </td><td>0 </td></tr>\n",
       "\t<tr><td> 9</td><td>14</td><td>12</td><td>2 </td><td>5 </td><td>1 </td></tr>\n",
       "\t<tr><td>10</td><td>15</td><td> 9</td><td>2 </td><td>5 </td><td>1 </td></tr>\n",
       "\t<tr><td>11</td><td>16</td><td> 8</td><td>2 </td><td>6 </td><td>0 </td></tr>\n",
       "\t<tr><td>12</td><td>16</td><td>15</td><td>2 </td><td>6 </td><td>0 </td></tr>\n",
       "\t<tr><td>13</td><td>17</td><td> 5</td><td>2 </td><td>7 </td><td>0 </td></tr>\n",
       "\t<tr><td>14</td><td>18</td><td>17</td><td>2 </td><td>7 </td><td>0 </td></tr>\n",
       "</tbody>\n",
       "</table>\n"
      ],
      "text/latex": [
       "\\begin{tabular}{r|llllll}\n",
       " Village & Y & D & Block & cluster & treatment\\\\\n",
       "\\hline\n",
       "\t  1 &  0 &  0 & 1  & 1  & 0 \\\\\n",
       "\t  2 &  1 &  0 & 1  & 1  & 0 \\\\\n",
       "\t  3 &  2 &  1 & 1  & 2  & 1 \\\\\n",
       "\t  4 &  4 &  2 & 1  & 2  & 1 \\\\\n",
       "\t  5 &  4 &  0 & 1  & 3  & 1 \\\\\n",
       "\t  6 &  6 &  0 & 1  & 3  & 1 \\\\\n",
       "\t  7 &  6 &  2 & 1  & 4  & 0 \\\\\n",
       "\t  8 &  9 &  3 & 1  & 4  & 0 \\\\\n",
       "\t  9 & 14 & 12 & 2  & 5  & 1 \\\\\n",
       "\t 10 & 15 &  9 & 2  & 5  & 1 \\\\\n",
       "\t 11 & 16 &  8 & 2  & 6  & 0 \\\\\n",
       "\t 12 & 16 & 15 & 2  & 6  & 0 \\\\\n",
       "\t 13 & 17 &  5 & 2  & 7  & 0 \\\\\n",
       "\t 14 & 18 & 17 & 2  & 7  & 0 \\\\\n",
       "\\end{tabular}\n"
      ],
      "text/markdown": [
       "\n",
       "Village | Y | D | Block | cluster | treatment | \n",
       "|---|---|---|---|---|---|---|---|---|---|---|---|---|---|\n",
       "|  1 |  0 |  0 | 1  | 1  | 0  | \n",
       "|  2 |  1 |  0 | 1  | 1  | 0  | \n",
       "|  3 |  2 |  1 | 1  | 2  | 1  | \n",
       "|  4 |  4 |  2 | 1  | 2  | 1  | \n",
       "|  5 |  4 |  0 | 1  | 3  | 1  | \n",
       "|  6 |  6 |  0 | 1  | 3  | 1  | \n",
       "|  7 |  6 |  2 | 1  | 4  | 0  | \n",
       "|  8 |  9 |  3 | 1  | 4  | 0  | \n",
       "|  9 | 14 | 12 | 2  | 5  | 1  | \n",
       "| 10 | 15 |  9 | 2  | 5  | 1  | \n",
       "| 11 | 16 |  8 | 2  | 6  | 0  | \n",
       "| 12 | 16 | 15 | 2  | 6  | 0  | \n",
       "| 13 | 17 |  5 | 2  | 7  | 0  | \n",
       "| 14 | 18 | 17 | 2  | 7  | 0  | \n",
       "\n",
       "\n"
      ],
      "text/plain": [
       "   Village Y  D  Block cluster treatment\n",
       "1   1       0  0 1     1       0        \n",
       "2   2       1  0 1     1       0        \n",
       "3   3       2  1 1     2       1        \n",
       "4   4       4  2 1     2       1        \n",
       "5   5       4  0 1     3       1        \n",
       "6   6       6  0 1     3       1        \n",
       "7   7       6  2 1     4       0        \n",
       "8   8       9  3 1     4       0        \n",
       "9   9      14 12 2     5       1        \n",
       "10 10      15  9 2     5       1        \n",
       "11 11      16  8 2     6       0        \n",
       "12 12      16 15 2     6       0        \n",
       "13 13      17  5 2     7       0        \n",
       "14 14      18 17 2     7       0        "
      ]
     },
     "metadata": {},
     "output_type": "display_data"
    }
   ],
   "source": [
    "dClusteredA <- cbind(d)\n",
    "dClusteredA$cluster <- c(1,1,2,2,3,3,4,4,5,5,6,6,7,7)\n",
    "dClusteredA$treatment <- randomClusterTreatment(7,2)\n",
    "dClusteredA"
   ]
  },
  {
   "cell_type": "code",
   "execution_count": 95,
   "metadata": {
    "collapsed": true
   },
   "outputs": [],
   "source": [
    "deriveClusterY0 <- function(dataset,cluster)\n",
    "    {\n",
    "        clusterSet <- cbind(dataset[dataset$cluster == cluster,])\n",
    "        return(mean(clusterSet$Y))\n",
    "    }\n",
    "deriveClusterY1 <- function(dataset,cluster)\n",
    "    {\n",
    "        clusterSet <- cbind(dataset[dataset$cluster == cluster,])\n",
    "        return(mean(clusterSet$D))\n",
    "    }"
   ]
  },
  {
   "cell_type": "code",
   "execution_count": 114,
   "metadata": {
    "collapsed": true
   },
   "outputs": [],
   "source": [
    "standardErrorCluster <- function(dataset,numClusters)\n",
    "    {\n",
    "    \n",
    "    vector_y0 <- c()\n",
    "    vector_y1 <- c()\n",
    "    for (i in seq(1,numClusters))\n",
    "        {\n",
    "        vector_y0[i] <- deriveClusterY0(dataset,i)\n",
    "        vector_y1[i] <- deriveClusterY1(dataset,i)\n",
    "        \n",
    "        }\n",
    "    n <- nrow(dataset)\n",
    "    m <- nrow(dataset[dataset$treatment == 1,])\n",
    "    var_y0 <- var(vector_y0)\n",
    "    var_y1 <- var(vector_y1)\n",
    "    cov_y <- cov(vector_y0,vector_y1)\n",
    "    k <- numClusters\n",
    "    \n",
    "    se <- sqrt((1/(k-1))*(((m*var_y0)/(n-m))+(((n-m)*var_y1)/m)+(2*cov_y)))\n",
    "    return(se)\n",
    "    }"
   ]
  },
  {
   "cell_type": "code",
   "execution_count": 115,
   "metadata": {},
   "outputs": [
    {
     "data": {
      "text/html": [
       "4.9189529255318"
      ],
      "text/latex": [
       "4.9189529255318"
      ],
      "text/markdown": [
       "4.9189529255318"
      ],
      "text/plain": [
       "[1] 4.918953"
      ]
     },
     "metadata": {},
     "output_type": "display_data"
    }
   ],
   "source": [
    "standardErrorCluster(dClusteredA,7)"
   ]
  },
  {
   "cell_type": "markdown",
   "metadata": {},
   "source": [
    "b. Suppose that clusters are instead formed by grouping observations {1,14}, {2,13}, {3,12}, ... , {7,8}. Use equation (3.22) to calculate the standard error assuming half of the clusters are randomly assigned to treatment. "
   ]
  },
  {
   "cell_type": "markdown",
   "metadata": {},
   "source": [
    "**Answer**"
   ]
  },
  {
   "cell_type": "code",
   "execution_count": 113,
   "metadata": {
    "scrolled": false
   },
   "outputs": [
    {
     "data": {
      "text/html": [
       "<table>\n",
       "<thead><tr><th scope=col>Village</th><th scope=col>Y</th><th scope=col>D</th><th scope=col>Block</th><th scope=col>cluster</th><th scope=col>treatment</th></tr></thead>\n",
       "<tbody>\n",
       "\t<tr><td> 1</td><td> 0</td><td> 0</td><td>1 </td><td>1 </td><td>0 </td></tr>\n",
       "\t<tr><td> 2</td><td> 1</td><td> 0</td><td>1 </td><td>2 </td><td>0 </td></tr>\n",
       "\t<tr><td> 3</td><td> 2</td><td> 1</td><td>1 </td><td>3 </td><td>1 </td></tr>\n",
       "\t<tr><td> 4</td><td> 4</td><td> 2</td><td>1 </td><td>4 </td><td>1 </td></tr>\n",
       "\t<tr><td> 5</td><td> 4</td><td> 0</td><td>1 </td><td>5 </td><td>1 </td></tr>\n",
       "\t<tr><td> 6</td><td> 6</td><td> 0</td><td>1 </td><td>6 </td><td>1 </td></tr>\n",
       "\t<tr><td> 7</td><td> 6</td><td> 2</td><td>1 </td><td>7 </td><td>1 </td></tr>\n",
       "\t<tr><td> 8</td><td> 9</td><td> 3</td><td>1 </td><td>7 </td><td>1 </td></tr>\n",
       "\t<tr><td> 9</td><td>14</td><td>12</td><td>2 </td><td>6 </td><td>1 </td></tr>\n",
       "\t<tr><td>10</td><td>15</td><td> 9</td><td>2 </td><td>5 </td><td>1 </td></tr>\n",
       "\t<tr><td>11</td><td>16</td><td> 8</td><td>2 </td><td>4 </td><td>1 </td></tr>\n",
       "\t<tr><td>12</td><td>16</td><td>15</td><td>2 </td><td>3 </td><td>1 </td></tr>\n",
       "\t<tr><td>13</td><td>17</td><td> 5</td><td>2 </td><td>2 </td><td>0 </td></tr>\n",
       "\t<tr><td>14</td><td>18</td><td>17</td><td>2 </td><td>1 </td><td>0 </td></tr>\n",
       "</tbody>\n",
       "</table>\n"
      ],
      "text/latex": [
       "\\begin{tabular}{r|llllll}\n",
       " Village & Y & D & Block & cluster & treatment\\\\\n",
       "\\hline\n",
       "\t  1 &  0 &  0 & 1  & 1  & 0 \\\\\n",
       "\t  2 &  1 &  0 & 1  & 2  & 0 \\\\\n",
       "\t  3 &  2 &  1 & 1  & 3  & 1 \\\\\n",
       "\t  4 &  4 &  2 & 1  & 4  & 1 \\\\\n",
       "\t  5 &  4 &  0 & 1  & 5  & 1 \\\\\n",
       "\t  6 &  6 &  0 & 1  & 6  & 1 \\\\\n",
       "\t  7 &  6 &  2 & 1  & 7  & 1 \\\\\n",
       "\t  8 &  9 &  3 & 1  & 7  & 1 \\\\\n",
       "\t  9 & 14 & 12 & 2  & 6  & 1 \\\\\n",
       "\t 10 & 15 &  9 & 2  & 5  & 1 \\\\\n",
       "\t 11 & 16 &  8 & 2  & 4  & 1 \\\\\n",
       "\t 12 & 16 & 15 & 2  & 3  & 1 \\\\\n",
       "\t 13 & 17 &  5 & 2  & 2  & 0 \\\\\n",
       "\t 14 & 18 & 17 & 2  & 1  & 0 \\\\\n",
       "\\end{tabular}\n"
      ],
      "text/markdown": [
       "\n",
       "Village | Y | D | Block | cluster | treatment | \n",
       "|---|---|---|---|---|---|---|---|---|---|---|---|---|---|\n",
       "|  1 |  0 |  0 | 1  | 1  | 0  | \n",
       "|  2 |  1 |  0 | 1  | 2  | 0  | \n",
       "|  3 |  2 |  1 | 1  | 3  | 1  | \n",
       "|  4 |  4 |  2 | 1  | 4  | 1  | \n",
       "|  5 |  4 |  0 | 1  | 5  | 1  | \n",
       "|  6 |  6 |  0 | 1  | 6  | 1  | \n",
       "|  7 |  6 |  2 | 1  | 7  | 1  | \n",
       "|  8 |  9 |  3 | 1  | 7  | 1  | \n",
       "|  9 | 14 | 12 | 2  | 6  | 1  | \n",
       "| 10 | 15 |  9 | 2  | 5  | 1  | \n",
       "| 11 | 16 |  8 | 2  | 4  | 1  | \n",
       "| 12 | 16 | 15 | 2  | 3  | 1  | \n",
       "| 13 | 17 |  5 | 2  | 2  | 0  | \n",
       "| 14 | 18 | 17 | 2  | 1  | 0  | \n",
       "\n",
       "\n"
      ],
      "text/plain": [
       "   Village Y  D  Block cluster treatment\n",
       "1   1       0  0 1     1       0        \n",
       "2   2       1  0 1     2       0        \n",
       "3   3       2  1 1     3       1        \n",
       "4   4       4  2 1     4       1        \n",
       "5   5       4  0 1     5       1        \n",
       "6   6       6  0 1     6       1        \n",
       "7   7       6  2 1     7       1        \n",
       "8   8       9  3 1     7       1        \n",
       "9   9      14 12 2     6       1        \n",
       "10 10      15  9 2     5       1        \n",
       "11 11      16  8 2     4       1        \n",
       "12 12      16 15 2     3       1        \n",
       "13 13      17  5 2     2       0        \n",
       "14 14      18 17 2     1       0        "
      ]
     },
     "metadata": {},
     "output_type": "display_data"
    }
   ],
   "source": [
    "dClusteredB <- cbind(d)\n",
    "dClusteredB$cluster <- c(1,2,3,4,5,6,7,7,6,5,4,3,2,1)\n",
    "dClusteredB$treatment <- randomClusterTreatment(7,2)\n",
    "dClusteredB"
   ]
  },
  {
   "cell_type": "code",
   "execution_count": 116,
   "metadata": {},
   "outputs": [
    {
     "data": {
      "text/html": [
       "0.958773190982117"
      ],
      "text/latex": [
       "0.958773190982117"
      ],
      "text/markdown": [
       "0.958773190982117"
      ],
      "text/plain": [
       "[1] 0.9587732"
      ]
     },
     "metadata": {},
     "output_type": "display_data"
    }
   ],
   "source": [
    "standardErrorCluster(dClusteredB,7)"
   ]
  },
  {
   "cell_type": "markdown",
   "metadata": {},
   "source": [
    "c. Why do the two methods of forming clusters lead to different standard errors? What are the implications for the design of cluster randomized experiments? "
   ]
  },
  {
   "cell_type": "markdown",
   "metadata": {},
   "source": [
    "**Answer** If you take a closer look at the data it seems to be sorted by Y_0, which means that forming clusters based on the sequence on which they appear on the dataset will pair subjects with lower Y0 together, as well as subjects with larger Y1. This in effects results in clusters that are on average very dissimilar from each other.\n",
    "\n",
    "In contrast, when creating clusters based on approach B, we are pairing lowest with highest creating clusters that on average have very similar Y0 (despite most clusters containing very dissimilar subjects). As a result, the standard error is smaller with the second approach as the treatment effects are on average closer than on the first assignment."
   ]
  },
  {
   "cell_type": "markdown",
   "metadata": {},
   "source": [
    "# 4. More Practice #1\n",
    "You are an employee of a newspaper and are planning an experiment to demonstrate to Apple that online advertising on your website causes people to buy iPhones. Each site visitor shown the ad campaign is exposed to $0.10 worth of advertising for iPhones. (Assume all users could see ads.) There are 1,000,000 users available to be shown ads on your newspaperâs website during the one week campaign. \n",
    "\n",
    "Apple indicates that they make a profit of $100 every time an iPhone sells and that 0.5% of visitors to your newspaperâs website buy an iPhone in a given week in general, in the absence of any advertising."
   ]
  },
  {
   "cell_type": "markdown",
   "metadata": {},
   "source": [
    "a. By how much does the ad campaign need to increase the probability of purchase in order to be âworth itâ and a positive ROI (supposing there are no long-run effects and all the effects are measured within that week)?"
   ]
  },
  {
   "cell_type": "markdown",
   "metadata": {},
   "source": [
    "**Answer**"
   ]
  },
  {
   "cell_type": "markdown",
   "metadata": {},
   "source": [
    "Assuming each user shown the add during the campaign will result in a 0.10 charge, the total cost of showing the add on all users will be 10,000 dollars. That means that for the campaign to have a possitive ROI it should generate at least 10,000 dollars of additional profit for Apple, which means at least an additional 100 iPhones should be sold."
   ]
  },
  {
   "cell_type": "markdown",
   "metadata": {},
   "source": [
    "That means the number of visitors that buy an iPhone should increase from 50 thousand (currently 0.05% of users buy) to 50,100 to break even, that means the probability of users buying an iPhone on the website should increase from 0.05% to 0.0501% for the campaign to be worthwhile"
   ]
  },
  {
   "cell_type": "markdown",
   "metadata": {},
   "source": [
    "b. Assume the measured effect is 0.2 percentage points. If users are split 50:50 between the treatment group (exposed to iPhone ads) and control group (exposed to unrelated advertising or nothing; something you can assume has no effect), what will be the confidence interval of your estimate on whether people purchase the phone?\n",
    "\n",
    "  + **Note:** The standard error for a two-sample proportion test is $\\sqrt{p(1-p)*(\\frac{1}{n_{1}}+\\frac{1}{n_{2}})}$ where $p=\\frac{x_{1}+x_{2}}{n_{1}+n_{2}}$, where $x$ and $n$ refer to the number of âsuccessesâ (here, purchases) over the number of âtrialsâ (here, site visits). The length of each tail of a 95% confidence interval is calculated by multiplying the standard error by 1.96."
   ]
  },
  {
   "cell_type": "code",
   "execution_count": 148,
   "metadata": {
    "collapsed": true
   },
   "outputs": [],
   "source": [
    "stdErrorQ4b <- function()\n",
    "    {\n",
    "    p <- (((0.005*500000) + (0.007*500000))/(500000+500000))\n",
    "    n_1_over_n <- (1/500000)\n",
    "    return (sqrt(p*(1-p)*(n_1_over_n+n_1_over_n)))\n",
    "}"
   ]
  },
  {
   "cell_type": "code",
   "execution_count": 149,
   "metadata": {},
   "outputs": [
    {
     "data": {
      "text/html": [
       "0.000302729598156507"
      ],
      "text/latex": [
       "0.000302729598156507"
      ],
      "text/markdown": [
       "0.000302729598156507"
      ],
      "text/plain": [
       "[1] 0.0003027296"
      ]
     },
     "metadata": {},
     "output_type": "display_data"
    }
   ],
   "source": [
    "1.96*stdErrorQ4b()"
   ]
  },
  {
   "cell_type": "markdown",
   "metadata": {},
   "source": [
    "**Answer**"
   ]
  },
  {
   "cell_type": "markdown",
   "metadata": {},
   "source": [
    "95% confidence interval of the estimate is +/- 0.03 (percentage points). i.e. (0.17,0.23)"
   ]
  },
  {
   "cell_type": "markdown",
   "metadata": {},
   "source": [
    "c. Is this confidence interval precise enough that you would recommend running this experiment? Why or why not?"
   ]
  },
  {
   "cell_type": "markdown",
   "metadata": {},
   "source": [
    "**Answer**\n",
    "\n",
    "This confidence interval is precise enough that I would recommend running the experiment given that the lower bound of the confidence interval is way higher than the minimum required probability increase to break even (0.001 percentage points) "
   ]
  },
  {
   "cell_type": "markdown",
   "metadata": {},
   "source": [
    "d. Your boss at the newspaper, worried about potential loss of revenue, says he is not willing to hold back a control group any larger than 1% of users. What would be the width of the confidence interval for this experiment if only 1% of users were placed in the control group?\n"
   ]
  },
  {
   "cell_type": "code",
   "execution_count": 161,
   "metadata": {
    "collapsed": true
   },
   "outputs": [],
   "source": [
    "stdErrorQ4d <- function()\n",
    "    {\n",
    "    p <- (((0.005*10000) + (0.007*990000))/(1000000))\n",
    "    n_1_over_n_control <- (1/10000)\n",
    "    n_1_over_n_treat <- (1/990000)\n",
    "    return (sqrt(p*(1-p)*(n_1_over_n_control+n_1_over_n_treat)))\n",
    "}"
   ]
  },
  {
   "cell_type": "code",
   "execution_count": 162,
   "metadata": {},
   "outputs": [
    {
     "data": {
      "text/html": [
       "0.00164000504160841"
      ],
      "text/latex": [
       "0.00164000504160841"
      ],
      "text/markdown": [
       "0.00164000504160841"
      ],
      "text/plain": [
       "[1] 0.001640005"
      ]
     },
     "metadata": {},
     "output_type": "display_data"
    }
   ],
   "source": [
    "1.96*stdErrorQ4d()"
   ]
  },
  {
   "cell_type": "markdown",
   "metadata": {},
   "source": [
    "95% confidence interval if only 1% of the users are held for control would be +/- 0.16 (percentage points). i.e. (0.04,0.36)"
   ]
  },
  {
   "cell_type": "markdown",
   "metadata": {},
   "source": [
    "# 5. More Practice #2\n",
    "Here you will find a set of data from an auction experiment by John List and David Lucking-Reiley ([2000](https://drive.google.com/file/d/0BxwM1dZBYvxBNThsWmFsY1AyNEE/view?usp=sharing)).  "
   ]
  },
  {
   "cell_type": "code",
   "execution_count": 166,
   "metadata": {},
   "outputs": [
    {
     "data": {
      "text/html": [
       "<table>\n",
       "<thead><tr><th scope=col>bid</th><th scope=col>uniform_price_auction</th></tr></thead>\n",
       "<tbody>\n",
       "\t<tr><td> 5</td><td>1 </td></tr>\n",
       "\t<tr><td> 5</td><td>1 </td></tr>\n",
       "\t<tr><td>20</td><td>0 </td></tr>\n",
       "\t<tr><td> 0</td><td>1 </td></tr>\n",
       "\t<tr><td>20</td><td>1 </td></tr>\n",
       "\t<tr><td> 0</td><td>1 </td></tr>\n",
       "</tbody>\n",
       "</table>\n"
      ],
      "text/latex": [
       "\\begin{tabular}{r|ll}\n",
       " bid & uniform\\_price\\_auction\\\\\n",
       "\\hline\n",
       "\t  5 & 1 \\\\\n",
       "\t  5 & 1 \\\\\n",
       "\t 20 & 0 \\\\\n",
       "\t  0 & 1 \\\\\n",
       "\t 20 & 1 \\\\\n",
       "\t  0 & 1 \\\\\n",
       "\\end{tabular}\n"
      ],
      "text/markdown": [
       "\n",
       "bid | uniform_price_auction | \n",
       "|---|---|---|---|---|---|\n",
       "|  5 | 1  | \n",
       "|  5 | 1  | \n",
       "| 20 | 0  | \n",
       "|  0 | 1  | \n",
       "| 20 | 1  | \n",
       "|  0 | 1  | \n",
       "\n",
       "\n"
      ],
      "text/plain": [
       "  bid uniform_price_auction\n",
       "1  5  1                    \n",
       "2  5  1                    \n",
       "3 20  0                    \n",
       "4  0  1                    \n",
       "5 20  1                    \n",
       "6  0  1                    "
      ]
     },
     "metadata": {},
     "output_type": "display_data"
    }
   ],
   "source": [
    "d2 <- read.csv(\"./data/listData.csv\")\n",
    "head(d2)"
   ]
  },
  {
   "cell_type": "markdown",
   "metadata": {},
   "source": [
    "In this experiment, the experimenters invited consumers at a sports card trading show to bid against one other bidder for a pair trading cards.  We abstract from the multi-unit-auction details here, and simply state that the treatment auction format was theoretically predicted to produce lower bids than the control auction format.  We provide you a relevant subset of data from the experiment."
   ]
  },
  {
   "cell_type": "markdown",
   "metadata": {},
   "source": [
    "a. Compute a 95% confidence interval for the difference between the treatment mean and the control mean, using analytic formulas for a two-sample t-test from your earlier statistics course. "
   ]
  },
  {
   "cell_type": "code",
   "execution_count": 171,
   "metadata": {
    "collapsed": true
   },
   "outputs": [],
   "source": [
    "sErrorQ5a <- function(data)\n",
    "    {\n",
    "    y0 <- cbind(data[data$uniform_price_auction==0,]$bid)\n",
    "    y1 <- cbind(data[data$uniform_price_auction==1,]$bid)\n",
    "    return (sqrt((var(y0)/(nrow(y0))) + (var(y1)/(nrow(y1)))))\n",
    "    }"
   ]
  },
  {
   "cell_type": "code",
   "execution_count": 178,
   "metadata": {
    "scrolled": true
   },
   "outputs": [
    {
     "data": {
      "text/html": [
       "<table>\n",
       "<tbody>\n",
       "\t<tr><td>4.326572</td></tr>\n",
       "</tbody>\n",
       "</table>\n"
      ],
      "text/latex": [
       "\\begin{tabular}{l}\n",
       "\t 4.326572\\\\\n",
       "\\end{tabular}\n"
      ],
      "text/markdown": [
       "\n",
       "| 4.326572 | \n",
       "\n",
       "\n"
      ],
      "text/plain": [
       "     [,1]    \n",
       "[1,] 4.326572"
      ]
     },
     "metadata": {},
     "output_type": "display_data"
    }
   ],
   "source": [
    "sErrorQ5a(d2)"
   ]
  },
  {
   "cell_type": "code",
   "execution_count": 179,
   "metadata": {},
   "outputs": [
    {
     "data": {
      "text/html": [
       "<table>\n",
       "<tbody>\n",
       "\t<tr><td>8.480081</td></tr>\n",
       "</tbody>\n",
       "</table>\n"
      ],
      "text/latex": [
       "\\begin{tabular}{l}\n",
       "\t 8.480081\\\\\n",
       "\\end{tabular}\n"
      ],
      "text/markdown": [
       "\n",
       "| 8.480081 | \n",
       "\n",
       "\n"
      ],
      "text/plain": [
       "     [,1]    \n",
       "[1,] 8.480081"
      ]
     },
     "metadata": {},
     "output_type": "display_data"
    }
   ],
   "source": [
    "sErrorQ5a(d2)*1.96"
   ]
  },
  {
   "cell_type": "code",
   "execution_count": 175,
   "metadata": {},
   "outputs": [
    {
     "data": {
      "text/html": [
       "-12.2058823529412"
      ],
      "text/latex": [
       "-12.2058823529412"
      ],
      "text/markdown": [
       "-12.2058823529412"
      ],
      "text/plain": [
       "[1] -12.20588"
      ]
     },
     "metadata": {},
     "output_type": "display_data"
    }
   ],
   "source": [
    "treatmentMean <- (mean(d2[d2$uniform_price_auction==1,]$bid)-mean(d2[d2$uniform_price_auction==0,]$bid))\n",
    "treatmentMean"
   ]
  },
  {
   "cell_type": "markdown",
   "metadata": {},
   "source": [
    "**Answer**"
   ]
  },
  {
   "cell_type": "markdown",
   "metadata": {},
   "source": [
    "-12.2058823529412 +/- 8.48 (20.69,-3.7259)"
   ]
  },
  {
   "cell_type": "markdown",
   "metadata": {},
   "source": [
    "b. In plain language, what does this confidence interval mean?"
   ]
  },
  {
   "cell_type": "markdown",
   "metadata": {},
   "source": [
    "**Answer** The confidence interval provides an estimate of the absolute difference on the average bid between the control and tratment groups. The lower and upper bounds describe the observed difference we could expect by chance (within 2 standard deviations in this case), thus providing a hepful reference to the significance of the observed effect. "
   ]
  },
  {
   "cell_type": "markdown",
   "metadata": {},
   "source": [
    "c. Regression on a binary treatment variable turns out to give one the same answer as the standard analytic formula you just used.  Demonstrate this by regressing the bid on a binary variable equal to 0 for the control auction and 1 for the treatment auction."
   ]
  },
  {
   "cell_type": "markdown",
   "metadata": {},
   "source": [
    "**Answer**"
   ]
  },
  {
   "cell_type": "markdown",
   "metadata": {},
   "source": [
    "Below we fit a simple regression model and observe the coefficients"
   ]
  },
  {
   "cell_type": "code",
   "execution_count": 180,
   "metadata": {},
   "outputs": [
    {
     "data": {
      "text/plain": [
       "\n",
       "Call:\n",
       "lm(formula = outcome ~ treatment)\n",
       "\n",
       "Residuals:\n",
       "    Min      1Q  Median      3Q     Max \n",
       "-28.824 -11.618  -3.221   8.382  58.382 \n",
       "\n",
       "Coefficients:\n",
       "            Estimate Std. Error t value Pr(>|t|)    \n",
       "(Intercept)   28.824      3.059   9.421 7.81e-14 ***\n",
       "treatment    -12.206      4.327  -2.821  0.00631 ** \n",
       "---\n",
       "Signif. codes:  0 '***' 0.001 '**' 0.01 '*' 0.05 '.' 0.1 ' ' 1\n",
       "\n",
       "Residual standard error: 17.84 on 66 degrees of freedom\n",
       "Multiple R-squared:  0.1076,\tAdjusted R-squared:  0.09409 \n",
       "F-statistic: 7.959 on 1 and 66 DF,  p-value: 0.006315\n"
      ]
     },
     "metadata": {},
     "output_type": "display_data"
    }
   ],
   "source": [
    "outcome <- cbind(d2$bid)\n",
    "treatment <- cbind(d2$uniform_price_auction)\n",
    "mdl <- (lm(outcome~treatment))\n",
    "summary(mdl)"
   ]
  },
  {
   "cell_type": "markdown",
   "metadata": {},
   "source": [
    "We see that the estimated coefficient as well as the standard error are consistent with the analytical implementation. (-12.206 ate and 4.327 std error)"
   ]
  },
  {
   "cell_type": "markdown",
   "metadata": {},
   "source": [
    "d. Calculate the 95% confidence interval you get from the regression."
   ]
  },
  {
   "cell_type": "code",
   "execution_count": 185,
   "metadata": {},
   "outputs": [
    {
     "data": {
      "text/html": [
       "<table>\n",
       "<thead><tr><th></th><th scope=col>2.5 %</th><th scope=col>97.5 %</th></tr></thead>\n",
       "<tbody>\n",
       "\t<tr><th scope=row>treatment</th><td>-20.84416</td><td>-3.567603</td></tr>\n",
       "</tbody>\n",
       "</table>\n"
      ],
      "text/latex": [
       "\\begin{tabular}{r|ll}\n",
       "  & 2.5 \\% & 97.5 \\%\\\\\n",
       "\\hline\n",
       "\ttreatment & -20.84416 & -3.567603\\\\\n",
       "\\end{tabular}\n"
      ],
      "text/markdown": [
       "\n",
       "| <!--/--> | 2.5 % | 97.5 % | \n",
       "|---|\n",
       "| treatment | -20.84416 | -3.567603 | \n",
       "\n",
       "\n"
      ],
      "text/plain": [
       "          2.5 %     97.5 %   \n",
       "treatment -20.84416 -3.567603"
      ]
     },
     "metadata": {},
     "output_type": "display_data"
    }
   ],
   "source": [
    "confint(mdl,'treatment')"
   ]
  },
  {
   "cell_type": "markdown",
   "metadata": {},
   "source": [
    "e. On to p-values. What p-value does the regression report? Note: please use two-tailed tests for the entire problem."
   ]
  },
  {
   "cell_type": "markdown",
   "metadata": {},
   "source": [
    "**Answer** 0.006315"
   ]
  },
  {
   "cell_type": "markdown",
   "metadata": {},
   "source": [
    "f. Now compute the same p-value using randomization inference."
   ]
  },
  {
   "cell_type": "markdown",
   "metadata": {},
   "source": [
    "**Answer** first we implement the randomization"
   ]
  },
  {
   "cell_type": "code",
   "execution_count": 190,
   "metadata": {
    "collapsed": true
   },
   "outputs": [],
   "source": [
    "ateQ5 <- function(data)\n",
    "    {\n",
    "    y0 <- cbind(data[data$uniform_price_auction==0,]$bid)\n",
    "    y1 <- cbind(data[data$uniform_price_auction==1,]$bid)\n",
    "    return (mean(y1) - mean(y0))\n",
    "    }"
   ]
  },
  {
   "cell_type": "code",
   "execution_count": 191,
   "metadata": {
    "collapsed": true
   },
   "outputs": [],
   "source": [
    "randomSimulationATEQ5 = function(dataset) {\n",
    "    trialX <- cbind(dataset)\n",
    "    trialX$uniform_price_auction <- randomizePS2(nrow(dataset))\n",
    "    effect <- ateQ5(trialX)\n",
    "  return(effect)\n",
    "}"
   ]
  },
  {
   "cell_type": "code",
   "execution_count": 194,
   "metadata": {
    "collapsed": true
   },
   "outputs": [],
   "source": [
    "simulationsQ5 <- c()\n",
    "for (i in seq(1,10000))\n",
    "    {\n",
    "    simulationsQ5[i] <- randomSimulationATEQ5(d2)\n",
    "    }"
   ]
  },
  {
   "cell_type": "markdown",
   "metadata": {},
   "source": [
    "Then we compute the p-value for a two sided test"
   ]
  },
  {
   "cell_type": "code",
   "execution_count": 195,
   "metadata": {},
   "outputs": [
    {
     "data": {
      "text/html": [
       "0.0062"
      ],
      "text/latex": [
       "0.0062"
      ],
      "text/markdown": [
       "0.0062"
      ],
      "text/plain": [
       "[1] 0.0062"
      ]
     },
     "metadata": {},
     "output_type": "display_data"
    }
   ],
   "source": [
    "mean(lapply(simulationsQ5,abs) > abs(ateQ5(d2)))"
   ]
  },
  {
   "cell_type": "markdown",
   "metadata": {},
   "source": [
    "The result by randomization inference is extremely close to that observed from the linear model."
   ]
  },
  {
   "cell_type": "markdown",
   "metadata": {},
   "source": [
    "g. Compute the same p-value again using analytic formulas for a two-sample t-test from your earlier statistics course. (Also see part (a).)"
   ]
  },
  {
   "cell_type": "markdown",
   "metadata": {},
   "source": [
    "**Answer**, the t-statistic can be calculated by dividing the ate by the standard error (derived as part of answer A"
   ]
  },
  {
   "cell_type": "code",
   "execution_count": 198,
   "metadata": {},
   "outputs": [
    {
     "data": {
      "text/html": [
       "<table>\n",
       "<tbody>\n",
       "\t<tr><td>-2.821144</td></tr>\n",
       "</tbody>\n",
       "</table>\n"
      ],
      "text/latex": [
       "\\begin{tabular}{l}\n",
       "\t -2.821144\\\\\n",
       "\\end{tabular}\n"
      ],
      "text/markdown": [
       "\n",
       "| -2.821144 | \n",
       "\n",
       "\n"
      ],
      "text/plain": [
       "     [,1]     \n",
       "[1,] -2.821144"
      ]
     },
     "metadata": {},
     "output_type": "display_data"
    }
   ],
   "source": [
    "t.value <- ateQ5(d2)/sErrorQ5a(d2)\n",
    "t.value "
   ]
  },
  {
   "cell_type": "markdown",
   "metadata": {},
   "source": [
    "We can then use the pt function in R to derive the pvalue for a given t statistic (times 2 to make it two tailed)"
   ]
  },
  {
   "cell_type": "code",
   "execution_count": 205,
   "metadata": {},
   "outputs": [
    {
     "data": {
      "text/html": [
       "<table>\n",
       "<tbody>\n",
       "\t<tr><td>0.006290505</td></tr>\n",
       "</tbody>\n",
       "</table>\n"
      ],
      "text/latex": [
       "\\begin{tabular}{l}\n",
       "\t 0.006290505\\\\\n",
       "\\end{tabular}\n"
      ],
      "text/markdown": [
       "\n",
       "| 0.006290505 | \n",
       "\n",
       "\n"
      ],
      "text/plain": [
       "     [,1]       \n",
       "[1,] 0.006290505"
      ]
     },
     "metadata": {},
     "output_type": "display_data"
    }
   ],
   "source": [
    "p.value = 2*pt(t.value , df=nrow(d2) - 1)\n",
    "p.value"
   ]
  },
  {
   "cell_type": "markdown",
   "metadata": {},
   "source": [
    "h. Compare the two p-values in parts (e) and (f). Are they much different? Why or why not? How might your answer to this question change if the sample size were different?"
   ]
  },
  {
   "cell_type": "markdown",
   "metadata": {},
   "source": [
    "**Answer**\n",
    "\n",
    "Values for both parts (e) and (f) are virtually identical. A significantly larger sample size  would have made the standard error estimates smaller rendering the differences in mean even more statistically significant. In other words, as n grows, the standard error will decrease."
   ]
  }
 ],
 "metadata": {
  "kernelspec": {
   "display_name": "R",
   "language": "R",
   "name": "ir"
  },
  "language_info": {
   "codemirror_mode": "r",
   "file_extension": ".r",
   "mimetype": "text/x-r-source",
   "name": "R",
   "pygments_lexer": "r",
   "version": "3.3.1"
  }
 },
 "nbformat": 4,
 "nbformat_minor": 2
}
